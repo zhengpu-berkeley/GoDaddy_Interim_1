{
 "cells": [
  {
   "cell_type": "code",
   "execution_count": 15,
   "metadata": {},
   "outputs": [],
   "source": [
    "county_level_kws = ['tax', 'loan', 'business', 'rent', 'college', 'apartments', 'office', 'insurance'] #e.g. \"XX county tax\"\n",
    "state_level_kws = ['tax', 'loan', 'business', 'rent', 'college', 'apartments', 'office', 'insurance', 'Business plan templates', 'Small business ideas', 'How to start a small business', 'office space for rent', 'website hosting service', 'freelancing', 'side hustle', 'ecommerce'] #e.g. \"tax\""
   ]
  },
  {
   "cell_type": "code",
   "execution_count": 6,
   "metadata": {},
   "outputs": [],
   "source": [
    "from pytrends.request import TrendReq\n",
    "from pathlib import Path\n",
    "import pandas as pd\n",
    "import math\n",
    "import time\n",
    "\n",
    "cfips = pd.read_csv(r'C:\\Users\\sbsla\\OneDrive\\Desktop\\Stat_222_Proj\\DATA\\cfips_to_county_name.csv')\n",
    "\n",
    "#Keywords to scrape\n",
    "county_level_kws = ['tax', 'loan', 'business', 'rent', 'college', 'apartments', 'office', 'insurance'] #e.g. \"XX county tax\"\n",
    "state_level_kws = ['tax', 'loan', 'business', 'rent', 'college', 'apartments', 'office', 'insurance', 'Business plan templates', 'Small business ideas', 'How to start a small business', 'office space for rent', 'website hosting service', 'freelancing', 'side hustle', 'ecommerce'] #e.g. \"tax\"\n",
    "\n",
    "#Connect to google\n",
    "pytrends = TrendReq(hl='en-US', tz=360)\n"
   ]
  },
  {
   "cell_type": "code",
   "execution_count": 37,
   "metadata": {},
   "outputs": [
    {
     "name": "stderr",
     "output_type": "stream",
     "text": [
      "C:\\Users\\sbsla\\AppData\\Local\\Temp\\ipykernel_10080\\1508961502.py:12: FutureWarning: Passing 'suffixes' which cause duplicate columns {'isPartial_x'} in the result is deprecated and will raise a MergeError in a future version.\n",
      "  df = df.merge(result, how = 'left', on = 'date')\n",
      "C:\\Users\\sbsla\\AppData\\Local\\Temp\\ipykernel_10080\\1508961502.py:12: FutureWarning: Passing 'suffixes' which cause duplicate columns {'isPartial_x'} in the result is deprecated and will raise a MergeError in a future version.\n",
      "  df = df.merge(result, how = 'left', on = 'date')\n",
      "C:\\Users\\sbsla\\AppData\\Local\\Temp\\ipykernel_10080\\1508961502.py:12: FutureWarning: Passing 'suffixes' which cause duplicate columns {'isPartial_x'} in the result is deprecated and will raise a MergeError in a future version.\n",
      "  df = df.merge(result, how = 'left', on = 'date')\n",
      "C:\\Users\\sbsla\\AppData\\Local\\Temp\\ipykernel_10080\\1508961502.py:12: FutureWarning: Passing 'suffixes' which cause duplicate columns {'isPartial_x'} in the result is deprecated and will raise a MergeError in a future version.\n",
      "  df = df.merge(result, how = 'left', on = 'date')\n",
      "C:\\Users\\sbsla\\AppData\\Local\\Temp\\ipykernel_10080\\1508961502.py:12: FutureWarning: Passing 'suffixes' which cause duplicate columns {'isPartial_x'} in the result is deprecated and will raise a MergeError in a future version.\n",
      "  df = df.merge(result, how = 'left', on = 'date')\n",
      "C:\\Users\\sbsla\\AppData\\Local\\Temp\\ipykernel_10080\\1508961502.py:12: FutureWarning: Passing 'suffixes' which cause duplicate columns {'isPartial_x'} in the result is deprecated and will raise a MergeError in a future version.\n",
      "  df = df.merge(result, how = 'left', on = 'date')\n",
      "C:\\Users\\sbsla\\AppData\\Local\\Temp\\ipykernel_10080\\1508961502.py:12: FutureWarning: Passing 'suffixes' which cause duplicate columns {'isPartial_x'} in the result is deprecated and will raise a MergeError in a future version.\n",
      "  df = df.merge(result, how = 'left', on = 'date')\n",
      "C:\\Users\\sbsla\\AppData\\Local\\Temp\\ipykernel_10080\\1508961502.py:12: FutureWarning: Passing 'suffixes' which cause duplicate columns {'isPartial_x'} in the result is deprecated and will raise a MergeError in a future version.\n",
      "  df = df.merge(result, how = 'left', on = 'date')\n",
      "C:\\Users\\sbsla\\AppData\\Local\\Temp\\ipykernel_10080\\1508961502.py:12: FutureWarning: Passing 'suffixes' which cause duplicate columns {'isPartial_x'} in the result is deprecated and will raise a MergeError in a future version.\n",
      "  df = df.merge(result, how = 'left', on = 'date')\n",
      "C:\\Users\\sbsla\\AppData\\Local\\Temp\\ipykernel_10080\\1508961502.py:12: FutureWarning: Passing 'suffixes' which cause duplicate columns {'isPartial_x'} in the result is deprecated and will raise a MergeError in a future version.\n",
      "  df = df.merge(result, how = 'left', on = 'date')\n",
      "C:\\Users\\sbsla\\AppData\\Local\\Temp\\ipykernel_10080\\1508961502.py:12: FutureWarning: Passing 'suffixes' which cause duplicate columns {'isPartial_x'} in the result is deprecated and will raise a MergeError in a future version.\n",
      "  df = df.merge(result, how = 'left', on = 'date')\n",
      "C:\\Users\\sbsla\\AppData\\Local\\Temp\\ipykernel_10080\\1508961502.py:12: FutureWarning: Passing 'suffixes' which cause duplicate columns {'isPartial_x'} in the result is deprecated and will raise a MergeError in a future version.\n",
      "  df = df.merge(result, how = 'left', on = 'date')\n",
      "C:\\Users\\sbsla\\AppData\\Local\\Temp\\ipykernel_10080\\1508961502.py:12: FutureWarning: Passing 'suffixes' which cause duplicate columns {'isPartial_x'} in the result is deprecated and will raise a MergeError in a future version.\n",
      "  df = df.merge(result, how = 'left', on = 'date')\n",
      "C:\\Users\\sbsla\\AppData\\Local\\Temp\\ipykernel_10080\\1508961502.py:12: FutureWarning: Passing 'suffixes' which cause duplicate columns {'isPartial_x'} in the result is deprecated and will raise a MergeError in a future version.\n",
      "  df = df.merge(result, how = 'left', on = 'date')\n",
      "C:\\Users\\sbsla\\AppData\\Local\\Temp\\ipykernel_10080\\1508961502.py:12: FutureWarning: Passing 'suffixes' which cause duplicate columns {'isPartial_x'} in the result is deprecated and will raise a MergeError in a future version.\n",
      "  df = df.merge(result, how = 'left', on = 'date')\n",
      "C:\\Users\\sbsla\\AppData\\Local\\Temp\\ipykernel_10080\\1508961502.py:12: FutureWarning: Passing 'suffixes' which cause duplicate columns {'isPartial_x'} in the result is deprecated and will raise a MergeError in a future version.\n",
      "  df = df.merge(result, how = 'left', on = 'date')\n",
      "C:\\Users\\sbsla\\AppData\\Local\\Temp\\ipykernel_10080\\1508961502.py:12: FutureWarning: Passing 'suffixes' which cause duplicate columns {'isPartial_x'} in the result is deprecated and will raise a MergeError in a future version.\n",
      "  df = df.merge(result, how = 'left', on = 'date')\n",
      "C:\\Users\\sbsla\\AppData\\Local\\Temp\\ipykernel_10080\\1508961502.py:12: FutureWarning: Passing 'suffixes' which cause duplicate columns {'isPartial_x'} in the result is deprecated and will raise a MergeError in a future version.\n",
      "  df = df.merge(result, how = 'left', on = 'date')\n",
      "C:\\Users\\sbsla\\AppData\\Local\\Temp\\ipykernel_10080\\1508961502.py:12: FutureWarning: Passing 'suffixes' which cause duplicate columns {'isPartial_x'} in the result is deprecated and will raise a MergeError in a future version.\n",
      "  df = df.merge(result, how = 'left', on = 'date')\n",
      "C:\\Users\\sbsla\\AppData\\Local\\Temp\\ipykernel_10080\\1508961502.py:12: FutureWarning: Passing 'suffixes' which cause duplicate columns {'isPartial_x'} in the result is deprecated and will raise a MergeError in a future version.\n",
      "  df = df.merge(result, how = 'left', on = 'date')\n",
      "C:\\Users\\sbsla\\AppData\\Local\\Temp\\ipykernel_10080\\1508961502.py:12: FutureWarning: Passing 'suffixes' which cause duplicate columns {'isPartial_x'} in the result is deprecated and will raise a MergeError in a future version.\n",
      "  df = df.merge(result, how = 'left', on = 'date')\n",
      "C:\\Users\\sbsla\\AppData\\Local\\Temp\\ipykernel_10080\\1508961502.py:12: FutureWarning: Passing 'suffixes' which cause duplicate columns {'isPartial_x'} in the result is deprecated and will raise a MergeError in a future version.\n",
      "  df = df.merge(result, how = 'left', on = 'date')\n",
      "C:\\Users\\sbsla\\AppData\\Local\\Temp\\ipykernel_10080\\1508961502.py:12: FutureWarning: Passing 'suffixes' which cause duplicate columns {'isPartial_x'} in the result is deprecated and will raise a MergeError in a future version.\n",
      "  df = df.merge(result, how = 'left', on = 'date')\n",
      "C:\\Users\\sbsla\\AppData\\Local\\Temp\\ipykernel_10080\\1508961502.py:12: FutureWarning: Passing 'suffixes' which cause duplicate columns {'isPartial_x'} in the result is deprecated and will raise a MergeError in a future version.\n",
      "  df = df.merge(result, how = 'left', on = 'date')\n",
      "C:\\Users\\sbsla\\AppData\\Local\\Temp\\ipykernel_10080\\1508961502.py:12: FutureWarning: Passing 'suffixes' which cause duplicate columns {'isPartial_x'} in the result is deprecated and will raise a MergeError in a future version.\n",
      "  df = df.merge(result, how = 'left', on = 'date')\n",
      "C:\\Users\\sbsla\\AppData\\Local\\Temp\\ipykernel_10080\\1508961502.py:12: FutureWarning: Passing 'suffixes' which cause duplicate columns {'isPartial_x'} in the result is deprecated and will raise a MergeError in a future version.\n",
      "  df = df.merge(result, how = 'left', on = 'date')\n",
      "C:\\Users\\sbsla\\AppData\\Local\\Temp\\ipykernel_10080\\1508961502.py:12: FutureWarning: Passing 'suffixes' which cause duplicate columns {'isPartial_x'} in the result is deprecated and will raise a MergeError in a future version.\n",
      "  df = df.merge(result, how = 'left', on = 'date')\n",
      "C:\\Users\\sbsla\\AppData\\Local\\Temp\\ipykernel_10080\\1508961502.py:12: FutureWarning: Passing 'suffixes' which cause duplicate columns {'isPartial_x'} in the result is deprecated and will raise a MergeError in a future version.\n",
      "  df = df.merge(result, how = 'left', on = 'date')\n",
      "C:\\Users\\sbsla\\AppData\\Local\\Temp\\ipykernel_10080\\1508961502.py:12: FutureWarning: Passing 'suffixes' which cause duplicate columns {'isPartial_x'} in the result is deprecated and will raise a MergeError in a future version.\n",
      "  df = df.merge(result, how = 'left', on = 'date')\n",
      "C:\\Users\\sbsla\\AppData\\Local\\Temp\\ipykernel_10080\\1508961502.py:12: FutureWarning: Passing 'suffixes' which cause duplicate columns {'isPartial_x'} in the result is deprecated and will raise a MergeError in a future version.\n",
      "  df = df.merge(result, how = 'left', on = 'date')\n",
      "C:\\Users\\sbsla\\AppData\\Local\\Temp\\ipykernel_10080\\1508961502.py:12: FutureWarning: Passing 'suffixes' which cause duplicate columns {'isPartial_x'} in the result is deprecated and will raise a MergeError in a future version.\n",
      "  df = df.merge(result, how = 'left', on = 'date')\n",
      "C:\\Users\\sbsla\\AppData\\Local\\Temp\\ipykernel_10080\\1508961502.py:12: FutureWarning: Passing 'suffixes' which cause duplicate columns {'isPartial_x'} in the result is deprecated and will raise a MergeError in a future version.\n",
      "  df = df.merge(result, how = 'left', on = 'date')\n",
      "C:\\Users\\sbsla\\AppData\\Local\\Temp\\ipykernel_10080\\1508961502.py:12: FutureWarning: Passing 'suffixes' which cause duplicate columns {'isPartial_x'} in the result is deprecated and will raise a MergeError in a future version.\n",
      "  df = df.merge(result, how = 'left', on = 'date')\n",
      "C:\\Users\\sbsla\\AppData\\Local\\Temp\\ipykernel_10080\\1508961502.py:12: FutureWarning: Passing 'suffixes' which cause duplicate columns {'isPartial_x'} in the result is deprecated and will raise a MergeError in a future version.\n",
      "  df = df.merge(result, how = 'left', on = 'date')\n",
      "C:\\Users\\sbsla\\AppData\\Local\\Temp\\ipykernel_10080\\1508961502.py:12: FutureWarning: Passing 'suffixes' which cause duplicate columns {'isPartial_x'} in the result is deprecated and will raise a MergeError in a future version.\n",
      "  df = df.merge(result, how = 'left', on = 'date')\n",
      "C:\\Users\\sbsla\\AppData\\Local\\Temp\\ipykernel_10080\\1508961502.py:12: FutureWarning: Passing 'suffixes' which cause duplicate columns {'isPartial_x'} in the result is deprecated and will raise a MergeError in a future version.\n",
      "  df = df.merge(result, how = 'left', on = 'date')\n",
      "C:\\Users\\sbsla\\AppData\\Local\\Temp\\ipykernel_10080\\1508961502.py:12: FutureWarning: Passing 'suffixes' which cause duplicate columns {'isPartial_x'} in the result is deprecated and will raise a MergeError in a future version.\n",
      "  df = df.merge(result, how = 'left', on = 'date')\n",
      "C:\\Users\\sbsla\\AppData\\Local\\Temp\\ipykernel_10080\\1508961502.py:12: FutureWarning: Passing 'suffixes' which cause duplicate columns {'isPartial_x'} in the result is deprecated and will raise a MergeError in a future version.\n",
      "  df = df.merge(result, how = 'left', on = 'date')\n",
      "C:\\Users\\sbsla\\AppData\\Local\\Temp\\ipykernel_10080\\1508961502.py:12: FutureWarning: Passing 'suffixes' which cause duplicate columns {'isPartial_x'} in the result is deprecated and will raise a MergeError in a future version.\n",
      "  df = df.merge(result, how = 'left', on = 'date')\n",
      "C:\\Users\\sbsla\\AppData\\Local\\Temp\\ipykernel_10080\\1508961502.py:12: FutureWarning: Passing 'suffixes' which cause duplicate columns {'isPartial_x'} in the result is deprecated and will raise a MergeError in a future version.\n",
      "  df = df.merge(result, how = 'left', on = 'date')\n",
      "C:\\Users\\sbsla\\AppData\\Local\\Temp\\ipykernel_10080\\1508961502.py:12: FutureWarning: Passing 'suffixes' which cause duplicate columns {'isPartial_x'} in the result is deprecated and will raise a MergeError in a future version.\n",
      "  df = df.merge(result, how = 'left', on = 'date')\n",
      "C:\\Users\\sbsla\\AppData\\Local\\Temp\\ipykernel_10080\\1508961502.py:12: FutureWarning: Passing 'suffixes' which cause duplicate columns {'isPartial_x'} in the result is deprecated and will raise a MergeError in a future version.\n",
      "  df = df.merge(result, how = 'left', on = 'date')\n",
      "C:\\Users\\sbsla\\AppData\\Local\\Temp\\ipykernel_10080\\1508961502.py:12: FutureWarning: Passing 'suffixes' which cause duplicate columns {'isPartial_x'} in the result is deprecated and will raise a MergeError in a future version.\n",
      "  df = df.merge(result, how = 'left', on = 'date')\n",
      "C:\\Users\\sbsla\\AppData\\Local\\Temp\\ipykernel_10080\\1508961502.py:12: FutureWarning: Passing 'suffixes' which cause duplicate columns {'isPartial_x'} in the result is deprecated and will raise a MergeError in a future version.\n",
      "  df = df.merge(result, how = 'left', on = 'date')\n",
      "C:\\Users\\sbsla\\AppData\\Local\\Temp\\ipykernel_10080\\1508961502.py:12: FutureWarning: Passing 'suffixes' which cause duplicate columns {'isPartial_x'} in the result is deprecated and will raise a MergeError in a future version.\n",
      "  df = df.merge(result, how = 'left', on = 'date')\n",
      "C:\\Users\\sbsla\\AppData\\Local\\Temp\\ipykernel_10080\\1508961502.py:12: FutureWarning: Passing 'suffixes' which cause duplicate columns {'isPartial_x'} in the result is deprecated and will raise a MergeError in a future version.\n",
      "  df = df.merge(result, how = 'left', on = 'date')\n",
      "C:\\Users\\sbsla\\AppData\\Local\\Temp\\ipykernel_10080\\1508961502.py:12: FutureWarning: Passing 'suffixes' which cause duplicate columns {'isPartial_x'} in the result is deprecated and will raise a MergeError in a future version.\n",
      "  df = df.merge(result, how = 'left', on = 'date')\n",
      "C:\\Users\\sbsla\\AppData\\Local\\Temp\\ipykernel_10080\\1508961502.py:12: FutureWarning: Passing 'suffixes' which cause duplicate columns {'isPartial_x'} in the result is deprecated and will raise a MergeError in a future version.\n",
      "  df = df.merge(result, how = 'left', on = 'date')\n",
      "C:\\Users\\sbsla\\AppData\\Local\\Temp\\ipykernel_10080\\1508961502.py:12: FutureWarning: Passing 'suffixes' which cause duplicate columns {'isPartial_x'} in the result is deprecated and will raise a MergeError in a future version.\n",
      "  df = df.merge(result, how = 'left', on = 'date')\n",
      "C:\\Users\\sbsla\\AppData\\Local\\Temp\\ipykernel_10080\\1508961502.py:12: FutureWarning: Passing 'suffixes' which cause duplicate columns {'isPartial_x'} in the result is deprecated and will raise a MergeError in a future version.\n",
      "  df = df.merge(result, how = 'left', on = 'date')\n",
      "C:\\Users\\sbsla\\AppData\\Local\\Temp\\ipykernel_10080\\1508961502.py:12: FutureWarning: Passing 'suffixes' which cause duplicate columns {'isPartial_x'} in the result is deprecated and will raise a MergeError in a future version.\n",
      "  df = df.merge(result, how = 'left', on = 'date')\n"
     ]
    }
   ],
   "source": [
    "#Pulls state level keywords for each state\n",
    "\n",
    "states_output = dict()\n",
    "for state in set(cfips['state']):\n",
    "    num = math.ceil(len(state_level_kws)/5)\n",
    "    df = pd.DataFrame()\n",
    "    for i in range(0,num):\n",
    "        keywords = state_level_kws[i*5:min(len(state_level_kws),i*5+5)]\n",
    "        pytrends.build_payload(keywords, timeframe='today 5-y', geo=f'US-{state}')\n",
    "        if i == 0:\n",
    "            df = pytrends.interest_over_time()\n",
    "            df.drop(columns=['isPartial'], inplace=True)\n",
    "        else:\n",
    "            result = pytrends.interest_over_time()\n",
    "            result.drop(columns=['isPartial'], inplace=True)\n",
    "            df = df.merge(result, how = 'left', on = 'date')\n",
    "        time.sleep(6)\n",
    "    states_output[state] = df"
   ]
  },
  {
   "cell_type": "code",
   "execution_count": 42,
   "metadata": {},
   "outputs": [],
   "source": [
    "#stupid helper function I wrote to get the dates column\n",
    "\n",
    "def get_dates():\n",
    "    pytrends.build_payload(['dog'], timeframe='today 5-y', geo=f'US')\n",
    "    df = pytrends.interest_over_time()\n",
    "    df.drop(columns = ['dog'], inplace = True)\n",
    "    return df"
   ]
  },
  {
   "cell_type": "code",
   "execution_count": 55,
   "metadata": {},
   "outputs": [
    {
     "ename": "KeyboardInterrupt",
     "evalue": "",
     "output_type": "error",
     "traceback": [
      "\u001b[1;31m---------------------------------------------------------------------------\u001b[0m",
      "\u001b[1;31mKeyboardInterrupt\u001b[0m                         Traceback (most recent call last)",
      "\u001b[1;32m~\\AppData\\Local\\Temp\\ipykernel_12964\\1799861988.py\u001b[0m in \u001b[0;36m<cell line: 3>\u001b[1;34m()\u001b[0m\n\u001b[0;32m     15\u001b[0m             \u001b[0mdf\u001b[0m\u001b[1;33m.\u001b[0m\u001b[0mdrop\u001b[0m\u001b[1;33m(\u001b[0m\u001b[0mcolumns\u001b[0m\u001b[1;33m=\u001b[0m\u001b[1;33m[\u001b[0m\u001b[1;34m'isPartial'\u001b[0m\u001b[1;33m]\u001b[0m\u001b[1;33m,\u001b[0m \u001b[0minplace\u001b[0m\u001b[1;33m=\u001b[0m\u001b[1;32mTrue\u001b[0m\u001b[1;33m)\u001b[0m\u001b[1;33m\u001b[0m\u001b[1;33m\u001b[0m\u001b[0m\n\u001b[0;32m     16\u001b[0m             \u001b[0moutput\u001b[0m \u001b[1;33m=\u001b[0m \u001b[0moutput\u001b[0m\u001b[1;33m.\u001b[0m\u001b[0mmerge\u001b[0m\u001b[1;33m(\u001b[0m\u001b[0mdf\u001b[0m\u001b[1;33m,\u001b[0m \u001b[0mhow\u001b[0m \u001b[1;33m=\u001b[0m \u001b[1;34m'left'\u001b[0m\u001b[1;33m,\u001b[0m \u001b[0mon\u001b[0m \u001b[1;33m=\u001b[0m \u001b[1;34m'date'\u001b[0m\u001b[1;33m)\u001b[0m\u001b[1;33m\u001b[0m\u001b[1;33m\u001b[0m\u001b[0m\n\u001b[1;32m---> 17\u001b[1;33m         \u001b[0mtime\u001b[0m\u001b[1;33m.\u001b[0m\u001b[0msleep\u001b[0m\u001b[1;33m(\u001b[0m\u001b[1;36m1\u001b[0m\u001b[1;33m)\u001b[0m\u001b[1;33m\u001b[0m\u001b[1;33m\u001b[0m\u001b[0m\n\u001b[0m\u001b[0;32m     18\u001b[0m     \u001b[0mcounties_output\u001b[0m\u001b[1;33m[\u001b[0m\u001b[1;34mf'{county_name} {state}'\u001b[0m\u001b[1;33m]\u001b[0m \u001b[1;33m=\u001b[0m \u001b[0moutput\u001b[0m\u001b[1;33m\u001b[0m\u001b[1;33m\u001b[0m\u001b[0m\n",
      "\u001b[1;31mKeyboardInterrupt\u001b[0m: "
     ]
    }
   ],
   "source": [
    "#Pulls county level keywords for each county\n",
    "\n",
    "dates = get_dates() #is the seed for successive merging\n",
    "counties_output = dict()\n",
    "for i in range(0,len(cfips)):\n",
    "    state = cfips['state'][i]\n",
    "    county_name = cfips['county_name'][i]\n",
    "    num = math.ceil(len(county_level_kws)/5)\n",
    "    df = pd.DataFrame()\n",
    "    output = dates.copy()\n",
    "    for i in range(0,num):\n",
    "        keywords = county_level_kws[i*5:min(len(state_level_kws),i*5+5)]\n",
    "        keywords = [county_name + ' ' + keyword for keyword in keywords]\n",
    "        pytrends.build_payload(keywords, timeframe='today 5-y', geo=f'US-{state}')\n",
    "        df = pytrends.interest_over_time()\n",
    "        if len(df) != 0:\n",
    "            df.drop(columns=['isPartial'], inplace=True)\n",
    "            output = output.merge(df, how = 'left', on = 'date')\n",
    "        time.sleep(1)\n",
    "    counties_output[f'{county_name} {state}'] = output"
   ]
  },
  {
   "cell_type": "code",
   "execution_count": 57,
   "metadata": {},
   "outputs": [
    {
     "data": {
      "text/plain": [
       "dict_keys(['Autauga County AL', 'Baldwin County AL', 'Barbour County AL', 'Bibb County AL', 'Blount County AL', 'Bullock County AL', 'Butler County AL', 'Calhoun County AL', 'Chambers County AL'])"
      ]
     },
     "execution_count": 57,
     "metadata": {},
     "output_type": "execute_result"
    }
   ],
   "source": [
    "counties_output.keys()"
   ]
  }
 ],
 "metadata": {
  "kernelspec": {
   "display_name": "Python 3",
   "language": "python",
   "name": "python3"
  },
  "language_info": {
   "codemirror_mode": {
    "name": "ipython",
    "version": 3
   },
   "file_extension": ".py",
   "mimetype": "text/x-python",
   "name": "python",
   "nbconvert_exporter": "python",
   "pygments_lexer": "ipython3",
   "version": "3.10.4"
  },
  "orig_nbformat": 4,
  "vscode": {
   "interpreter": {
    "hash": "49a59582b35fab1ac6e9e09049616a00d4a9d8a39434955e176f5ac6d140021f"
   }
  }
 },
 "nbformat": 4,
 "nbformat_minor": 2
}
