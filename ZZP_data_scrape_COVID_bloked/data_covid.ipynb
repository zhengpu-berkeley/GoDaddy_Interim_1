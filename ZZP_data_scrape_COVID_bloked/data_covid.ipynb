{
 "cells": [
  {
   "cell_type": "code",
   "execution_count": 1,
   "metadata": {},
   "outputs": [],
   "source": [
    "import pandas as pd\n",
    "import numpy as np\n",
    "import matplotlib.pyplot as plt\n",
    "\n",
    "import warnings\n",
    "warnings.filterwarnings('ignore')"
   ]
  },
  {
   "cell_type": "code",
   "execution_count": 2,
   "metadata": {},
   "outputs": [
    {
     "name": "stdout",
     "output_type": "stream",
     "text": [
      "<class 'pandas.core.frame.DataFrame'>\n",
      "RangeIndex: 2502832 entries, 0 to 2502831\n",
      "Data columns (total 6 columns):\n",
      " #   Column  Dtype         \n",
      "---  ------  -----         \n",
      " 0   date    datetime64[ns]\n",
      " 1   county  object        \n",
      " 2   state   object        \n",
      " 3   fips    object        \n",
      " 4   cases   int64         \n",
      " 5   deaths  float64       \n",
      "dtypes: datetime64[ns](1), float64(1), int64(1), object(3)\n",
      "memory usage: 114.6+ MB\n"
     ]
    }
   ],
   "source": [
    "dtypes = {'fips': str}\n",
    "covid_raw_df = pd.read_csv('us-counties.csv', dtype=dtypes, parse_dates=['date'])\n",
    "covid_raw_df.info()"
   ]
  },
  {
   "cell_type": "code",
   "execution_count": 3,
   "metadata": {},
   "outputs": [
    {
     "data": {
      "text/plain": [
       "date          0\n",
       "county        0\n",
       "state         0\n",
       "fips      23678\n",
       "cases         0\n",
       "deaths    57605\n",
       "dtype: int64"
      ]
     },
     "execution_count": 3,
     "metadata": {},
     "output_type": "execute_result"
    }
   ],
   "source": [
    "# number of null values\n",
    "covid_raw_df.isnull().sum()"
   ]
  },
  {
   "cell_type": "code",
   "execution_count": 4,
   "metadata": {},
   "outputs": [
    {
     "data": {
      "text/html": [
       "<div>\n",
       "<style scoped>\n",
       "    .dataframe tbody tr th:only-of-type {\n",
       "        vertical-align: middle;\n",
       "    }\n",
       "\n",
       "    .dataframe tbody tr th {\n",
       "        vertical-align: top;\n",
       "    }\n",
       "\n",
       "    .dataframe thead th {\n",
       "        text-align: right;\n",
       "    }\n",
       "</style>\n",
       "<table border=\"1\" class=\"dataframe\">\n",
       "  <thead>\n",
       "    <tr style=\"text-align: right;\">\n",
       "      <th></th>\n",
       "      <th>date</th>\n",
       "      <th>county</th>\n",
       "      <th>state</th>\n",
       "      <th>fips</th>\n",
       "      <th>cases</th>\n",
       "      <th>deaths</th>\n",
       "    </tr>\n",
       "  </thead>\n",
       "  <tbody>\n",
       "    <tr>\n",
       "      <th>416</th>\n",
       "      <td>2020-03-01</td>\n",
       "      <td>New York City</td>\n",
       "      <td>New York</td>\n",
       "      <td>NaN</td>\n",
       "      <td>1</td>\n",
       "      <td>0.0</td>\n",
       "    </tr>\n",
       "    <tr>\n",
       "      <th>418</th>\n",
       "      <td>2020-03-01</td>\n",
       "      <td>Unknown</td>\n",
       "      <td>Rhode Island</td>\n",
       "      <td>NaN</td>\n",
       "      <td>2</td>\n",
       "      <td>0.0</td>\n",
       "    </tr>\n",
       "    <tr>\n",
       "      <th>448</th>\n",
       "      <td>2020-03-02</td>\n",
       "      <td>New York City</td>\n",
       "      <td>New York</td>\n",
       "      <td>NaN</td>\n",
       "      <td>1</td>\n",
       "      <td>0.0</td>\n",
       "    </tr>\n",
       "    <tr>\n",
       "      <th>450</th>\n",
       "      <td>2020-03-02</td>\n",
       "      <td>Unknown</td>\n",
       "      <td>Rhode Island</td>\n",
       "      <td>NaN</td>\n",
       "      <td>2</td>\n",
       "      <td>0.0</td>\n",
       "    </tr>\n",
       "    <tr>\n",
       "      <th>482</th>\n",
       "      <td>2020-03-03</td>\n",
       "      <td>New York City</td>\n",
       "      <td>New York</td>\n",
       "      <td>NaN</td>\n",
       "      <td>2</td>\n",
       "      <td>0.0</td>\n",
       "    </tr>\n",
       "    <tr>\n",
       "      <th>...</th>\n",
       "      <td>...</td>\n",
       "      <td>...</td>\n",
       "      <td>...</td>\n",
       "      <td>...</td>\n",
       "      <td>...</td>\n",
       "      <td>...</td>\n",
       "    </tr>\n",
       "    <tr>\n",
       "      <th>2121739</th>\n",
       "      <td>2022-01-16</td>\n",
       "      <td>Unknown</td>\n",
       "      <td>Texas</td>\n",
       "      <td>NaN</td>\n",
       "      <td>5754</td>\n",
       "      <td>0.0</td>\n",
       "    </tr>\n",
       "    <tr>\n",
       "      <th>2124991</th>\n",
       "      <td>2022-01-17</td>\n",
       "      <td>Unknown</td>\n",
       "      <td>Texas</td>\n",
       "      <td>NaN</td>\n",
       "      <td>11225</td>\n",
       "      <td>0.0</td>\n",
       "    </tr>\n",
       "    <tr>\n",
       "      <th>2128243</th>\n",
       "      <td>2022-01-18</td>\n",
       "      <td>Unknown</td>\n",
       "      <td>Texas</td>\n",
       "      <td>NaN</td>\n",
       "      <td>5997</td>\n",
       "      <td>0.0</td>\n",
       "    </tr>\n",
       "    <tr>\n",
       "      <th>2160186</th>\n",
       "      <td>2022-01-28</td>\n",
       "      <td>Unknown</td>\n",
       "      <td>Oregon</td>\n",
       "      <td>NaN</td>\n",
       "      <td>1</td>\n",
       "      <td>0.0</td>\n",
       "    </tr>\n",
       "    <tr>\n",
       "      <th>2163441</th>\n",
       "      <td>2022-01-29</td>\n",
       "      <td>Unknown</td>\n",
       "      <td>Oregon</td>\n",
       "      <td>NaN</td>\n",
       "      <td>1</td>\n",
       "      <td>0.0</td>\n",
       "    </tr>\n",
       "  </tbody>\n",
       "</table>\n",
       "<p>271 rows × 6 columns</p>\n",
       "</div>"
      ],
      "text/plain": [
       "              date         county         state fips  cases  deaths\n",
       "416     2020-03-01  New York City      New York  NaN      1     0.0\n",
       "418     2020-03-01        Unknown  Rhode Island  NaN      2     0.0\n",
       "448     2020-03-02  New York City      New York  NaN      1     0.0\n",
       "450     2020-03-02        Unknown  Rhode Island  NaN      2     0.0\n",
       "482     2020-03-03  New York City      New York  NaN      2     0.0\n",
       "...            ...            ...           ...  ...    ...     ...\n",
       "2121739 2022-01-16        Unknown         Texas  NaN   5754     0.0\n",
       "2124991 2022-01-17        Unknown         Texas  NaN  11225     0.0\n",
       "2128243 2022-01-18        Unknown         Texas  NaN   5997     0.0\n",
       "2160186 2022-01-28        Unknown        Oregon  NaN      1     0.0\n",
       "2163441 2022-01-29        Unknown        Oregon  NaN      1     0.0\n",
       "\n",
       "[271 rows x 6 columns]"
      ]
     },
     "execution_count": 4,
     "metadata": {},
     "output_type": "execute_result"
    }
   ],
   "source": [
    "# show null values where fips is null, grouped by county and state\n",
    "null_fips_df = covid_raw_df[covid_raw_df['fips'].isnull()].groupby(['county', 'state'])\n",
    "null_fips_df.head()"
   ]
  },
  {
   "cell_type": "code",
   "execution_count": 5,
   "metadata": {},
   "outputs": [
    {
     "data": {
      "text/html": [
       "<div>\n",
       "<style scoped>\n",
       "    .dataframe tbody tr th:only-of-type {\n",
       "        vertical-align: middle;\n",
       "    }\n",
       "\n",
       "    .dataframe tbody tr th {\n",
       "        vertical-align: top;\n",
       "    }\n",
       "\n",
       "    .dataframe thead th {\n",
       "        text-align: right;\n",
       "    }\n",
       "</style>\n",
       "<table border=\"1\" class=\"dataframe\">\n",
       "  <thead>\n",
       "    <tr style=\"text-align: right;\">\n",
       "      <th></th>\n",
       "      <th>date</th>\n",
       "      <th>county</th>\n",
       "      <th>state</th>\n",
       "      <th>fips</th>\n",
       "      <th>cases</th>\n",
       "      <th>deaths</th>\n",
       "    </tr>\n",
       "  </thead>\n",
       "  <tbody>\n",
       "    <tr>\n",
       "      <th>0</th>\n",
       "      <td>2020-01-21</td>\n",
       "      <td>Snohomish</td>\n",
       "      <td>Washington</td>\n",
       "      <td>53061</td>\n",
       "      <td>1</td>\n",
       "      <td>0.0</td>\n",
       "    </tr>\n",
       "    <tr>\n",
       "      <th>1</th>\n",
       "      <td>2020-01-22</td>\n",
       "      <td>Snohomish</td>\n",
       "      <td>Washington</td>\n",
       "      <td>53061</td>\n",
       "      <td>1</td>\n",
       "      <td>0.0</td>\n",
       "    </tr>\n",
       "    <tr>\n",
       "      <th>2</th>\n",
       "      <td>2020-01-23</td>\n",
       "      <td>Snohomish</td>\n",
       "      <td>Washington</td>\n",
       "      <td>53061</td>\n",
       "      <td>1</td>\n",
       "      <td>0.0</td>\n",
       "    </tr>\n",
       "    <tr>\n",
       "      <th>3</th>\n",
       "      <td>2020-01-24</td>\n",
       "      <td>Cook</td>\n",
       "      <td>Illinois</td>\n",
       "      <td>17031</td>\n",
       "      <td>1</td>\n",
       "      <td>0.0</td>\n",
       "    </tr>\n",
       "    <tr>\n",
       "      <th>4</th>\n",
       "      <td>2020-01-24</td>\n",
       "      <td>Snohomish</td>\n",
       "      <td>Washington</td>\n",
       "      <td>53061</td>\n",
       "      <td>1</td>\n",
       "      <td>0.0</td>\n",
       "    </tr>\n",
       "  </tbody>\n",
       "</table>\n",
       "</div>"
      ],
      "text/plain": [
       "        date     county       state   fips  cases  deaths\n",
       "0 2020-01-21  Snohomish  Washington  53061      1     0.0\n",
       "1 2020-01-22  Snohomish  Washington  53061      1     0.0\n",
       "2 2020-01-23  Snohomish  Washington  53061      1     0.0\n",
       "3 2020-01-24       Cook    Illinois  17031      1     0.0\n",
       "4 2020-01-24  Snohomish  Washington  53061      1     0.0"
      ]
     },
     "execution_count": 5,
     "metadata": {},
     "output_type": "execute_result"
    }
   ],
   "source": [
    "covid_raw_df.head()"
   ]
  },
  {
   "cell_type": "code",
   "execution_count": 6,
   "metadata": {},
   "outputs": [
    {
     "data": {
      "text/html": [
       "<div>\n",
       "<style scoped>\n",
       "    .dataframe tbody tr th:only-of-type {\n",
       "        vertical-align: middle;\n",
       "    }\n",
       "\n",
       "    .dataframe tbody tr th {\n",
       "        vertical-align: top;\n",
       "    }\n",
       "\n",
       "    .dataframe thead th {\n",
       "        text-align: right;\n",
       "    }\n",
       "</style>\n",
       "<table border=\"1\" class=\"dataframe\">\n",
       "  <thead>\n",
       "    <tr style=\"text-align: right;\">\n",
       "      <th></th>\n",
       "      <th>cfips</th>\n",
       "    </tr>\n",
       "  </thead>\n",
       "  <tbody>\n",
       "    <tr>\n",
       "      <th>0</th>\n",
       "      <td>01001</td>\n",
       "    </tr>\n",
       "    <tr>\n",
       "      <th>1</th>\n",
       "      <td>01003</td>\n",
       "    </tr>\n",
       "    <tr>\n",
       "      <th>2</th>\n",
       "      <td>01005</td>\n",
       "    </tr>\n",
       "    <tr>\n",
       "      <th>3</th>\n",
       "      <td>01007</td>\n",
       "    </tr>\n",
       "    <tr>\n",
       "      <th>4</th>\n",
       "      <td>01009</td>\n",
       "    </tr>\n",
       "  </tbody>\n",
       "</table>\n",
       "</div>"
      ],
      "text/plain": [
       "   cfips\n",
       "0  01001\n",
       "1  01003\n",
       "2  01005\n",
       "3  01007\n",
       "4  01009"
      ]
     },
     "execution_count": 6,
     "metadata": {},
     "output_type": "execute_result"
    }
   ],
   "source": [
    "# load the cfips data\n",
    "dtypes = {'cfips': str}\n",
    "cfips_df = pd.read_csv('cfips.csv', dtype=dtypes)\n",
    "cfips_df.head()"
   ]
  },
  {
   "cell_type": "code",
   "execution_count": 7,
   "metadata": {},
   "outputs": [],
   "source": [
    "# get data for a Autauga county\n",
    "autauga_df = covid_raw_df[covid_raw_df['fips'] == '01001']"
   ]
  },
  {
   "cell_type": "code",
   "execution_count": 8,
   "metadata": {},
   "outputs": [
    {
     "data": {
      "text/html": [
       "<div>\n",
       "<style scoped>\n",
       "    .dataframe tbody tr th:only-of-type {\n",
       "        vertical-align: middle;\n",
       "    }\n",
       "\n",
       "    .dataframe tbody tr th {\n",
       "        vertical-align: top;\n",
       "    }\n",
       "\n",
       "    .dataframe thead th {\n",
       "        text-align: right;\n",
       "    }\n",
       "</style>\n",
       "<table border=\"1\" class=\"dataframe\">\n",
       "  <thead>\n",
       "    <tr style=\"text-align: right;\">\n",
       "      <th></th>\n",
       "      <th>date</th>\n",
       "      <th>county</th>\n",
       "      <th>state</th>\n",
       "      <th>fips</th>\n",
       "      <th>cases</th>\n",
       "      <th>deaths</th>\n",
       "    </tr>\n",
       "  </thead>\n",
       "  <tbody>\n",
       "    <tr>\n",
       "      <th>9480</th>\n",
       "      <td>2020-03-24</td>\n",
       "      <td>Autauga</td>\n",
       "      <td>Alabama</td>\n",
       "      <td>01001</td>\n",
       "      <td>1</td>\n",
       "      <td>0.0</td>\n",
       "    </tr>\n",
       "    <tr>\n",
       "      <th>10835</th>\n",
       "      <td>2020-03-25</td>\n",
       "      <td>Autauga</td>\n",
       "      <td>Alabama</td>\n",
       "      <td>01001</td>\n",
       "      <td>4</td>\n",
       "      <td>0.0</td>\n",
       "    </tr>\n",
       "    <tr>\n",
       "      <th>12367</th>\n",
       "      <td>2020-03-26</td>\n",
       "      <td>Autauga</td>\n",
       "      <td>Alabama</td>\n",
       "      <td>01001</td>\n",
       "      <td>6</td>\n",
       "      <td>0.0</td>\n",
       "    </tr>\n",
       "    <tr>\n",
       "      <th>14025</th>\n",
       "      <td>2020-03-27</td>\n",
       "      <td>Autauga</td>\n",
       "      <td>Alabama</td>\n",
       "      <td>01001</td>\n",
       "      <td>6</td>\n",
       "      <td>0.0</td>\n",
       "    </tr>\n",
       "    <tr>\n",
       "      <th>15803</th>\n",
       "      <td>2020-03-28</td>\n",
       "      <td>Autauga</td>\n",
       "      <td>Alabama</td>\n",
       "      <td>01001</td>\n",
       "      <td>6</td>\n",
       "      <td>0.0</td>\n",
       "    </tr>\n",
       "  </tbody>\n",
       "</table>\n",
       "</div>"
      ],
      "text/plain": [
       "            date   county    state   fips  cases  deaths\n",
       "9480  2020-03-24  Autauga  Alabama  01001      1     0.0\n",
       "10835 2020-03-25  Autauga  Alabama  01001      4     0.0\n",
       "12367 2020-03-26  Autauga  Alabama  01001      6     0.0\n",
       "14025 2020-03-27  Autauga  Alabama  01001      6     0.0\n",
       "15803 2020-03-28  Autauga  Alabama  01001      6     0.0"
      ]
     },
     "execution_count": 8,
     "metadata": {},
     "output_type": "execute_result"
    }
   ],
   "source": [
    "autauga_df.head()"
   ]
  },
  {
   "cell_type": "code",
   "execution_count": 9,
   "metadata": {},
   "outputs": [],
   "source": [
    "def get_monthly_data(df, cfips):\n",
    "    # get the monthly data\n",
    "    county_df = df[df['fips'] == cfips]\n",
    "    monthly_df = county_df.groupby(pd.Grouper(key='date', freq='M')).sum()\n",
    "    monthly_df.reset_index(inplace=True)\n",
    "    monthly_df['date'] = monthly_df['date'].dt.strftime('%Y-%m')\n",
    "    # get ridd of last row\n",
    "    monthly_df = monthly_df[:-1]\n",
    "    # get rid of the cases column\n",
    "    monthly_df.drop(columns=['cases'], inplace=True)\n",
    "    return monthly_df"
   ]
  },
  {
   "cell_type": "code",
   "execution_count": 10,
   "metadata": {},
   "outputs": [
    {
     "name": "stdout",
     "output_type": "stream",
     "text": [
      "      date  deaths\n",
      "0  2020-03     0.0\n",
      "1  2020-04   107.0\n",
      "2  2020-05   335.0\n",
      "3  2020-06   596.0\n",
      "4  2020-07   990.0\n"
     ]
    },
    {
     "data": {
      "text/plain": [
       "<AxesSubplot:xlabel='date'>"
      ]
     },
     "execution_count": 10,
     "metadata": {},
     "output_type": "execute_result"
    },
    {
     "data": {
      "image/png": "[encoded data removed]",
      "text/plain": [
       "<Figure size 1000x500 with 1 Axes>"
      ]
     },
     "metadata": {},
     "output_type": "display_data"
    }
   ],
   "source": [
    "# same thing for santa barbara county\n",
    "santa_barbara_monthly_df = get_monthly_data(covid_raw_df, '06083')\n",
    "print(santa_barbara_monthly_df.head())\n",
    "santa_barbara_monthly_df.plot(x='date', y=['deaths'], kind='bar', figsize=(10, 5))"
   ]
  },
  {
   "attachments": {},
   "cell_type": "markdown",
   "metadata": {},
   "source": [
    "## Assumming people stoped caring about covid from 2021-07"
   ]
  },
  {
   "cell_type": "code",
   "execution_count": 11,
   "metadata": {},
   "outputs": [
    {
     "name": "stdout",
     "output_type": "stream",
     "text": [
      "['29017' '27101' '08091' '42081' '38079' '45017' '48469' '17137' '47123'\n",
      " '55039' '26017' '40115' '35017' '13101' '17087' '48439' '27115' '20051'\n",
      " '48215' '22053' '26085' '18165' '48103' '12121' '01021' '26065' '48083'\n",
      " '38089' '37107' '26107']\n",
      "1.0584289291216746\n"
     ]
    }
   ],
   "source": [
    "np.random.seed(0)\n",
    "\n",
    "# random set of 30 counties's fips\n",
    "fips = cfips_df.sample(30)['cfips'].values\n",
    "print(fips)\n",
    "\n",
    "growth_rate = []\n",
    "decay_rate = []\n",
    "\n",
    "for cfips in fips:\n",
    "    county_df = get_monthly_data(covid_raw_df, cfips)\n",
    "    county_df = county_df[-10:]\n",
    "    diff = (county_df['deaths'].iloc[-1] / county_df['deaths'].iloc[0])**(0.1)\n",
    "    growth_rate.append(diff)\n",
    "    \n",
    "mean_growth_rate = np.mean(growth_rate)\n",
    "print(mean_growth_rate)"
   ]
  },
  {
   "attachments": {},
   "cell_type": "markdown",
   "metadata": {},
   "source": [
    "# For the missing months, impute by the mean of adjacent months\n",
    "# For previous to March 2020, impute with 0\n",
    "# For later than April 2022, impute with a decaying geometric series"
   ]
  },
  {
   "cell_type": "code",
   "execution_count": 12,
   "metadata": {},
   "outputs": [],
   "source": [
    "GROWTH_RATE = 0.0584289291216746\n",
    "DECAY_RATE = -0.00584289291216746 / 1.8\n",
    "\n",
    "def impute_future_month(county_monthly_df, growth_rate=GROWTH_RATE, decay_rate=DECAY_RATE, more_months=20):\n",
    "    ending_date = '2023-05'\n",
    "    last_month = county_monthly_df.iloc[-1]\n",
    "    last_month_date = last_month['date']\n",
    "    for num_more in range(more_months):\n",
    "        last_month_deaths = last_month['deaths']\n",
    "        next_month_death = int(last_month_deaths * max(1,(1 + growth_rate + num_more * decay_rate)))\n",
    "        next_month_date = pd.to_datetime(last_month_date) + pd.DateOffset(months=1)\n",
    "        next_month_date = next_month_date.strftime('%Y-%m')\n",
    "        next_month = pd.Series({'date': next_month_date, 'deaths': next_month_death})\n",
    "        county_monthly_df = county_monthly_df.append(next_month, ignore_index=True)\n",
    "        last_month = next_month\n",
    "        last_month_date = next_month_date\n",
    "        if next_month_date == ending_date:\n",
    "            break\n",
    "    return county_monthly_df\n",
    "\n",
    "def impute_past_month(county_monthly_df, more_months=20):\n",
    "    beginning_date = '2019-07'\n",
    "    # impute past months with 0 deaths\n",
    "    first_month = county_monthly_df.iloc[0]\n",
    "    first_month_date = first_month['date']\n",
    "    for num_more in range(more_months):\n",
    "        prev_month_date = pd.to_datetime(first_month_date) - pd.DateOffset(months=1)\n",
    "        prev_month_date = prev_month_date.strftime('%Y-%m')\n",
    "        prev_month = pd.Series({'date': prev_month_date, 'deaths': 0})\n",
    "        county_monthly_df = county_monthly_df.append(prev_month, ignore_index=True)\n",
    "        first_month = prev_month\n",
    "        first_month_date = prev_month_date\n",
    "        if prev_month_date == beginning_date:\n",
    "            break\n",
    "    return county_monthly_df\n",
    "\n",
    "def impute_missing_months(county_monthly_df):\n",
    "    beginning_date = '2019-07'\n",
    "    ending_date = '2023-05'\n",
    "    month_list = pd.date_range(start=beginning_date, end=ending_date, freq='MS').strftime('%Y-%m').tolist()\n",
    "    for month in month_list:\n",
    "        if month not in county_monthly_df['date'].values:\n",
    "            prev_death = county_monthly_df[county_monthly_df['date'] < month]['deaths'].iloc[-1]\n",
    "            next_death = county_monthly_df[county_monthly_df['date'] > month]['deaths'].iloc[0]\n",
    "            avg_death = int((prev_death + next_death) / 2)\n",
    "            county_monthly_df = county_monthly_df.append(pd.Series({'date': month, 'deaths': avg_death}), ignore_index=True)\n",
    "    return county_monthly_df\n",
    "\n",
    "def imputation(county_monthly_df):\n",
    "    county_monthly_df = impute_future_month(county_monthly_df)\n",
    "    county_monthly_df = impute_past_month(county_monthly_df)\n",
    "    county_monthly_df.sort_values(by='date', inplace=True)\n",
    "    county_monthly_df.reset_index(inplace=True, drop=True)\n",
    "    county_monthly_df = impute_missing_months(county_monthly_df)\n",
    "    county_monthly_df.sort_values(by='date', inplace=True)\n",
    "    county_monthly_df.reset_index(inplace=True, drop=True)\n",
    "    percent_change = county_monthly_df['deaths'].pct_change()\n",
    "    percent_change.fillna(0, inplace=True)\n",
    "    percent_change.replace(np.inf, 0, inplace=True)\n",
    "    county_monthly_df['pct_change'] = percent_change\n",
    "    return county_monthly_df"
   ]
  },
  {
   "cell_type": "code",
   "execution_count": 13,
   "metadata": {},
   "outputs": [
    {
     "data": {
      "text/html": [
       "<div>\n",
       "<style scoped>\n",
       "    .dataframe tbody tr th:only-of-type {\n",
       "        vertical-align: middle;\n",
       "    }\n",
       "\n",
       "    .dataframe tbody tr th {\n",
       "        vertical-align: top;\n",
       "    }\n",
       "\n",
       "    .dataframe thead th {\n",
       "        text-align: right;\n",
       "    }\n",
       "</style>\n",
       "<table border=\"1\" class=\"dataframe\">\n",
       "  <thead>\n",
       "    <tr style=\"text-align: right;\">\n",
       "      <th></th>\n",
       "      <th>date</th>\n",
       "      <th>deaths</th>\n",
       "      <th>pct_change</th>\n",
       "    </tr>\n",
       "  </thead>\n",
       "  <tbody>\n",
       "    <tr>\n",
       "      <th>42</th>\n",
       "      <td>2023-01</td>\n",
       "      <td>30530.0</td>\n",
       "      <td>0.032430</td>\n",
       "    </tr>\n",
       "    <tr>\n",
       "      <th>43</th>\n",
       "      <td>2023-02</td>\n",
       "      <td>31421.0</td>\n",
       "      <td>0.029184</td>\n",
       "    </tr>\n",
       "    <tr>\n",
       "      <th>44</th>\n",
       "      <td>2023-03</td>\n",
       "      <td>32236.0</td>\n",
       "      <td>0.025938</td>\n",
       "    </tr>\n",
       "    <tr>\n",
       "      <th>45</th>\n",
       "      <td>2023-04</td>\n",
       "      <td>32968.0</td>\n",
       "      <td>0.022708</td>\n",
       "    </tr>\n",
       "    <tr>\n",
       "      <th>46</th>\n",
       "      <td>2023-05</td>\n",
       "      <td>33610.0</td>\n",
       "      <td>0.019473</td>\n",
       "    </tr>\n",
       "  </tbody>\n",
       "</table>\n",
       "</div>"
      ],
      "text/plain": [
       "       date   deaths  pct_change\n",
       "42  2023-01  30530.0    0.032430\n",
       "43  2023-02  31421.0    0.029184\n",
       "44  2023-03  32236.0    0.025938\n",
       "45  2023-04  32968.0    0.022708\n",
       "46  2023-05  33610.0    0.019473"
      ]
     },
     "execution_count": 13,
     "metadata": {},
     "output_type": "execute_result"
    },
    {
     "data": {
      "image/png": "[encoded data removed]",
      "text/plain": [
       "<Figure size 1000x500 with 1 Axes>"
      ]
     },
     "metadata": {},
     "output_type": "display_data"
    }
   ],
   "source": [
    "santa_barbara_monthly_df = get_monthly_data(covid_raw_df, '06083')\n",
    "santa_barbara_monthly_imputed_df = imputation(santa_barbara_monthly_df)\n",
    "santa_barbara_monthly_imputed_df.plot(x='date', y=['deaths'], kind='bar', figsize=(10, 5))\n",
    "santa_barbara_monthly_imputed_df.tail()"
   ]
  },
  {
   "cell_type": "code",
   "execution_count": 14,
   "metadata": {},
   "outputs": [
    {
     "data": {
      "text/plain": [
       "<AxesSubplot:xlabel='date'>"
      ]
     },
     "execution_count": 14,
     "metadata": {},
     "output_type": "execute_result"
    },
    {
     "data": {
      "image/png": "[encoded data removed]",
      "text/plain": [
       "<Figure size 1000x500 with 1 Axes>"
      ]
     },
     "metadata": {},
     "output_type": "display_data"
    }
   ],
   "source": [
    "# plot the percent diff in santa_barbara_monthly_imputed_df\n",
    "santa_barbara_monthly_imputed_df.plot(x='date', y=['pct_change'], kind='bar', figsize=(10, 5))"
   ]
  },
  {
   "cell_type": "code",
   "execution_count": 15,
   "metadata": {},
   "outputs": [
    {
     "data": {
      "text/html": [
       "<div>\n",
       "<style scoped>\n",
       "    .dataframe tbody tr th:only-of-type {\n",
       "        vertical-align: middle;\n",
       "    }\n",
       "\n",
       "    .dataframe tbody tr th {\n",
       "        vertical-align: top;\n",
       "    }\n",
       "\n",
       "    .dataframe thead th {\n",
       "        text-align: right;\n",
       "    }\n",
       "</style>\n",
       "<table border=\"1\" class=\"dataframe\">\n",
       "  <thead>\n",
       "    <tr style=\"text-align: right;\">\n",
       "      <th></th>\n",
       "      <th>cfips</th>\n",
       "    </tr>\n",
       "  </thead>\n",
       "  <tbody>\n",
       "    <tr>\n",
       "      <th>0</th>\n",
       "      <td>01001</td>\n",
       "    </tr>\n",
       "    <tr>\n",
       "      <th>1</th>\n",
       "      <td>01003</td>\n",
       "    </tr>\n",
       "    <tr>\n",
       "      <th>2</th>\n",
       "      <td>01005</td>\n",
       "    </tr>\n",
       "    <tr>\n",
       "      <th>3</th>\n",
       "      <td>01007</td>\n",
       "    </tr>\n",
       "    <tr>\n",
       "      <th>4</th>\n",
       "      <td>01009</td>\n",
       "    </tr>\n",
       "  </tbody>\n",
       "</table>\n",
       "</div>"
      ],
      "text/plain": [
       "   cfips\n",
       "0  01001\n",
       "1  01003\n",
       "2  01005\n",
       "3  01007\n",
       "4  01009"
      ]
     },
     "execution_count": 15,
     "metadata": {},
     "output_type": "execute_result"
    }
   ],
   "source": [
    "dtypes = {'cfips': str}\n",
    "cfips_df = pd.read_csv('cfips.csv', dtype=dtypes)\n",
    "cfips_df.head()"
   ]
  },
  {
   "cell_type": "code",
   "execution_count": 16,
   "metadata": {},
   "outputs": [],
   "source": [
    "# dates = santa_barbara_monthly_imputed_df['date'].values\n",
    "# all_data = []\n",
    "\n",
    "# for cfips in cfips_df['cfips'].values:\n",
    "#     try:\n",
    "#         county_monthly_df = get_monthly_data(covid_raw_df, cfips)\n",
    "#         county_monthly_imputed_df = imputation(county_monthly_df)\n",
    "#         months = county_monthly_imputed_df['date'].values\n",
    "#         deaths = county_monthly_imputed_df['deaths'].values\n",
    "#         death_pct_diff = county_monthly_imputed_df['pct_change'].values\n",
    "#         data = np.array([deaths, death_pct_diff])\n",
    "#         all_data.append(data)\n",
    "#     except:\n",
    "#         all_data.append(-999 * np.ones((2, len(dates))))\n",
    "#         print(cfips)\n"
   ]
  },
  {
   "attachments": {},
   "cell_type": "markdown",
   "metadata": {},
   "source": [
    "# There is no data for some counties\n",
    "\n",
    "        02060\n",
    "        02105\n",
    "        02164\n",
    "        02282\n",
    "        36005\n",
    "        36047\n",
    "        36061\n",
    "        36081\n",
    "        36085"
   ]
  },
  {
   "cell_type": "code",
   "execution_count": 17,
   "metadata": {},
   "outputs": [
    {
     "data": {
      "text/html": [
       "<div>\n",
       "<style scoped>\n",
       "    .dataframe tbody tr th:only-of-type {\n",
       "        vertical-align: middle;\n",
       "    }\n",
       "\n",
       "    .dataframe tbody tr th {\n",
       "        vertical-align: top;\n",
       "    }\n",
       "\n",
       "    .dataframe thead th {\n",
       "        text-align: right;\n",
       "    }\n",
       "</style>\n",
       "<table border=\"1\" class=\"dataframe\">\n",
       "  <thead>\n",
       "    <tr style=\"text-align: right;\">\n",
       "      <th></th>\n",
       "      <th>cfips</th>\n",
       "      <th>county_name</th>\n",
       "      <th>state</th>\n",
       "    </tr>\n",
       "  </thead>\n",
       "  <tbody>\n",
       "    <tr>\n",
       "      <th>0</th>\n",
       "      <td>01001</td>\n",
       "      <td>Autauga County</td>\n",
       "      <td>AL</td>\n",
       "    </tr>\n",
       "    <tr>\n",
       "      <th>1</th>\n",
       "      <td>01003</td>\n",
       "      <td>Baldwin County</td>\n",
       "      <td>AL</td>\n",
       "    </tr>\n",
       "    <tr>\n",
       "      <th>2</th>\n",
       "      <td>01005</td>\n",
       "      <td>Barbour County</td>\n",
       "      <td>AL</td>\n",
       "    </tr>\n",
       "    <tr>\n",
       "      <th>3</th>\n",
       "      <td>01007</td>\n",
       "      <td>Bibb County</td>\n",
       "      <td>AL</td>\n",
       "    </tr>\n",
       "    <tr>\n",
       "      <th>4</th>\n",
       "      <td>01009</td>\n",
       "      <td>Blount County</td>\n",
       "      <td>AL</td>\n",
       "    </tr>\n",
       "  </tbody>\n",
       "</table>\n",
       "</div>"
      ],
      "text/plain": [
       "   cfips     county_name state\n",
       "0  01001  Autauga County    AL\n",
       "1  01003  Baldwin County    AL\n",
       "2  01005  Barbour County    AL\n",
       "3  01007     Bibb County    AL\n",
       "4  01009   Blount County    AL"
      ]
     },
     "execution_count": 17,
     "metadata": {},
     "output_type": "execute_result"
    }
   ],
   "source": [
    "dtypes = {'cfips': str, 'county_name': str, 'state': str}\n",
    "county_name_df = pd.read_csv('cfips_to_county_name.csv', dtype=dtypes)\n",
    "county_name_df.head()"
   ]
  },
  {
   "cell_type": "code",
   "execution_count": 18,
   "metadata": {},
   "outputs": [],
   "source": [
    "# # for county 02060\n",
    "# county_monthly_df = get_monthly_data(covid_raw_df, '02060')\n",
    "# county_monthly_df.head()"
   ]
  },
  {
   "cell_type": "code",
   "execution_count": 19,
   "metadata": {},
   "outputs": [
    {
     "name": "stdout",
     "output_type": "stream",
     "text": [
      "Bristol Bay Borough, AK\n",
      "Hoonah-Angoon Census Area, AK\n",
      "Lake and Peninsula Borough, AK\n",
      "Yakutat City and Borough, AK\n",
      "Bronx County, NY\n",
      "Kings County, NY\n",
      "New York County, NY\n",
      "Queens County, NY\n",
      "Richmond County, NY\n"
     ]
    }
   ],
   "source": [
    "missing_cfips = [\n",
    "        '02060',\n",
    "        '02105',\n",
    "        '02164',\n",
    "        '02282',\n",
    "        '36005',\n",
    "        '36047',\n",
    "        '36061',\n",
    "        '36081',\n",
    "        '36085'\n",
    "]\n",
    "\n",
    "for cfips in missing_cfips:\n",
    "    county_name = county_name_df[county_name_df['cfips'] == cfips]['county_name'].values[0]\n",
    "    state_name = county_name_df[county_name_df['cfips'] == cfips]['state'].values[0]\n",
    "    print(county_name + ', ' + state_name)"
   ]
  },
  {
   "attachments": {},
   "cell_type": "markdown",
   "metadata": {},
   "source": [
    "# Impute missing value by similar county suggested by ChatGPT"
   ]
  },
  {
   "cell_type": "code",
   "execution_count": 20,
   "metadata": {},
   "outputs": [],
   "source": [
    "missing_cfips_impute_dict = {\n",
    "        '02060' : '02230',\n",
    "        '02105' : '02230',\n",
    "        '02164' : '02150',\n",
    "        '02282' : '02230',\n",
    "        '36005' : '42101',\n",
    "        '36047' : '17031',\n",
    "        '36061' : '06075',\n",
    "        '36081' : '17031',\n",
    "        '36085' : '06075',\n",
    "}"
   ]
  },
  {
   "cell_type": "code",
   "execution_count": 21,
   "metadata": {},
   "outputs": [
    {
     "name": "stdout",
     "output_type": "stream",
     "text": [
      "NOTE: Bristol Bay Borough, AK is imputed with Skagway Municipality, AK\n",
      "NOTE: Hoonah-Angoon Census Area, AK is imputed with Skagway Municipality, AK\n",
      "NOTE: Lake and Peninsula Borough, AK is imputed with Kodiak Island Borough, AK\n",
      "NOTE: Yakutat City and Borough, AK is imputed with Skagway Municipality, AK\n",
      "NOTE: Bronx County, NY is imputed with Philadelphia County, PA\n",
      "NOTE: Kings County, NY is imputed with Cook County, IL\n",
      "NOTE: New York County, NY is imputed with San Francisco County, CA\n",
      "NOTE: Queens County, NY is imputed with Cook County, IL\n",
      "NOTE: Richmond County, NY is imputed with San Francisco County, CA\n"
     ]
    }
   ],
   "source": [
    "dates = santa_barbara_monthly_imputed_df['date'].values\n",
    "all_data = []\n",
    "\n",
    "for cfips in cfips_df['cfips'].values:\n",
    "    if cfips in missing_cfips:\n",
    "        missing_county_name = county_name_df[county_name_df['cfips'] == cfips]['county_name'].values[0]\n",
    "        missing_state_name = county_name_df[county_name_df['cfips'] == cfips]['state'].values[0]\n",
    "        cfips = missing_cfips_impute_dict[cfips]\n",
    "        imputed_county_name = county_name_df[county_name_df['cfips'] == cfips]['county_name'].values[0]\n",
    "        imputed_state_name = county_name_df[county_name_df['cfips'] == cfips]['state'].values[0]\n",
    "        print('NOTE: '+ missing_county_name + ', ' + missing_state_name + ' is imputed with ' + \n",
    "                imputed_county_name + ', ' + imputed_state_name)\n",
    "    county_monthly_df = get_monthly_data(covid_raw_df, cfips)\n",
    "    county_monthly_imputed_df = imputation(county_monthly_df)\n",
    "    months = county_monthly_imputed_df['date'].values\n",
    "    deaths = county_monthly_imputed_df['deaths'].values\n",
    "    death_pct_diff = county_monthly_imputed_df['pct_change'].values\n",
    "    data = np.array([deaths, death_pct_diff])\n",
    "    all_data.append(data)"
   ]
  },
  {
   "cell_type": "code",
   "execution_count": 22,
   "metadata": {},
   "outputs": [
    {
     "data": {
      "text/plain": [
       "3142"
      ]
     },
     "execution_count": 22,
     "metadata": {},
     "output_type": "execute_result"
    }
   ],
   "source": [
    "len(all_data)"
   ]
  },
  {
   "cell_type": "code",
   "execution_count": 23,
   "metadata": {},
   "outputs": [
    {
     "data": {
      "text/plain": [
       "{(2, 47)}"
      ]
     },
     "execution_count": 23,
     "metadata": {},
     "output_type": "execute_result"
    }
   ],
   "source": [
    "# make sure all data has the same shape\n",
    "shape_lst = []\n",
    "for data in all_data:\n",
    "    shape_lst.append(data.shape)\n",
    "\n",
    "# show all unique shapes\n",
    "set(shape_lst)"
   ]
  },
  {
   "cell_type": "code",
   "execution_count": 24,
   "metadata": {},
   "outputs": [
    {
     "data": {
      "text/plain": [
       "(3142, 2, 47)"
      ]
     },
     "execution_count": 24,
     "metadata": {},
     "output_type": "execute_result"
    }
   ],
   "source": [
    "# turn all_data into a numpy array\n",
    "all_data = np.array(all_data)\n",
    "\n",
    "all_data.shape"
   ]
  },
  {
   "cell_type": "code",
   "execution_count": 25,
   "metadata": {},
   "outputs": [
    {
     "data": {
      "text/plain": [
       "array(['2019-07', '2019-08', '2019-09', '2019-10', '2019-11', '2019-12',\n",
       "       '2020-01', '2020-02', '2020-03', '2020-04', '2020-05', '2020-06',\n",
       "       '2020-07', '2020-08', '2020-09', '2020-10', '2020-11', '2020-12',\n",
       "       '2021-01', '2021-02', '2021-03', '2021-04', '2021-05', '2021-06',\n",
       "       '2021-07', '2021-08', '2021-09', '2021-10', '2021-11', '2021-12',\n",
       "       '2022-01', '2022-02', '2022-03', '2022-04', '2022-05', '2022-06',\n",
       "       '2022-07', '2022-08', '2022-09', '2022-10', '2022-11', '2022-12',\n",
       "       '2023-01', '2023-02', '2023-03', '2023-04', '2023-05'],\n",
       "      dtype=object)"
      ]
     },
     "execution_count": 25,
     "metadata": {},
     "output_type": "execute_result"
    }
   ],
   "source": [
    "dates"
   ]
  },
  {
   "cell_type": "code",
   "execution_count": 32,
   "metadata": {},
   "outputs": [],
   "source": [
    "# save dates\n",
    "np.save('dates.npy', dates)"
   ]
  },
  {
   "cell_type": "code",
   "execution_count": 26,
   "metadata": {},
   "outputs": [
    {
     "data": {
      "text/plain": [
       "(47, 2, 3142)"
      ]
     },
     "execution_count": 26,
     "metadata": {},
     "output_type": "execute_result"
    }
   ],
   "source": [
    "# switch dimension 2 and 0\n",
    "new_data = np.swapaxes(all_data, 0, 2)\n",
    "new_data.shape"
   ]
  },
  {
   "cell_type": "code",
   "execution_count": 27,
   "metadata": {},
   "outputs": [],
   "source": [
    "feature_names = ['deaths', 'death_pct_diff']"
   ]
  },
  {
   "cell_type": "code",
   "execution_count": 28,
   "metadata": {},
   "outputs": [
    {
     "data": {
      "image/png": "[encoded data removed]",
      "text/plain": [
       "<Figure size 1000x500 with 1 Axes>"
      ]
     },
     "metadata": {},
     "output_type": "display_data"
    }
   ],
   "source": [
    "# plot the deaths Autauga, Alabama\n",
    "death = new_data[:,0,0]\n",
    "\n",
    "plt.figure(figsize=(10, 5))\n",
    "plt.bar(dates, death)\n",
    "plt.xticks(rotation=90)\n",
    "plt.show()"
   ]
  },
  {
   "cell_type": "code",
   "execution_count": 29,
   "metadata": {},
   "outputs": [
    {
     "data": {
      "image/png": "[encoded data removed]",
      "text/plain": [
       "<Figure size 1000x500 with 1 Axes>"
      ]
     },
     "metadata": {},
     "output_type": "display_data"
    }
   ],
   "source": [
    "# plot the deaths rate diff in Autauga, Alabama\n",
    "death_rate_diff = new_data[:,1,0]\n",
    "\n",
    "plt.figure(figsize=(10, 5))\n",
    "plt.bar(dates, death_rate_diff)\n",
    "plt.xticks(rotation=90)\n",
    "plt.show()"
   ]
  },
  {
   "cell_type": "code",
   "execution_count": 30,
   "metadata": {},
   "outputs": [],
   "source": [
    "import pickle\n",
    "import json"
   ]
  },
  {
   "cell_type": "code",
   "execution_count": 31,
   "metadata": {},
   "outputs": [],
   "source": [
    "data_description = {'feature_0': 'deaths_number', 'feature_1': 'death_pct_diff'}\n",
    "\n",
    "# save the data in pickle format\n",
    "with open('BLOCKED_covid_monthly_data.pkl', 'wb') as f:\n",
    "    pickle.dump(new_data, f)\n",
    "\n",
    "# save the data description in json format\n",
    "with open('BLOCKED_covid_monthly_data_description.json', 'w') as f:\n",
    "    json.dump(data_description, f)"
   ]
  },
  {
   "cell_type": "code",
   "execution_count": null,
   "metadata": {},
   "outputs": [],
   "source": []
  }
 ],
 "metadata": {
  "kernelspec": {
   "display_name": "base",
   "language": "python",
   "name": "python3"
  },
  "language_info": {
   "codemirror_mode": {
    "name": "ipython",
    "version": 3
   },
   "file_extension": ".py",
   "mimetype": "text/x-python",
   "name": "python",
   "nbconvert_exporter": "python",
   "pygments_lexer": "ipython3",
   "version": "3.9.13"
  },
  "orig_nbformat": 4,
  "vscode": {
   "interpreter": {
    "hash": "b28cf175ec321772cb0f0d5814308bea2c301d2ca583d589ae1c20180bad7c90"
   }
  }
 },
 "nbformat": 4,
 "nbformat_minor": 2
}
