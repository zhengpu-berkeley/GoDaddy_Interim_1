{
 "cells": [
  {
   "cell_type": "code",
   "execution_count": 1,
   "metadata": {},
   "outputs": [],
   "source": [
    "from requests import get\n",
    "from bs4 import BeautifulSoup"
   ]
  },
  {
   "cell_type": "code",
   "execution_count": 6,
   "metadata": {},
   "outputs": [],
   "source": [
    "def get_N_E(input_str):\n",
    "    src_str = 'https://www.google.com/search?q=latitude+longitude+of+'\n",
    "    loc_str = input_str.replace(' ', '+')\n",
    "    tot_str = src_str + loc_str\n",
    "    print(tot_str)\n",
    "    response = get(tot_str)\n",
    "    soup = BeautifulSoup(response.text, 'html.parser')\n",
    "    a = soup.find('div', class_=\"BNeawe iBp4i AP7Wnd\")\n",
    "    string = a.text\n",
    "    latitude, longitude = string.split(',')\n",
    "    latitude_value, latitude_dir = latitude.strip().split(' ')\n",
    "    longitude_value, longitude_dir = longitude.strip().split(' ')\n",
    "    latitude_value = float(latitude_value[:-1])\n",
    "    longitude_value = float(longitude_value[:-1])\n",
    "\n",
    "    # Determine the latitude direction\n",
    "    if latitude_dir == 'N':\n",
    "        latitude_value = abs(latitude_value)\n",
    "    else:\n",
    "        latitude_value = -abs(latitude_value)\n",
    "    # Determine the longitude direction\n",
    "    if longitude_dir == 'E':\n",
    "        longitude_value = abs(longitude_value)\n",
    "    else:\n",
    "        longitude_value = -abs(longitude_value)\n",
    "\n",
    "    print(f\"Latitude: {latitude_value}, Longitude: {longitude_value}\")\n",
    "    return latitude_value, longitude_value"
   ]
  },
  {
   "cell_type": "code",
   "execution_count": 7,
   "metadata": {},
   "outputs": [],
   "source": [
    "import pandas as pd\n",
    "import time"
   ]
  },
  {
   "cell_type": "code",
   "execution_count": 8,
   "metadata": {},
   "outputs": [
    {
     "data": {
      "text/html": [
       "<div>\n",
       "<style scoped>\n",
       "    .dataframe tbody tr th:only-of-type {\n",
       "        vertical-align: middle;\n",
       "    }\n",
       "\n",
       "    .dataframe tbody tr th {\n",
       "        vertical-align: top;\n",
       "    }\n",
       "\n",
       "    .dataframe thead th {\n",
       "        text-align: right;\n",
       "    }\n",
       "</style>\n",
       "<table border=\"1\" class=\"dataframe\">\n",
       "  <thead>\n",
       "    <tr style=\"text-align: right;\">\n",
       "      <th></th>\n",
       "      <th>Airport_Name</th>\n",
       "      <th>Abriviation</th>\n",
       "      <th>City</th>\n",
       "      <th>Country</th>\n",
       "      <th>Traffic</th>\n",
       "    </tr>\n",
       "  </thead>\n",
       "  <tbody>\n",
       "    <tr>\n",
       "      <th>0</th>\n",
       "      <td>Hartsfield–Jackson Atlanta International Airport</td>\n",
       "      <td>ATL</td>\n",
       "      <td>Atlanta</td>\n",
       "      <td>United States</td>\n",
       "      <td>103,902,992</td>\n",
       "    </tr>\n",
       "    <tr>\n",
       "      <th>1</th>\n",
       "      <td>Los Angeles International Airport</td>\n",
       "      <td>LAX</td>\n",
       "      <td>Los Angeles</td>\n",
       "      <td>United States</td>\n",
       "      <td>84,557,968</td>\n",
       "    </tr>\n",
       "    <tr>\n",
       "      <th>2</th>\n",
       "      <td>O'Hare International Airport</td>\n",
       "      <td>ORD</td>\n",
       "      <td>Chicago</td>\n",
       "      <td>United States</td>\n",
       "      <td>79,828,183</td>\n",
       "    </tr>\n",
       "    <tr>\n",
       "      <th>3</th>\n",
       "      <td>Dallas-Fort Worth International Airport</td>\n",
       "      <td>DFW</td>\n",
       "      <td>Dallas</td>\n",
       "      <td>United States</td>\n",
       "      <td>67,092,194</td>\n",
       "    </tr>\n",
       "    <tr>\n",
       "      <th>4</th>\n",
       "      <td>Denver International Airport</td>\n",
       "      <td>DEN</td>\n",
       "      <td>Denver</td>\n",
       "      <td>United States</td>\n",
       "      <td>61,379,396</td>\n",
       "    </tr>\n",
       "  </tbody>\n",
       "</table>\n",
       "</div>"
      ],
      "text/plain": [
       "                                       Airport_Name Abriviation         City  \\\n",
       "0  Hartsfield–Jackson Atlanta International Airport         ATL      Atlanta   \n",
       "1                 Los Angeles International Airport         LAX  Los Angeles   \n",
       "2                      O'Hare International Airport         ORD      Chicago   \n",
       "3           Dallas-Fort Worth International Airport         DFW       Dallas   \n",
       "4                      Denver International Airport         DEN       Denver   \n",
       "\n",
       "         Country      Traffic  \n",
       "0  United States  103,902,992  \n",
       "1  United States   84,557,968  \n",
       "2  United States   79,828,183  \n",
       "3  United States   67,092,194  \n",
       "4  United States   61,379,396  "
      ]
     },
     "execution_count": 8,
     "metadata": {},
     "output_type": "execute_result"
    }
   ],
   "source": [
    "airport_df = pd.read_csv('Big_Airports.csv', header=None)\n",
    "airport_df.columns = ['Airport_Name', 'Abriviation', 'City', 'Country', 'Traffic']\n",
    "airport_df.head()"
   ]
  },
  {
   "cell_type": "code",
   "execution_count": null,
   "metadata": {},
   "outputs": [],
   "source": [
    "longitude = []\n",
    "latitude = []\n",
    "\n",
    "for i in range(len(airport_df)):\n",
    "    promt = airport_df['Airport_Name'][i] + '+' + airport_df['Abriviation'][i] + '+' + airport_df['City'][i] + '+' + airport_df['Country'][i]\n",
    "    print(promt)\n",
    "    lat, lon = get_N_E(promt)\n",
    "    latitude.append(lat)\n",
    "    longitude.append(lon)\n",
    "    # wait for 1 second\n",
    "    time.sleep(1)\n"
   ]
  },
  {
   "cell_type": "code",
   "execution_count": 11,
   "metadata": {},
   "outputs": [],
   "source": [
    "# write the data into the dataframe\n",
    "airport_df['Latitude'] = latitude\n",
    "airport_df['Longitude'] = longitude"
   ]
  },
  {
   "cell_type": "code",
   "execution_count": 12,
   "metadata": {},
   "outputs": [
    {
     "data": {
      "text/html": [
       "<div>\n",
       "<style scoped>\n",
       "    .dataframe tbody tr th:only-of-type {\n",
       "        vertical-align: middle;\n",
       "    }\n",
       "\n",
       "    .dataframe tbody tr th {\n",
       "        vertical-align: top;\n",
       "    }\n",
       "\n",
       "    .dataframe thead th {\n",
       "        text-align: right;\n",
       "    }\n",
       "</style>\n",
       "<table border=\"1\" class=\"dataframe\">\n",
       "  <thead>\n",
       "    <tr style=\"text-align: right;\">\n",
       "      <th></th>\n",
       "      <th>Airport_Name</th>\n",
       "      <th>Abriviation</th>\n",
       "      <th>City</th>\n",
       "      <th>Country</th>\n",
       "      <th>Traffic</th>\n",
       "      <th>Latitude</th>\n",
       "      <th>Longitude</th>\n",
       "    </tr>\n",
       "  </thead>\n",
       "  <tbody>\n",
       "    <tr>\n",
       "      <th>0</th>\n",
       "      <td>Hartsfield–Jackson Atlanta International Airport</td>\n",
       "      <td>ATL</td>\n",
       "      <td>Atlanta</td>\n",
       "      <td>United States</td>\n",
       "      <td>103,902,992</td>\n",
       "      <td>33.6407</td>\n",
       "      <td>-84.4277</td>\n",
       "    </tr>\n",
       "    <tr>\n",
       "      <th>1</th>\n",
       "      <td>Los Angeles International Airport</td>\n",
       "      <td>LAX</td>\n",
       "      <td>Los Angeles</td>\n",
       "      <td>United States</td>\n",
       "      <td>84,557,968</td>\n",
       "      <td>33.9416</td>\n",
       "      <td>-118.4085</td>\n",
       "    </tr>\n",
       "    <tr>\n",
       "      <th>2</th>\n",
       "      <td>O'Hare International Airport</td>\n",
       "      <td>ORD</td>\n",
       "      <td>Chicago</td>\n",
       "      <td>United States</td>\n",
       "      <td>79,828,183</td>\n",
       "      <td>41.9803</td>\n",
       "      <td>-87.9090</td>\n",
       "    </tr>\n",
       "    <tr>\n",
       "      <th>3</th>\n",
       "      <td>Dallas-Fort Worth International Airport</td>\n",
       "      <td>DFW</td>\n",
       "      <td>Dallas</td>\n",
       "      <td>United States</td>\n",
       "      <td>67,092,194</td>\n",
       "      <td>32.8998</td>\n",
       "      <td>-97.0403</td>\n",
       "    </tr>\n",
       "    <tr>\n",
       "      <th>4</th>\n",
       "      <td>Denver International Airport</td>\n",
       "      <td>DEN</td>\n",
       "      <td>Denver</td>\n",
       "      <td>United States</td>\n",
       "      <td>61,379,396</td>\n",
       "      <td>39.8564</td>\n",
       "      <td>-104.6764</td>\n",
       "    </tr>\n",
       "  </tbody>\n",
       "</table>\n",
       "</div>"
      ],
      "text/plain": [
       "                                       Airport_Name Abriviation         City  \\\n",
       "0  Hartsfield–Jackson Atlanta International Airport         ATL      Atlanta   \n",
       "1                 Los Angeles International Airport         LAX  Los Angeles   \n",
       "2                      O'Hare International Airport         ORD      Chicago   \n",
       "3           Dallas-Fort Worth International Airport         DFW       Dallas   \n",
       "4                      Denver International Airport         DEN       Denver   \n",
       "\n",
       "         Country      Traffic  Latitude  Longitude  \n",
       "0  United States  103,902,992   33.6407   -84.4277  \n",
       "1  United States   84,557,968   33.9416  -118.4085  \n",
       "2  United States   79,828,183   41.9803   -87.9090  \n",
       "3  United States   67,092,194   32.8998   -97.0403  \n",
       "4  United States   61,379,396   39.8564  -104.6764  "
      ]
     },
     "execution_count": 12,
     "metadata": {},
     "output_type": "execute_result"
    }
   ],
   "source": [
    "airport_df.head()"
   ]
  },
  {
   "cell_type": "code",
   "execution_count": 13,
   "metadata": {},
   "outputs": [],
   "source": [
    "# save the dataframe into a csv file\n",
    "airport_df.to_csv('Airport_location.csv', index=False)"
   ]
  },
  {
   "cell_type": "code",
   "execution_count": null,
   "metadata": {},
   "outputs": [],
   "source": []
  }
 ],
 "metadata": {
  "kernelspec": {
   "display_name": "base",
   "language": "python",
   "name": "python3"
  },
  "language_info": {
   "codemirror_mode": {
    "name": "ipython",
    "version": 3
   },
   "file_extension": ".py",
   "mimetype": "text/x-python",
   "name": "python",
   "nbconvert_exporter": "python",
   "pygments_lexer": "ipython3",
   "version": "3.9.13"
  },
  "orig_nbformat": 4,
  "vscode": {
   "interpreter": {
    "hash": "b28cf175ec321772cb0f0d5814308bea2c301d2ca583d589ae1c20180bad7c90"
   }
  }
 },
 "nbformat": 4,
 "nbformat_minor": 2
}
