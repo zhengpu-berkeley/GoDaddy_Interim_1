{
 "cells": [
  {
   "cell_type": "code",
   "execution_count": 16,
   "metadata": {},
   "outputs": [],
   "source": [
    "import pandas as pd\n",
    "import numpy as np\n",
    "import matplotlib.pyplot as plt\n",
    "\n",
    "import pickle\n",
    "import json"
   ]
  },
  {
   "cell_type": "code",
   "execution_count": 17,
   "metadata": {},
   "outputs": [
    {
     "data": {
      "text/html": [
       "<div>\n",
       "<style scoped>\n",
       "    .dataframe tbody tr th:only-of-type {\n",
       "        vertical-align: middle;\n",
       "    }\n",
       "\n",
       "    .dataframe tbody tr th {\n",
       "        vertical-align: top;\n",
       "    }\n",
       "\n",
       "    .dataframe thead th {\n",
       "        text-align: right;\n",
       "    }\n",
       "</style>\n",
       "<table border=\"1\" class=\"dataframe\">\n",
       "  <thead>\n",
       "    <tr style=\"text-align: right;\">\n",
       "      <th></th>\n",
       "      <th>row_id</th>\n",
       "      <th>cfips</th>\n",
       "      <th>county</th>\n",
       "      <th>state</th>\n",
       "      <th>first_day_of_month</th>\n",
       "      <th>microbusiness_density</th>\n",
       "      <th>active</th>\n",
       "    </tr>\n",
       "  </thead>\n",
       "  <tbody>\n",
       "    <tr>\n",
       "      <th>0</th>\n",
       "      <td>1001_2019-08-01</td>\n",
       "      <td>01001</td>\n",
       "      <td>Autauga County</td>\n",
       "      <td>Alabama</td>\n",
       "      <td>2019-08-01</td>\n",
       "      <td>3.007682</td>\n",
       "      <td>1249</td>\n",
       "    </tr>\n",
       "    <tr>\n",
       "      <th>1</th>\n",
       "      <td>1001_2019-09-01</td>\n",
       "      <td>01001</td>\n",
       "      <td>Autauga County</td>\n",
       "      <td>Alabama</td>\n",
       "      <td>2019-09-01</td>\n",
       "      <td>2.884870</td>\n",
       "      <td>1198</td>\n",
       "    </tr>\n",
       "    <tr>\n",
       "      <th>2</th>\n",
       "      <td>1001_2019-10-01</td>\n",
       "      <td>01001</td>\n",
       "      <td>Autauga County</td>\n",
       "      <td>Alabama</td>\n",
       "      <td>2019-10-01</td>\n",
       "      <td>3.055843</td>\n",
       "      <td>1269</td>\n",
       "    </tr>\n",
       "    <tr>\n",
       "      <th>3</th>\n",
       "      <td>1001_2019-11-01</td>\n",
       "      <td>01001</td>\n",
       "      <td>Autauga County</td>\n",
       "      <td>Alabama</td>\n",
       "      <td>2019-11-01</td>\n",
       "      <td>2.993233</td>\n",
       "      <td>1243</td>\n",
       "    </tr>\n",
       "    <tr>\n",
       "      <th>4</th>\n",
       "      <td>1001_2019-12-01</td>\n",
       "      <td>01001</td>\n",
       "      <td>Autauga County</td>\n",
       "      <td>Alabama</td>\n",
       "      <td>2019-12-01</td>\n",
       "      <td>2.993233</td>\n",
       "      <td>1243</td>\n",
       "    </tr>\n",
       "  </tbody>\n",
       "</table>\n",
       "</div>"
      ],
      "text/plain": [
       "            row_id  cfips          county    state first_day_of_month  \\\n",
       "0  1001_2019-08-01  01001  Autauga County  Alabama         2019-08-01   \n",
       "1  1001_2019-09-01  01001  Autauga County  Alabama         2019-09-01   \n",
       "2  1001_2019-10-01  01001  Autauga County  Alabama         2019-10-01   \n",
       "3  1001_2019-11-01  01001  Autauga County  Alabama         2019-11-01   \n",
       "4  1001_2019-12-01  01001  Autauga County  Alabama         2019-12-01   \n",
       "\n",
       "   microbusiness_density  active  \n",
       "0               3.007682    1249  \n",
       "1               2.884870    1198  \n",
       "2               3.055843    1269  \n",
       "3               2.993233    1243  \n",
       "4               2.993233    1243  "
      ]
     },
     "execution_count": 17,
     "metadata": {},
     "output_type": "execute_result"
    }
   ],
   "source": [
    "dtypes = {'cfips': str}\n",
    "df = pd.read_csv('train.csv', dtype=dtypes)\n",
    "df['cfips'] = df['cfips'].apply(lambda x: x.zfill(5))\n",
    "df.head()"
   ]
  },
  {
   "cell_type": "code",
   "execution_count": 18,
   "metadata": {},
   "outputs": [
    {
     "data": {
      "text/html": [
       "<div>\n",
       "<style scoped>\n",
       "    .dataframe tbody tr th:only-of-type {\n",
       "        vertical-align: middle;\n",
       "    }\n",
       "\n",
       "    .dataframe tbody tr th {\n",
       "        vertical-align: top;\n",
       "    }\n",
       "\n",
       "    .dataframe thead th {\n",
       "        text-align: right;\n",
       "    }\n",
       "</style>\n",
       "<table border=\"1\" class=\"dataframe\">\n",
       "  <thead>\n",
       "    <tr style=\"text-align: right;\">\n",
       "      <th></th>\n",
       "      <th>row_id</th>\n",
       "      <th>cfips</th>\n",
       "      <th>county</th>\n",
       "      <th>state</th>\n",
       "      <th>first_day_of_month</th>\n",
       "      <th>microbusiness_density</th>\n",
       "      <th>active</th>\n",
       "    </tr>\n",
       "  </thead>\n",
       "  <tbody>\n",
       "    <tr>\n",
       "      <th>0</th>\n",
       "      <td>1001_2019-08-01</td>\n",
       "      <td>01001</td>\n",
       "      <td>Autauga County</td>\n",
       "      <td>Alabama</td>\n",
       "      <td>2019-08</td>\n",
       "      <td>3.007682</td>\n",
       "      <td>1249</td>\n",
       "    </tr>\n",
       "    <tr>\n",
       "      <th>1</th>\n",
       "      <td>1001_2019-09-01</td>\n",
       "      <td>01001</td>\n",
       "      <td>Autauga County</td>\n",
       "      <td>Alabama</td>\n",
       "      <td>2019-09</td>\n",
       "      <td>2.884870</td>\n",
       "      <td>1198</td>\n",
       "    </tr>\n",
       "    <tr>\n",
       "      <th>2</th>\n",
       "      <td>1001_2019-10-01</td>\n",
       "      <td>01001</td>\n",
       "      <td>Autauga County</td>\n",
       "      <td>Alabama</td>\n",
       "      <td>2019-10</td>\n",
       "      <td>3.055843</td>\n",
       "      <td>1269</td>\n",
       "    </tr>\n",
       "    <tr>\n",
       "      <th>3</th>\n",
       "      <td>1001_2019-11-01</td>\n",
       "      <td>01001</td>\n",
       "      <td>Autauga County</td>\n",
       "      <td>Alabama</td>\n",
       "      <td>2019-11</td>\n",
       "      <td>2.993233</td>\n",
       "      <td>1243</td>\n",
       "    </tr>\n",
       "    <tr>\n",
       "      <th>4</th>\n",
       "      <td>1001_2019-12-01</td>\n",
       "      <td>01001</td>\n",
       "      <td>Autauga County</td>\n",
       "      <td>Alabama</td>\n",
       "      <td>2019-12</td>\n",
       "      <td>2.993233</td>\n",
       "      <td>1243</td>\n",
       "    </tr>\n",
       "  </tbody>\n",
       "</table>\n",
       "</div>"
      ],
      "text/plain": [
       "            row_id  cfips          county    state first_day_of_month  \\\n",
       "0  1001_2019-08-01  01001  Autauga County  Alabama            2019-08   \n",
       "1  1001_2019-09-01  01001  Autauga County  Alabama            2019-09   \n",
       "2  1001_2019-10-01  01001  Autauga County  Alabama            2019-10   \n",
       "3  1001_2019-11-01  01001  Autauga County  Alabama            2019-11   \n",
       "4  1001_2019-12-01  01001  Autauga County  Alabama            2019-12   \n",
       "\n",
       "   microbusiness_density  active  \n",
       "0               3.007682    1249  \n",
       "1               2.884870    1198  \n",
       "2               3.055843    1269  \n",
       "3               2.993233    1243  \n",
       "4               2.993233    1243  "
      ]
     },
     "execution_count": 18,
     "metadata": {},
     "output_type": "execute_result"
    }
   ],
   "source": [
    "# het rid of the date's day part\n",
    "df['first_day_of_month'] = df['first_day_of_month'].apply(lambda x: x[:7])\n",
    "df.head()"
   ]
  },
  {
   "cell_type": "code",
   "execution_count": 19,
   "metadata": {},
   "outputs": [
    {
     "data": {
      "text/plain": [
       "array(['2019-08', '2019-09', '2019-10', '2019-11', '2019-12', '2020-01',\n",
       "       '2020-02', '2020-03', '2020-04', '2020-05', '2020-06', '2020-07',\n",
       "       '2020-08', '2020-09', '2020-10', '2020-11', '2020-12', '2021-01',\n",
       "       '2021-02', '2021-03', '2021-04', '2021-05', '2021-06', '2021-07',\n",
       "       '2021-08', '2021-09', '2021-10', '2021-11', '2021-12', '2022-01',\n",
       "       '2022-02', '2022-03', '2022-04', '2022-05', '2022-06', '2022-07',\n",
       "       '2022-08', '2022-09', '2022-10'], dtype=object)"
      ]
     },
     "execution_count": 19,
     "metadata": {},
     "output_type": "execute_result"
    }
   ],
   "source": [
    "density_dates = df['first_day_of_month'].unique()\n",
    "density_dates"
   ]
  },
  {
   "cell_type": "code",
   "execution_count": 20,
   "metadata": {},
   "outputs": [],
   "source": [
    "dates = np.array(['2019-07', '2019-08', '2019-09', '2019-10', '2019-11', '2019-12',\n",
    "       '2020-01', '2020-02', '2020-03', '2020-04', '2020-05', '2020-06',\n",
    "       '2020-07', '2020-08', '2020-09', '2020-10', '2020-11', '2020-12',\n",
    "       '2021-01', '2021-02', '2021-03', '2021-04', '2021-05', '2021-06',\n",
    "       '2021-07', '2021-08', '2021-09', '2021-10', '2021-11', '2021-12',\n",
    "       '2022-01', '2022-02', '2022-03', '2022-04', '2022-05', '2022-06',\n",
    "       '2022-07', '2022-08', '2022-09', '2022-10', '2022-11', '2022-12',\n",
    "       '2023-01', '2023-02', '2023-03', '2023-04', '2023-05'],\n",
    "      dtype=object)\n"
   ]
  },
  {
   "cell_type": "code",
   "execution_count": 21,
   "metadata": {},
   "outputs": [
    {
     "data": {
      "text/html": [
       "<div>\n",
       "<style scoped>\n",
       "    .dataframe tbody tr th:only-of-type {\n",
       "        vertical-align: middle;\n",
       "    }\n",
       "\n",
       "    .dataframe tbody tr th {\n",
       "        vertical-align: top;\n",
       "    }\n",
       "\n",
       "    .dataframe thead th {\n",
       "        text-align: right;\n",
       "    }\n",
       "</style>\n",
       "<table border=\"1\" class=\"dataframe\">\n",
       "  <thead>\n",
       "    <tr style=\"text-align: right;\">\n",
       "      <th></th>\n",
       "      <th>cfips</th>\n",
       "    </tr>\n",
       "  </thead>\n",
       "  <tbody>\n",
       "    <tr>\n",
       "      <th>0</th>\n",
       "      <td>01001</td>\n",
       "    </tr>\n",
       "    <tr>\n",
       "      <th>1</th>\n",
       "      <td>01003</td>\n",
       "    </tr>\n",
       "    <tr>\n",
       "      <th>2</th>\n",
       "      <td>01005</td>\n",
       "    </tr>\n",
       "    <tr>\n",
       "      <th>3</th>\n",
       "      <td>01007</td>\n",
       "    </tr>\n",
       "    <tr>\n",
       "      <th>4</th>\n",
       "      <td>01009</td>\n",
       "    </tr>\n",
       "  </tbody>\n",
       "</table>\n",
       "</div>"
      ],
      "text/plain": [
       "   cfips\n",
       "0  01001\n",
       "1  01003\n",
       "2  01005\n",
       "3  01007\n",
       "4  01009"
      ]
     },
     "execution_count": 21,
     "metadata": {},
     "output_type": "execute_result"
    }
   ],
   "source": [
    "cfips_df = pd.read_csv('cfips.csv', dtype=dtypes)\n",
    "cfips_df.head()"
   ]
  },
  {
   "cell_type": "code",
   "execution_count": 22,
   "metadata": {},
   "outputs": [
    {
     "data": {
      "text/plain": [
       "(47, 1, 3142)"
      ]
     },
     "execution_count": 22,
     "metadata": {},
     "output_type": "execute_result"
    }
   ],
   "source": [
    "data = np.ones((len(dates), 1, len(cfips_df)))\n",
    "data.shape      "
   ]
  },
  {
   "cell_type": "code",
   "execution_count": 35,
   "metadata": {},
   "outputs": [
    {
     "name": "stdout",
     "output_type": "stream",
     "text": [
      "Number of null dates: 8\n"
     ]
    }
   ],
   "source": [
    "data = np.ones((len(dates), 1, len(cfips_df))) * np.nan\n",
    "\n",
    "num_null = 0\n",
    "for date_idx, date in enumerate(dates):\n",
    "    if date not in density_dates:\n",
    "        data[date_idx,:,:] = np.nan\n",
    "        num_null += 1\n",
    "    else:\n",
    "        density_dated_df = df[df['first_day_of_month'] == date]\n",
    "        cfips_merged_df = pd.merge(cfips_df, density_dated_df, on='cfips', how='left')\n",
    "        panel_density_df = cfips_merged_df[['cfips', 'microbusiness_density']]\n",
    "        panel_data = panel_density_df['microbusiness_density'].to_numpy()\n",
    "        data[date_idx,:,:] = panel_data\n",
    "\n",
    "print(f'Number of null dates: {num_null}')"
   ]
  },
  {
   "cell_type": "code",
   "execution_count": 36,
   "metadata": {},
   "outputs": [
    {
     "data": {
      "text/plain": [
       "(47, 1, 3142)"
      ]
     },
     "execution_count": 36,
     "metadata": {},
     "output_type": "execute_result"
    }
   ],
   "source": [
    "data.shape"
   ]
  },
  {
   "cell_type": "code",
   "execution_count": 37,
   "metadata": {},
   "outputs": [
    {
     "data": {
      "text/plain": [
       "array([[      nan],\n",
       "       [3.0076818],\n",
       "       [2.8848701],\n",
       "       [3.0558431],\n",
       "       [2.9932332],\n",
       "       [2.9932332],\n",
       "       [2.96909  ],\n",
       "       [2.9093256],\n",
       "       [2.9332314],\n",
       "       [3.0001674],\n",
       "       [3.0049484],\n",
       "       [3.0192919],\n",
       "       [3.0838373],\n",
       "       [3.174679 ],\n",
       "       [3.2057564],\n",
       "       [3.1938035],\n",
       "       [3.0384164],\n",
       "       [3.002558 ],\n",
       "       [2.9472437],\n",
       "       [3.1061056],\n",
       "       [3.1440427],\n",
       "       [3.2246592],\n",
       "       [3.2270303],\n",
       "       [3.2222881],\n",
       "       [3.2104328],\n",
       "       [3.2199171],\n",
       "       [3.186722 ],\n",
       "       [3.2033195],\n",
       "       [3.2009485],\n",
       "       [3.2863071],\n",
       "       [3.2967808],\n",
       "       [3.3344314],\n",
       "       [3.3367846],\n",
       "       [3.372082 ],\n",
       "       [3.3132529],\n",
       "       [3.3461974],\n",
       "       [3.4379706],\n",
       "       [3.4238517],\n",
       "       [3.442677 ],\n",
       "       [3.4638555],\n",
       "       [      nan],\n",
       "       [      nan],\n",
       "       [      nan],\n",
       "       [      nan],\n",
       "       [      nan],\n",
       "       [      nan],\n",
       "       [      nan]])"
      ]
     },
     "execution_count": 37,
     "metadata": {},
     "output_type": "execute_result"
    }
   ],
   "source": [
    "data[:,:,0]"
   ]
  },
  {
   "attachments": {},
   "cell_type": "markdown",
   "metadata": {},
   "source": [
    "## Looks right for Autauga"
   ]
  },
  {
   "cell_type": "code",
   "execution_count": 38,
   "metadata": {},
   "outputs": [],
   "source": [
    "data_name = 'Given_Density'\n",
    "data_description = {'feature_0' : 'microbusiness_density'}\n",
    "\n",
    "# save data in pickle format\n",
    "with open(f'BLOCKED_{data_name}_data.pkl', 'wb') as f:\n",
    "    pickle.dump(data, f)\n",
    "\n",
    "# save data in json format\n",
    "with open(f'BLOCKED_{data_name}_data_description.json', 'w') as f:\n",
    "    json.dump(data_description, f)"
   ]
  },
  {
   "cell_type": "code",
   "execution_count": null,
   "metadata": {},
   "outputs": [],
   "source": []
  }
 ],
 "metadata": {
  "kernelspec": {
   "display_name": "base",
   "language": "python",
   "name": "python3"
  },
  "language_info": {
   "codemirror_mode": {
    "name": "ipython",
    "version": 3
   },
   "file_extension": ".py",
   "mimetype": "text/x-python",
   "name": "python",
   "nbconvert_exporter": "python",
   "pygments_lexer": "ipython3",
   "version": "3.9.13"
  },
  "orig_nbformat": 4,
  "vscode": {
   "interpreter": {
    "hash": "b28cf175ec321772cb0f0d5814308bea2c301d2ca583d589ae1c20180bad7c90"
   }
  }
 },
 "nbformat": 4,
 "nbformat_minor": 2
}
