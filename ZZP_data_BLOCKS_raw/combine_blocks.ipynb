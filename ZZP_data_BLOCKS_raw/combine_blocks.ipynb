{
 "cells": [
  {
   "cell_type": "code",
   "execution_count": 1,
   "metadata": {},
   "outputs": [],
   "source": [
    "import numpy as np\n",
    "import pandas as pd\n",
    "\n",
    "import pickle\n",
    "import json"
   ]
  },
  {
   "cell_type": "code",
   "execution_count": 2,
   "metadata": {},
   "outputs": [
    {
     "data": {
      "text/plain": [
       "['deaths_number',\n",
       " 'death_pct_diff',\n",
       " 'GPT_Autoencoder_dim0',\n",
       " 'GPT_Autoencoder_dim1',\n",
       " 'GPT_Autoencoder_dim2',\n",
       " 'GPT_Autoencoder_dim3',\n",
       " 'GPT_Autoencoder_dim4',\n",
       " 'GPT_Autoencoder_dim5',\n",
       " 'GPT_Autoencoder_dim6',\n",
       " 'GPT_Autoencoder_dim7',\n",
       " 'GPT_Autoencoder_dim8',\n",
       " 'GPT_Autoencoder_dim9',\n",
       " 'GPT_PCA_dim0',\n",
       " 'GPT_PCA_dim1',\n",
       " 'GPT_PCA_dim2',\n",
       " 'GPT_PCA_dim3',\n",
       " 'GPT_PCA_dim4',\n",
       " 'GPT_PCA_dim5',\n",
       " 'GPT_PCA_dim6',\n",
       " 'GPT_PCA_dim7',\n",
       " 'GPT_PCA_dim8',\n",
       " 'GPT_PCA_dim9',\n",
       " 'GPT_OH_Connected_Economy',\n",
       " 'GPT_OH_Government_Support',\n",
       " 'GPT_OH_Large_Customer_Base',\n",
       " 'GPT_OH_Low_Cost_of_Living',\n",
       " 'GPT_OH_Natural_Resources',\n",
       " 'GPT_OH_Supportive_Community',\n",
       " 'GPT_OH_Limited_Financing',\n",
       " 'GPT_OH_Limited_Tech_n_Infra',\n",
       " 'GPT_OH_Low_Pop_Bad_Weather',\n",
       " 'GPT_OH_Tough_Labor_Market',\n",
       " 'GPT_OH_Unfavorable_Location',\n",
       " 'GPT_OH_Various_Downsides',\n",
       " 'National_PI',\n",
       " 'pop_2010',\n",
       " 'pop_2015',\n",
       " 'pop_2020',\n",
       " 'pop_5yr_pct_chg',\n",
       " 'pop_10yr_pct_chg',\n",
       " 'PrevYr_RGDP',\n",
       " 'Prev_Yr_Agri_Pct_GDP',\n",
       " 'Prev_Yr_Mine_Pct_GDP',\n",
       " 'Prev_Yr_Retl_Pct_GDP',\n",
       " 'Prev_Yr_Manu_Pct_GDP',\n",
       " 'Prev_Yr_Info_Pct_GDP',\n",
       " 'Prev_Yr_FinS_Pct_GDP',\n",
       " 'Prev_Yr_EduS_Pct_GDP',\n",
       " 'Prev_Yr_EntS_Pct_GDP',\n",
       " 'Prev_Yr_Gvmt_Pct_GDP',\n",
       " 'Prev_Yr_GoMn_Pct_GDP',\n",
       " 'Prev_Yr_GoTr_Pct_GDP',\n",
       " 'Prev_Yr_GoMf_Pct_GDP']"
      ]
     },
     "execution_count": 2,
     "metadata": {},
     "output_type": "execute_result"
    }
   ],
   "source": [
    "data_names = ['covid_monthly',\n",
    "              'GPT_derived',\n",
    "              'National_PI',\n",
    "              'pop_related',\n",
    "              'PrevYr_RGDP',\n",
    "              'PrevYr_sectorGDP',]\n",
    "\n",
    "feature_names = []\n",
    "\n",
    "for data_name in data_names:\n",
    "    with open(f'BLOCKED_{data_name}_data_description.json', 'r') as f:\n",
    "        data_description_loaded = json.load(f)\n",
    "    feature_names += data_description_loaded.values()\n",
    "\n",
    "feature_names"
   ]
  },
  {
   "cell_type": "code",
   "execution_count": 3,
   "metadata": {},
   "outputs": [
    {
     "data": {
      "text/plain": [
       "53"
      ]
     },
     "execution_count": 3,
     "metadata": {},
     "output_type": "execute_result"
    }
   ],
   "source": [
    "len(feature_names)"
   ]
  },
  {
   "cell_type": "code",
   "execution_count": 4,
   "metadata": {},
   "outputs": [
    {
     "name": "stdout",
     "output_type": "stream",
     "text": [
      "(47, 2, 3142)\n",
      "(47, 32, 3142)\n",
      "(47, 1, 3142)\n",
      "(47, 5, 3142)\n",
      "(47, 1, 3142)\n",
      "(47, 12, 3142)\n"
     ]
    }
   ],
   "source": [
    "datas = []\n",
    "for data_name in data_names:\n",
    "    with open(f'BLOCKED_{data_name}_data.pkl', 'rb') as f:\n",
    "        data_loaded = pickle.load(f)\n",
    "    print(data_loaded.shape)\n",
    "    datas.append(data_loaded)"
   ]
  },
  {
   "cell_type": "code",
   "execution_count": 5,
   "metadata": {},
   "outputs": [
    {
     "data": {
      "text/plain": [
       "(47, 53, 3142)"
      ]
     },
     "execution_count": 5,
     "metadata": {},
     "output_type": "execute_result"
    }
   ],
   "source": [
    "final_block = np.concatenate(datas, axis=1)\n",
    "final_block.shape"
   ]
  },
  {
   "cell_type": "code",
   "execution_count": 6,
   "metadata": {},
   "outputs": [
    {
     "data": {
      "text/plain": [
       "{'feature_0': 'deaths_number',\n",
       " 'feature_1': 'death_pct_diff',\n",
       " 'feature_2': 'GPT_Autoencoder_dim0',\n",
       " 'feature_3': 'GPT_Autoencoder_dim1',\n",
       " 'feature_4': 'GPT_Autoencoder_dim2',\n",
       " 'feature_5': 'GPT_Autoencoder_dim3',\n",
       " 'feature_6': 'GPT_Autoencoder_dim4',\n",
       " 'feature_7': 'GPT_Autoencoder_dim5',\n",
       " 'feature_8': 'GPT_Autoencoder_dim6',\n",
       " 'feature_9': 'GPT_Autoencoder_dim7',\n",
       " 'feature_10': 'GPT_Autoencoder_dim8',\n",
       " 'feature_11': 'GPT_Autoencoder_dim9',\n",
       " 'feature_12': 'GPT_PCA_dim0',\n",
       " 'feature_13': 'GPT_PCA_dim1',\n",
       " 'feature_14': 'GPT_PCA_dim2',\n",
       " 'feature_15': 'GPT_PCA_dim3',\n",
       " 'feature_16': 'GPT_PCA_dim4',\n",
       " 'feature_17': 'GPT_PCA_dim5',\n",
       " 'feature_18': 'GPT_PCA_dim6',\n",
       " 'feature_19': 'GPT_PCA_dim7',\n",
       " 'feature_20': 'GPT_PCA_dim8',\n",
       " 'feature_21': 'GPT_PCA_dim9',\n",
       " 'feature_22': 'GPT_OH_Connected_Economy',\n",
       " 'feature_23': 'GPT_OH_Government_Support',\n",
       " 'feature_24': 'GPT_OH_Large_Customer_Base',\n",
       " 'feature_25': 'GPT_OH_Low_Cost_of_Living',\n",
       " 'feature_26': 'GPT_OH_Natural_Resources',\n",
       " 'feature_27': 'GPT_OH_Supportive_Community',\n",
       " 'feature_28': 'GPT_OH_Limited_Financing',\n",
       " 'feature_29': 'GPT_OH_Limited_Tech_n_Infra',\n",
       " 'feature_30': 'GPT_OH_Low_Pop_Bad_Weather',\n",
       " 'feature_31': 'GPT_OH_Tough_Labor_Market',\n",
       " 'feature_32': 'GPT_OH_Unfavorable_Location',\n",
       " 'feature_33': 'GPT_OH_Various_Downsides',\n",
       " 'feature_34': 'National_PI',\n",
       " 'feature_35': 'pop_2010',\n",
       " 'feature_36': 'pop_2015',\n",
       " 'feature_37': 'pop_2020',\n",
       " 'feature_38': 'pop_5yr_pct_chg',\n",
       " 'feature_39': 'pop_10yr_pct_chg',\n",
       " 'feature_40': 'PrevYr_RGDP',\n",
       " 'feature_41': 'Prev_Yr_Agri_Pct_GDP',\n",
       " 'feature_42': 'Prev_Yr_Mine_Pct_GDP',\n",
       " 'feature_43': 'Prev_Yr_Retl_Pct_GDP',\n",
       " 'feature_44': 'Prev_Yr_Manu_Pct_GDP',\n",
       " 'feature_45': 'Prev_Yr_Info_Pct_GDP',\n",
       " 'feature_46': 'Prev_Yr_FinS_Pct_GDP',\n",
       " 'feature_47': 'Prev_Yr_EduS_Pct_GDP',\n",
       " 'feature_48': 'Prev_Yr_EntS_Pct_GDP',\n",
       " 'feature_49': 'Prev_Yr_Gvmt_Pct_GDP',\n",
       " 'feature_50': 'Prev_Yr_GoMn_Pct_GDP',\n",
       " 'feature_51': 'Prev_Yr_GoTr_Pct_GDP',\n",
       " 'feature_52': 'Prev_Yr_GoMf_Pct_GDP'}"
      ]
     },
     "execution_count": 6,
     "metadata": {},
     "output_type": "execute_result"
    }
   ],
   "source": [
    "data_description = {}\n",
    "for i, feature_name in enumerate(feature_names):\n",
    "    data_description[f'feature_{i}'] = feature_name\n",
    "\n",
    "data_description"
   ]
  },
  {
   "cell_type": "code",
   "execution_count": 7,
   "metadata": {},
   "outputs": [
    {
     "data": {
      "text/plain": [
       "53"
      ]
     },
     "execution_count": 7,
     "metadata": {},
     "output_type": "execute_result"
    }
   ],
   "source": [
    "len(data_description)"
   ]
  },
  {
   "cell_type": "code",
   "execution_count": 8,
   "metadata": {},
   "outputs": [],
   "source": [
    "data_name = 'zzp_data'\n",
    "\n",
    "# save data in pickle format\n",
    "with open(f'BLOCKED_{data_name}_data.pkl', 'wb') as f:\n",
    "    pickle.dump(final_block, f)\n",
    "\n",
    "# save data in json format\n",
    "with open(f'BLOCKED_{data_name}_data_description.json', 'w') as f:\n",
    "    json.dump(data_description, f)"
   ]
  },
  {
   "cell_type": "code",
   "execution_count": null,
   "metadata": {},
   "outputs": [],
   "source": []
  }
 ],
 "metadata": {
  "kernelspec": {
   "display_name": "py39_PyTorch",
   "language": "python",
   "name": "python3"
  },
  "language_info": {
   "codemirror_mode": {
    "name": "ipython",
    "version": 3
   },
   "file_extension": ".py",
   "mimetype": "text/x-python",
   "name": "python",
   "nbconvert_exporter": "python",
   "pygments_lexer": "ipython3",
   "version": "3.9.12"
  },
  "orig_nbformat": 4,
  "vscode": {
   "interpreter": {
    "hash": "29b39120620d43f9549e7927c7592b76762b5f59c38d441fd435dbab21330a12"
   }
  }
 },
 "nbformat": 4,
 "nbformat_minor": 2
}
