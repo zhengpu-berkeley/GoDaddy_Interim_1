{
 "cells": [
  {
   "cell_type": "code",
   "execution_count": 1,
   "metadata": {},
   "outputs": [],
   "source": [
    "import pandas as pd\n",
    "import json\n",
    "\n",
    "import numpy as np\n",
    "import matplotlib.pyplot as plt\n",
    "\n",
    "import torch.nn as nn\n",
    "import torch\n",
    "\n",
    "import warnings\n",
    "warnings.filterwarnings('ignore')"
   ]
  },
  {
   "cell_type": "code",
   "execution_count": 2,
   "metadata": {},
   "outputs": [],
   "source": [
    "# load embeddings\n",
    "with open('distillBERT_embeddings_paragraph.json') as f:\n",
    "    all_embeddings = json.load(f)"
   ]
  },
  {
   "cell_type": "code",
   "execution_count": 3,
   "metadata": {},
   "outputs": [
    {
     "name": "stdout",
     "output_type": "stream",
     "text": [
      "Shape of the embeddings:  (768,)\n"
     ]
    }
   ],
   "source": [
    "# show the shape of the embeddings\n",
    "print('Shape of the embeddings: ', np.array(all_embeddings[0]).shape)"
   ]
  },
  {
   "cell_type": "code",
   "execution_count": 4,
   "metadata": {},
   "outputs": [],
   "source": [
    "dtypes = {'cfips': str}\n",
    "df = pd.read_csv('gpt_pro_con_no_null.csv', dtype=dtypes)\n",
    "\n",
    "def read_csv_to_sentences(df):\n",
    "    docs = []\n",
    "    for i in range(len(df)):\n",
    "        docs.append('PRO_1: ' + df['gpt_pro_1'][i] + \n",
    "                    ' PRO_2: ' + df['gpt_pro_2'][i] +\n",
    "                    ' PRO_3: ' + df['gpt_pro_3'][i] +\n",
    "                    ' CON_1: ' + df['gpt_con_1'][i] +\n",
    "                    ' CON_2: ' + df['gpt_con_2'][i] +\n",
    "                    ' CON_3: ' + df['gpt_con_3'][i])\n",
    "    return docs\n",
    "\n",
    "docs = read_csv_to_sentences(df)\n",
    "final_sentences = docs\n",
    "final_embeddings = all_embeddings\n"
   ]
  },
  {
   "cell_type": "code",
   "execution_count": 5,
   "metadata": {},
   "outputs": [],
   "source": [
    "# train test split\n",
    "from sklearn.model_selection import train_test_split\n",
    "\n",
    "emb_train, emb_test, sent_train, sent_test = train_test_split(final_embeddings, \n",
    "                                                                final_sentences, \n",
    "                                                                test_size=0.2, \n",
    "                                                                random_state=42)"
   ]
  },
  {
   "cell_type": "code",
   "execution_count": 6,
   "metadata": {},
   "outputs": [],
   "source": [
    "# Autoencoder class\n",
    "class AE(torch.nn.Module):\n",
    "\tdef __init__(self, encode_dim):\n",
    "\t\tsuper().__init__()\n",
    "\t\t\n",
    "\t\tself.encode_dim = encode_dim\n",
    "\t\t# 768 ==> encode_dim\n",
    "\t\tself.encoder = torch.nn.Sequential(\n",
    "\t\t\ttorch.nn.Linear(768, 128),\n",
    "\t\t\ttorch.nn.ReLU(),\n",
    "\t\t\ttorch.nn.Linear(128, 64),\n",
    "\t\t\ttorch.nn.ReLU(),\n",
    "\t\t\ttorch.nn.Linear(64, 36),\n",
    "\t\t\ttorch.nn.ReLU(),\n",
    "\t\t\ttorch.nn.Linear(36, 18),\n",
    "\t\t\ttorch.nn.ReLU(),\n",
    "\t\t\ttorch.nn.Linear(18, self.encode_dim)\n",
    "\t\t)\n",
    "\t\t\n",
    "\t\t# encode_dim ==> 768\n",
    "\t\tself.decoder = torch.nn.Sequential(\n",
    "\t\t\ttorch.nn.Linear(self.encode_dim, 18),\n",
    "\t\t\ttorch.nn.ReLU(),\n",
    "\t\t\ttorch.nn.Linear(18, 36),\n",
    "\t\t\ttorch.nn.ReLU(),\n",
    "\t\t\ttorch.nn.Linear(36, 64),\n",
    "\t\t\ttorch.nn.ReLU(),\n",
    "\t\t\ttorch.nn.Linear(64, 128),\n",
    "\t\t\ttorch.nn.ReLU(),\n",
    "\t\t\ttorch.nn.Linear(128, 768),\n",
    "\t\t\ttorch.nn.Sigmoid()\n",
    "\t\t)\n",
    "\n",
    "\tdef forward(self, x):\n",
    "\t\tencoded = self.encoder(x)\n",
    "\t\tdecoded = self.decoder(encoded)\n",
    "\t\treturn decoded, encoded\n",
    "\t\n",
    "\tdef encode(self, x):\n",
    "\t\treturn self.encoder(x)\n"
   ]
  },
  {
   "cell_type": "code",
   "execution_count": 7,
   "metadata": {},
   "outputs": [],
   "source": [
    "# define a loader for the embeddings\n",
    "from torch.utils.data import TensorDataset, DataLoader\n",
    "\n",
    "embeddings_tensor = torch.tensor(final_embeddings, dtype=torch.float32)\n",
    "\n",
    "# convert the embeddings to tensors, in all dimensions\n",
    "emb_train_tensor = torch.tensor(emb_train, dtype=torch.float32)\n",
    "emb_test_tensor = torch.tensor(emb_test, dtype=torch.float32)\n",
    "\n",
    "# create a dataset\n",
    "train_dataset = TensorDataset(emb_train_tensor)\n",
    "test_dataset = TensorDataset(emb_test_tensor)\n",
    "\n",
    "# create a loader\n",
    "train_loader = DataLoader(train_dataset, batch_size=64, shuffle=True)\n",
    "test_loader = DataLoader(test_dataset, batch_size=64, shuffle=True)"
   ]
  },
  {
   "cell_type": "code",
   "execution_count": 8,
   "metadata": {},
   "outputs": [],
   "source": [
    "def train_model(train_loader, eval_loader, model, loss_function, optimizer, \n",
    "\t\t\t\tepochs=10, print_every=5, if_print=True):\n",
    "\n",
    "\ttrain_losses = []\n",
    "\tvalid_losses = []\n",
    "\tepoch_record = []\n",
    "\tfor epoch in range(epochs):\n",
    "\t\tif epoch % print_every == 0:\n",
    "\t\t\tepoch_record.append(epoch)\n",
    "\t\t\tprint('epoch: ', epoch)\n",
    "\t\tcurr_train_losses = []\n",
    "\t\tcurr_valid_losses = []\n",
    "\n",
    "\t\tmodel.train()\n",
    "\t\tfor emb in train_loader:\n",
    "\t\t\temb = emb[0]\n",
    "\t\t\treconstructed, encoded = model(emb)\n",
    "\t\t\tloss = loss_function(reconstructed, emb, encoded)\n",
    "\t\t\toptimizer.zero_grad()\n",
    "\t\t\tloss.backward()\n",
    "\t\t\toptimizer.step()\n",
    "\t\t\tnp_loss = loss.detach().numpy()\n",
    "\t\t\tcurr_train_losses.append(np_loss.mean())\n",
    "\n",
    "\t\tmodel.eval()\n",
    "\t\tfor emb in eval_loader:\n",
    "\t\t\temb = emb[0]\n",
    "\t\t\treconstructed, encoded = model(emb)\n",
    "\t\t\tloss = loss_function(reconstructed, emb, encoded)\n",
    "\t\t\tnp_loss = loss.detach().numpy()\n",
    "\t\t\tcurr_valid_losses.append(np_loss)\n",
    "\n",
    "\t\tif epoch % print_every == 0:\n",
    "\t\t\tprint('train loss: ', np.mean(curr_train_losses))\n",
    "\t\t\tprint('valid loss: ', np.mean(curr_valid_losses))\n",
    "\t\ttrain_losses.append(np.mean(curr_train_losses))\n",
    "\t\tvalid_losses.append(np.mean(curr_valid_losses))\n",
    "\n",
    "\t\n",
    "\tif if_print:\n",
    "\t\tplot_last = 13\n",
    "\t\t# plot the losses\n",
    "\t\tplt.style.use('fivethirtyeight')\n",
    "\t\tplt.xlabel('Iterations')\n",
    "\t\tplt.ylabel('Loss')\n",
    "\t\tplt.title('Loss vs. Iterations')\n",
    "\t\tplt.plot(epoch_record[-plot_last:], train_losses[-plot_last:], label='Training Loss', color='blue')\n",
    "\t\tplt.plot(epoch_record[-plot_last:], valid_losses[-plot_last:], label='Validation Loss', color='red')\n",
    "\t\tplt.legend()\n",
    "\t\tplt.show()\n",
    "\telse:\n",
    "\t\treturn model\n"
   ]
  },
  {
   "cell_type": "code",
   "execution_count": 9,
   "metadata": {},
   "outputs": [
    {
     "name": "stdout",
     "output_type": "stream",
     "text": [
      "epoch:  0\n",
      "train loss:  0.8176624\n",
      "valid loss:  0.79539704\n",
      "epoch:  3\n",
      "train loss:  0.68523216\n",
      "valid loss:  0.66263103\n",
      "epoch:  6\n",
      "train loss:  0.42223883\n",
      "valid loss:  0.3915513\n",
      "epoch:  9\n",
      "train loss:  0.25408268\n",
      "valid loss:  0.2283529\n",
      "epoch:  12\n",
      "train loss:  0.15329377\n",
      "valid loss:  0.14258227\n",
      "epoch:  15\n",
      "train loss:  0.103880204\n",
      "valid loss:  0.098363176\n",
      "epoch:  18\n",
      "train loss:  0.08057862\n",
      "valid loss:  0.07823256\n",
      "epoch:  21\n",
      "train loss:  0.06963388\n",
      "valid loss:  0.068434566\n",
      "epoch:  24\n",
      "train loss:  0.06432177\n",
      "valid loss:  0.06373198\n",
      "epoch:  27\n",
      "train loss:  0.061184485\n",
      "valid loss:  0.06077514\n",
      "epoch:  30\n",
      "train loss:  0.0593306\n",
      "valid loss:  0.05904587\n",
      "epoch:  33\n",
      "train loss:  0.05819928\n",
      "valid loss:  0.0579502\n",
      "epoch:  36\n",
      "train loss:  0.0573246\n",
      "valid loss:  0.058114804\n",
      "epoch:  39\n",
      "train loss:  0.056592118\n",
      "valid loss:  0.056719262\n",
      "epoch:  42\n",
      "train loss:  0.056209195\n",
      "valid loss:  0.056158762\n",
      "epoch:  45\n",
      "train loss:  0.055997044\n",
      "valid loss:  0.05602727\n",
      "epoch:  48\n",
      "train loss:  0.05555574\n",
      "valid loss:  0.055639617\n",
      "epoch:  51\n",
      "train loss:  0.05534296\n",
      "valid loss:  0.05581997\n",
      "epoch:  54\n",
      "train loss:  0.05519887\n",
      "valid loss:  0.055349458\n",
      "epoch:  57\n",
      "train loss:  0.05507061\n",
      "valid loss:  0.05510665\n",
      "epoch:  60\n",
      "train loss:  0.05493536\n",
      "valid loss:  0.05506725\n",
      "epoch:  63\n",
      "train loss:  0.054972786\n",
      "valid loss:  0.05507522\n"
     ]
    },
    {
     "data": {
      "image/png": "[encoded data removed]",
      "text/plain": [
       "<Figure size 640x480 with 1 Axes>"
      ]
     },
     "metadata": {},
     "output_type": "display_data"
    }
   ],
   "source": [
    "# set hyperparameters\n",
    "EPOCHS = 65\n",
    "LR = 5e-5\n",
    "WEIGHT_DECAY = 1e-12\n",
    "ENCODE_DIM = 10\n",
    "\n",
    "# set the random seed\n",
    "torch.manual_seed(42)\n",
    "\n",
    "# Model Initialization\n",
    "AE_model = AE(encode_dim=ENCODE_DIM)\n",
    "\n",
    "# define the loss function with LASSO-ish regularization\n",
    "class loss_function(nn.Module):\n",
    "    def __init__(self):\n",
    "        super(loss_function, self).__init__()\n",
    "    def forward(self, output, target, encoded):\n",
    "        criterion = nn.MSELoss()\n",
    "        loss_part_1 = criterion(output, target)\n",
    "        loss_part_2 = torch.sum(torch.abs(encoded)) * 0.01\n",
    "        return loss_part_1 + loss_part_2\n",
    "\n",
    "loss_function = loss_function()\n",
    " \n",
    "posi_optimizer = torch.optim.Adam(AE_model.parameters(),\n",
    "                                lr = LR,\n",
    "                                weight_decay = WEIGHT_DECAY)\n",
    "\n",
    "# train the model\n",
    "train_model(train_loader, test_loader, AE_model, \n",
    "                loss_function, posi_optimizer, epochs=EPOCHS, print_every=3)"
   ]
  },
  {
   "attachments": {},
   "cell_type": "markdown",
   "metadata": {},
   "source": [
    "# 50 Epochs with selected hyperparameters looks good"
   ]
  },
  {
   "cell_type": "code",
   "execution_count": 10,
   "metadata": {},
   "outputs": [
    {
     "name": "stdout",
     "output_type": "stream",
     "text": [
      "epoch:  0\n",
      "train loss:  0.8176624\n",
      "valid loss:  0.79539704\n",
      "epoch:  3\n",
      "train loss:  0.68523216\n",
      "valid loss:  0.66263103\n",
      "epoch:  6\n",
      "train loss:  0.42223883\n",
      "valid loss:  0.3915513\n",
      "epoch:  9\n",
      "train loss:  0.25408268\n",
      "valid loss:  0.2283529\n",
      "epoch:  12\n",
      "train loss:  0.15329377\n",
      "valid loss:  0.14258227\n",
      "epoch:  15\n",
      "train loss:  0.103880204\n",
      "valid loss:  0.098363176\n",
      "epoch:  18\n",
      "train loss:  0.08057862\n",
      "valid loss:  0.07823256\n",
      "epoch:  21\n",
      "train loss:  0.06963388\n",
      "valid loss:  0.068434566\n",
      "epoch:  24\n",
      "train loss:  0.06432177\n",
      "valid loss:  0.06373198\n",
      "epoch:  27\n",
      "train loss:  0.061184485\n",
      "valid loss:  0.06077514\n",
      "epoch:  30\n",
      "train loss:  0.0593306\n",
      "valid loss:  0.05904587\n",
      "epoch:  33\n",
      "train loss:  0.05819928\n",
      "valid loss:  0.0579502\n",
      "epoch:  36\n",
      "train loss:  0.0573246\n",
      "valid loss:  0.058114804\n",
      "epoch:  39\n",
      "train loss:  0.056592118\n",
      "valid loss:  0.056719262\n",
      "epoch:  42\n",
      "train loss:  0.056209195\n",
      "valid loss:  0.056158762\n",
      "epoch:  45\n",
      "train loss:  0.055997044\n",
      "valid loss:  0.05602727\n",
      "epoch:  48\n",
      "train loss:  0.05555574\n",
      "valid loss:  0.055639617\n"
     ]
    },
    {
     "data": {
      "image/png": "[encoded data removed]",
      "text/plain": [
       "<Figure size 640x480 with 1 Axes>"
      ]
     },
     "metadata": {},
     "output_type": "display_data"
    },
    {
     "name": "stdout",
     "output_type": "stream",
     "text": [
      "epoch:  0\n",
      "train loss:  0.055401694\n",
      "valid loss:  0.05554341\n",
      "epoch:  10\n",
      "train loss:  0.05493536\n",
      "valid loss:  0.05506725\n",
      "epoch:  20\n",
      "train loss:  0.054647587\n",
      "valid loss:  0.054698884\n",
      "epoch:  30\n",
      "train loss:  0.054512657\n",
      "valid loss:  0.05460276\n",
      "epoch:  40\n",
      "train loss:  0.054344893\n",
      "valid loss:  0.054657668\n"
     ]
    },
    {
     "data": {
      "text/plain": [
       "AE(\n",
       "  (encoder): Sequential(\n",
       "    (0): Linear(in_features=768, out_features=128, bias=True)\n",
       "    (1): ReLU()\n",
       "    (2): Linear(in_features=128, out_features=64, bias=True)\n",
       "    (3): ReLU()\n",
       "    (4): Linear(in_features=64, out_features=36, bias=True)\n",
       "    (5): ReLU()\n",
       "    (6): Linear(in_features=36, out_features=18, bias=True)\n",
       "    (7): ReLU()\n",
       "    (8): Linear(in_features=18, out_features=10, bias=True)\n",
       "  )\n",
       "  (decoder): Sequential(\n",
       "    (0): Linear(in_features=10, out_features=18, bias=True)\n",
       "    (1): ReLU()\n",
       "    (2): Linear(in_features=18, out_features=36, bias=True)\n",
       "    (3): ReLU()\n",
       "    (4): Linear(in_features=36, out_features=64, bias=True)\n",
       "    (5): ReLU()\n",
       "    (6): Linear(in_features=64, out_features=128, bias=True)\n",
       "    (7): ReLU()\n",
       "    (8): Linear(in_features=128, out_features=768, bias=True)\n",
       "    (9): Sigmoid()\n",
       "  )\n",
       ")"
      ]
     },
     "execution_count": 10,
     "metadata": {},
     "output_type": "execute_result"
    }
   ],
   "source": [
    "# train the model\n",
    "# set hyperparameters\n",
    "EPOCHS = 50\n",
    "LR = 5e-5\n",
    "WEIGHT_DECAY = 1e-12\n",
    "ENCODE_DIM = 10\n",
    "\n",
    "# set the random seed\n",
    "torch.manual_seed(42)\n",
    "\n",
    "# Model Initialization\n",
    "AE_model = AE(encode_dim=ENCODE_DIM)\n",
    "\n",
    "# define the loss function with LASSO-ish regularization\n",
    "class loss_function(nn.Module):\n",
    "    def __init__(self):\n",
    "        super(loss_function, self).__init__()\n",
    "    def forward(self, output, target, encoded):\n",
    "        criterion = nn.MSELoss()\n",
    "        loss_part_1 = criterion(output, target)\n",
    "        loss_part_2 = torch.sum(torch.abs(encoded)) * 0.01\n",
    "        return loss_part_1 + loss_part_2\n",
    "\n",
    "loss_function = loss_function()\n",
    " \n",
    "posi_optimizer = torch.optim.Adam(AE_model.parameters(),\n",
    "                                lr = LR,\n",
    "                                weight_decay = WEIGHT_DECAY)\n",
    "\n",
    "# train the model\n",
    "train_model(train_loader, test_loader, AE_model, \n",
    "                loss_function, posi_optimizer, epochs=EPOCHS, print_every=3)\n",
    "\n",
    "final_model = train_model(train_loader, test_loader, AE_model, \n",
    "                            loss_function, posi_optimizer, epochs=EPOCHS, print_every=10, if_print=False)\n",
    "\n",
    "final_model.eval()"
   ]
  },
  {
   "cell_type": "code",
   "execution_count": 11,
   "metadata": {},
   "outputs": [],
   "source": [
    "# save the model\n",
    "torch.save(AE_model.state_dict(), 'AE_model.pt')"
   ]
  },
  {
   "cell_type": "code",
   "execution_count": 12,
   "metadata": {},
   "outputs": [],
   "source": [
    "# use model to encode the embeddings\n",
    "gpt_encoded = AE_model.encoder(embeddings_tensor)\n",
    "gpt_encoded_np = gpt_encoded.detach().numpy()"
   ]
  },
  {
   "cell_type": "code",
   "execution_count": 13,
   "metadata": {},
   "outputs": [
    {
     "data": {
      "text/plain": [
       "(3142, 10)"
      ]
     },
     "execution_count": 13,
     "metadata": {},
     "output_type": "execute_result"
    }
   ],
   "source": [
    "gpt_encoded_np.shape"
   ]
  },
  {
   "cell_type": "code",
   "execution_count": 14,
   "metadata": {},
   "outputs": [
    {
     "data": {
      "text/plain": [
       "3142"
      ]
     },
     "execution_count": 14,
     "metadata": {},
     "output_type": "execute_result"
    }
   ],
   "source": [
    "gpt_encoded_np.shape[0]"
   ]
  },
  {
   "cell_type": "code",
   "execution_count": 15,
   "metadata": {},
   "outputs": [
    {
     "data": {
      "text/html": [
       "<div>\n",
       "<style scoped>\n",
       "    .dataframe tbody tr th:only-of-type {\n",
       "        vertical-align: middle;\n",
       "    }\n",
       "\n",
       "    .dataframe tbody tr th {\n",
       "        vertical-align: top;\n",
       "    }\n",
       "\n",
       "    .dataframe thead th {\n",
       "        text-align: right;\n",
       "    }\n",
       "</style>\n",
       "<table border=\"1\" class=\"dataframe\">\n",
       "  <thead>\n",
       "    <tr style=\"text-align: right;\">\n",
       "      <th></th>\n",
       "      <th>cfips</th>\n",
       "    </tr>\n",
       "  </thead>\n",
       "  <tbody>\n",
       "    <tr>\n",
       "      <th>0</th>\n",
       "      <td>01001</td>\n",
       "    </tr>\n",
       "    <tr>\n",
       "      <th>1</th>\n",
       "      <td>01003</td>\n",
       "    </tr>\n",
       "    <tr>\n",
       "      <th>2</th>\n",
       "      <td>01005</td>\n",
       "    </tr>\n",
       "    <tr>\n",
       "      <th>3</th>\n",
       "      <td>01007</td>\n",
       "    </tr>\n",
       "    <tr>\n",
       "      <th>4</th>\n",
       "      <td>01009</td>\n",
       "    </tr>\n",
       "  </tbody>\n",
       "</table>\n",
       "</div>"
      ],
      "text/plain": [
       "   cfips\n",
       "0  01001\n",
       "1  01003\n",
       "2  01005\n",
       "3  01007\n",
       "4  01009"
      ]
     },
     "execution_count": 15,
     "metadata": {},
     "output_type": "execute_result"
    }
   ],
   "source": [
    "# load the cfips data\n",
    "dtypes = {'cfips': str}\n",
    "cfips_df = pd.read_csv('cfips.csv', dtype=dtypes)\n",
    "cfips_df.head()"
   ]
  },
  {
   "cell_type": "code",
   "execution_count": 16,
   "metadata": {},
   "outputs": [
    {
     "data": {
      "text/plain": [
       "['AE_dim_1',\n",
       " 'AE_dim_2',\n",
       " 'AE_dim_3',\n",
       " 'AE_dim_4',\n",
       " 'AE_dim_5',\n",
       " 'AE_dim_6',\n",
       " 'AE_dim_7',\n",
       " 'AE_dim_8',\n",
       " 'AE_dim_9',\n",
       " 'AE_dim_10']"
      ]
     },
     "execution_count": 16,
     "metadata": {},
     "output_type": "execute_result"
    }
   ],
   "source": [
    "dim_names = ['AE_dim_' + str(i) for i in range(1, 11)]\n",
    "dim_names"
   ]
  },
  {
   "cell_type": "code",
   "execution_count": 17,
   "metadata": {},
   "outputs": [
    {
     "data": {
      "text/html": [
       "<div>\n",
       "<style scoped>\n",
       "    .dataframe tbody tr th:only-of-type {\n",
       "        vertical-align: middle;\n",
       "    }\n",
       "\n",
       "    .dataframe tbody tr th {\n",
       "        vertical-align: top;\n",
       "    }\n",
       "\n",
       "    .dataframe thead th {\n",
       "        text-align: right;\n",
       "    }\n",
       "</style>\n",
       "<table border=\"1\" class=\"dataframe\">\n",
       "  <thead>\n",
       "    <tr style=\"text-align: right;\">\n",
       "      <th></th>\n",
       "      <th>cfips</th>\n",
       "      <th>AE_dim_1</th>\n",
       "      <th>AE_dim_2</th>\n",
       "      <th>AE_dim_3</th>\n",
       "      <th>AE_dim_4</th>\n",
       "      <th>AE_dim_5</th>\n",
       "      <th>AE_dim_6</th>\n",
       "      <th>AE_dim_7</th>\n",
       "      <th>AE_dim_8</th>\n",
       "      <th>AE_dim_9</th>\n",
       "      <th>AE_dim_10</th>\n",
       "    </tr>\n",
       "  </thead>\n",
       "  <tbody>\n",
       "  </tbody>\n",
       "</table>\n",
       "</div>"
      ],
      "text/plain": [
       "Empty DataFrame\n",
       "Columns: [cfips, AE_dim_1, AE_dim_2, AE_dim_3, AE_dim_4, AE_dim_5, AE_dim_6, AE_dim_7, AE_dim_8, AE_dim_9, AE_dim_10]\n",
       "Index: []"
      ]
     },
     "execution_count": 17,
     "metadata": {},
     "output_type": "execute_result"
    }
   ],
   "source": [
    "AE_df = pd.DataFrame(columns=['cfips']+dim_names)\n",
    "AE_df.head()"
   ]
  },
  {
   "cell_type": "code",
   "execution_count": 18,
   "metadata": {},
   "outputs": [
    {
     "data": {
      "text/html": [
       "<div>\n",
       "<style scoped>\n",
       "    .dataframe tbody tr th:only-of-type {\n",
       "        vertical-align: middle;\n",
       "    }\n",
       "\n",
       "    .dataframe tbody tr th {\n",
       "        vertical-align: top;\n",
       "    }\n",
       "\n",
       "    .dataframe thead th {\n",
       "        text-align: right;\n",
       "    }\n",
       "</style>\n",
       "<table border=\"1\" class=\"dataframe\">\n",
       "  <thead>\n",
       "    <tr style=\"text-align: right;\">\n",
       "      <th></th>\n",
       "      <th>cfips</th>\n",
       "      <th>AE_dim_1</th>\n",
       "      <th>AE_dim_2</th>\n",
       "      <th>AE_dim_3</th>\n",
       "      <th>AE_dim_4</th>\n",
       "      <th>AE_dim_5</th>\n",
       "      <th>AE_dim_6</th>\n",
       "      <th>AE_dim_7</th>\n",
       "      <th>AE_dim_8</th>\n",
       "      <th>AE_dim_9</th>\n",
       "      <th>AE_dim_10</th>\n",
       "    </tr>\n",
       "  </thead>\n",
       "  <tbody>\n",
       "    <tr>\n",
       "      <th>0</th>\n",
       "      <td>01001</td>\n",
       "      <td>-0.00074</td>\n",
       "      <td>0.000235</td>\n",
       "      <td>0.000044</td>\n",
       "      <td>0.000279</td>\n",
       "      <td>0.0</td>\n",
       "      <td>0.000106</td>\n",
       "      <td>-0.000065</td>\n",
       "      <td>0.000241</td>\n",
       "      <td>-0.000282</td>\n",
       "      <td>-0.00073</td>\n",
       "    </tr>\n",
       "    <tr>\n",
       "      <th>1</th>\n",
       "      <td>01003</td>\n",
       "      <td>0.000354</td>\n",
       "      <td>-0.000244</td>\n",
       "      <td>-0.00005</td>\n",
       "      <td>-0.000005</td>\n",
       "      <td>-0.000135</td>\n",
       "      <td>-0.000333</td>\n",
       "      <td>0.000111</td>\n",
       "      <td>0.000104</td>\n",
       "      <td>0.000011</td>\n",
       "      <td>0.000164</td>\n",
       "    </tr>\n",
       "    <tr>\n",
       "      <th>2</th>\n",
       "      <td>01005</td>\n",
       "      <td>-0.000364</td>\n",
       "      <td>0.000122</td>\n",
       "      <td>0.000024</td>\n",
       "      <td>0.000149</td>\n",
       "      <td>-0.000167</td>\n",
       "      <td>-0.000023</td>\n",
       "      <td>0.000028</td>\n",
       "      <td>0.00004</td>\n",
       "      <td>-0.00008</td>\n",
       "      <td>-0.000505</td>\n",
       "    </tr>\n",
       "    <tr>\n",
       "      <th>3</th>\n",
       "      <td>01007</td>\n",
       "      <td>0.000009</td>\n",
       "      <td>-0.000197</td>\n",
       "      <td>0.000925</td>\n",
       "      <td>0.000245</td>\n",
       "      <td>-0.00039</td>\n",
       "      <td>-0.000478</td>\n",
       "      <td>0.000116</td>\n",
       "      <td>-0.000387</td>\n",
       "      <td>0.000032</td>\n",
       "      <td>0.000354</td>\n",
       "    </tr>\n",
       "    <tr>\n",
       "      <th>4</th>\n",
       "      <td>01009</td>\n",
       "      <td>-0.000177</td>\n",
       "      <td>-0.000038</td>\n",
       "      <td>0.000049</td>\n",
       "      <td>0.000193</td>\n",
       "      <td>-0.00021</td>\n",
       "      <td>-0.000325</td>\n",
       "      <td>-0.000021</td>\n",
       "      <td>0.000004</td>\n",
       "      <td>-0.000118</td>\n",
       "      <td>-0.000382</td>\n",
       "    </tr>\n",
       "  </tbody>\n",
       "</table>\n",
       "</div>"
      ],
      "text/plain": [
       "   cfips  AE_dim_1  AE_dim_2  AE_dim_3  AE_dim_4  AE_dim_5  AE_dim_6  \\\n",
       "0  01001  -0.00074  0.000235  0.000044  0.000279       0.0  0.000106   \n",
       "1  01003  0.000354 -0.000244  -0.00005 -0.000005 -0.000135 -0.000333   \n",
       "2  01005 -0.000364  0.000122  0.000024  0.000149 -0.000167 -0.000023   \n",
       "3  01007  0.000009 -0.000197  0.000925  0.000245  -0.00039 -0.000478   \n",
       "4  01009 -0.000177 -0.000038  0.000049  0.000193  -0.00021 -0.000325   \n",
       "\n",
       "   AE_dim_7  AE_dim_8  AE_dim_9 AE_dim_10  \n",
       "0 -0.000065  0.000241 -0.000282  -0.00073  \n",
       "1  0.000111  0.000104  0.000011  0.000164  \n",
       "2  0.000028   0.00004  -0.00008 -0.000505  \n",
       "3  0.000116 -0.000387  0.000032  0.000354  \n",
       "4 -0.000021  0.000004 -0.000118 -0.000382  "
      ]
     },
     "execution_count": 18,
     "metadata": {},
     "output_type": "execute_result"
    }
   ],
   "source": [
    "for i, cfips_str in enumerate(cfips_df['cfips']):\n",
    "    AE_df.loc[i, 'cfips'] = cfips_str\n",
    "    AE_df.loc[i, dim_names] = gpt_encoded_np[i, :]\n",
    "AE_df.head()"
   ]
  },
  {
   "cell_type": "code",
   "execution_count": 19,
   "metadata": {},
   "outputs": [],
   "source": [
    "# save the AE_df to csv\n",
    "AE_df.to_csv('AE_df.csv', index=False)"
   ]
  }
 ],
 "metadata": {
  "kernelspec": {
   "display_name": "py39_PyTorch",
   "language": "python",
   "name": "python3"
  },
  "language_info": {
   "codemirror_mode": {
    "name": "ipython",
    "version": 3
   },
   "file_extension": ".py",
   "mimetype": "text/x-python",
   "name": "python",
   "nbconvert_exporter": "python",
   "pygments_lexer": "ipython3",
   "version": "3.9.12"
  },
  "orig_nbformat": 4,
  "vscode": {
   "interpreter": {
    "hash": "29b39120620d43f9549e7927c7592b76762b5f59c38d441fd435dbab21330a12"
   }
  }
 },
 "nbformat": 4,
 "nbformat_minor": 2
}
