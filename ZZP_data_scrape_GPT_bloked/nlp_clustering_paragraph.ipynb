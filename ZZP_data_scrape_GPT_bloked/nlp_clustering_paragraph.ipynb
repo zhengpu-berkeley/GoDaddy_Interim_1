{
 "cells": [
  {
   "cell_type": "code",
   "execution_count": 1,
   "metadata": {},
   "outputs": [],
   "source": [
    "import pandas as pd\n",
    "import json\n",
    "import warnings\n",
    "import numpy as np\n",
    "import matplotlib.pyplot as plt\n",
    "warnings.filterwarnings('ignore')"
   ]
  },
  {
   "cell_type": "code",
   "execution_count": 2,
   "metadata": {},
   "outputs": [],
   "source": [
    "from transformers import AutoModel, AutoTokenizer\n",
    "import torch.nn as nn\n",
    "import torch"
   ]
  },
  {
   "cell_type": "code",
   "execution_count": 3,
   "metadata": {},
   "outputs": [],
   "source": [
    "class model(nn.Module):\n",
    "    def __init__(self, checkpoint, freeze=False, device='cpu'):\n",
    "        super().__init__()\n",
    "        \n",
    "        self.model = AutoModel.from_pretrained(checkpoint)\n",
    "        # set device cuda or cpu\n",
    "        self.device = device\n",
    "        # freeze model\n",
    "        if freeze:\n",
    "            for layer in self.model.parameters():\n",
    "                layer.requires_grad=False\n",
    "        \n",
    "    def forward(self, x, attention_mask=None):\n",
    "            \n",
    "        x = x.to(self.device)\n",
    "        # pooler_output(seq,dim) \n",
    "        with torch.no_grad():\n",
    "            model_out = self.model(x['input_ids'], x['attention_mask'], return_dict=True)\n",
    "            \n",
    "        embds = model_out.last_hidden_state # model_out[0][:,0]\n",
    "        mean_pool = embds.sum(axis=1) / x['attention_mask'].sum(axis=1).unsqueeze(axis=1)\n",
    "        return mean_pool"
   ]
  },
  {
   "cell_type": "code",
   "execution_count": 4,
   "metadata": {},
   "outputs": [
    {
     "name": "stderr",
     "output_type": "stream",
     "text": [
      "Some weights of the model checkpoint at distilbert-base-uncased were not used when initializing DistilBertModel: ['vocab_projector.bias', 'vocab_layer_norm.weight', 'vocab_layer_norm.bias', 'vocab_transform.weight', 'vocab_projector.weight', 'vocab_transform.bias']\n",
      "- This IS expected if you are initializing DistilBertModel from the checkpoint of a model trained on another task or with another architecture (e.g. initializing a BertForSequenceClassification model from a BertForPreTraining model).\n",
      "- This IS NOT expected if you are initializing DistilBertModel from the checkpoint of a model that you expect to be exactly identical (initializing a BertForSequenceClassification model from a BertForSequenceClassification model).\n"
     ]
    }
   ],
   "source": [
    "# DONE! NO NEED TO RUN THIS CELL\n",
    "\n",
    "checkpoint = 'distilbert-base-uncased'\n",
    "distilbert = model(checkpoint, freeze=True)\n",
    "distilbert.to('cpu')\n",
    "tokenizer = AutoTokenizer.from_pretrained(checkpoint)"
   ]
  },
  {
   "cell_type": "code",
   "execution_count": 5,
   "metadata": {},
   "outputs": [
    {
     "data": {
      "text/html": [
       "<div>\n",
       "<style scoped>\n",
       "    .dataframe tbody tr th:only-of-type {\n",
       "        vertical-align: middle;\n",
       "    }\n",
       "\n",
       "    .dataframe tbody tr th {\n",
       "        vertical-align: top;\n",
       "    }\n",
       "\n",
       "    .dataframe thead th {\n",
       "        text-align: right;\n",
       "    }\n",
       "</style>\n",
       "<table border=\"1\" class=\"dataframe\">\n",
       "  <thead>\n",
       "    <tr style=\"text-align: right;\">\n",
       "      <th></th>\n",
       "      <th>cfips</th>\n",
       "      <th>gpt_pro_1</th>\n",
       "      <th>gpt_pro_2</th>\n",
       "      <th>gpt_pro_3</th>\n",
       "      <th>gpt_con_1</th>\n",
       "      <th>gpt_con_2</th>\n",
       "      <th>gpt_con_3</th>\n",
       "    </tr>\n",
       "  </thead>\n",
       "  <tbody>\n",
       "    <tr>\n",
       "      <th>0</th>\n",
       "      <td>01001</td>\n",
       "      <td>Autauga County has a low cost of living, makin...</td>\n",
       "      <td>The county has a strong business community, pr...</td>\n",
       "      <td>Autauga County is located in the heart of Alab...</td>\n",
       "      <td>Autauga County has a relatively small populati...</td>\n",
       "      <td>The county has a limited number of resources a...</td>\n",
       "      <td>Autauga County is subject to the laws and regu...</td>\n",
       "    </tr>\n",
       "    <tr>\n",
       "      <th>1</th>\n",
       "      <td>01003</td>\n",
       "      <td>Baldwin County has a strong economy with a low...</td>\n",
       "      <td>The cost of living is relatively low, making i...</td>\n",
       "      <td>There are numerous resources available to help...</td>\n",
       "      <td>The local government has strict regulations an...</td>\n",
       "      <td>The area is prone to natural disasters, such a...</td>\n",
       "      <td>There is a limited pool of skilled labor avail...</td>\n",
       "    </tr>\n",
       "    <tr>\n",
       "      <th>2</th>\n",
       "      <td>01005</td>\n",
       "      <td>Low cost of living in Barbour County, Alabama,...</td>\n",
       "      <td>Access to a large customer base due to the cou...</td>\n",
       "      <td>Access to a variety of resources and support f...</td>\n",
       "      <td>Limited access to capital and financing option...</td>\n",
       "      <td>Lack of access to a skilled workforce due to t...</td>\n",
       "      <td>Limited access to technology and infrastructur...</td>\n",
       "    </tr>\n",
       "    <tr>\n",
       "      <th>3</th>\n",
       "      <td>01007</td>\n",
       "      <td>Low cost of living in Bibb County, Alabama, ma...</td>\n",
       "      <td>Access to a large customer base due to the cou...</td>\n",
       "      <td>Access to a variety of resources and support f...</td>\n",
       "      <td>Limited access to capital and financing option...</td>\n",
       "      <td>Limited access to skilled labor due to the cou...</td>\n",
       "      <td>Limited access to technology and infrastructur...</td>\n",
       "    </tr>\n",
       "    <tr>\n",
       "      <th>4</th>\n",
       "      <td>01009</td>\n",
       "      <td>Low cost of living in Blount County, Alabama, ...</td>\n",
       "      <td>Access to a large customer base due to the cou...</td>\n",
       "      <td>Access to resources such as the Blount County ...</td>\n",
       "      <td>Limited access to venture capital and other fo...</td>\n",
       "      <td>Limited access to skilled labor due to the cou...</td>\n",
       "      <td>Limited access to technology and other resourc...</td>\n",
       "    </tr>\n",
       "  </tbody>\n",
       "</table>\n",
       "</div>"
      ],
      "text/plain": [
       "   cfips                                          gpt_pro_1  \\\n",
       "0  01001  Autauga County has a low cost of living, makin...   \n",
       "1  01003  Baldwin County has a strong economy with a low...   \n",
       "2  01005  Low cost of living in Barbour County, Alabama,...   \n",
       "3  01007  Low cost of living in Bibb County, Alabama, ma...   \n",
       "4  01009  Low cost of living in Blount County, Alabama, ...   \n",
       "\n",
       "                                           gpt_pro_2  \\\n",
       "0  The county has a strong business community, pr...   \n",
       "1  The cost of living is relatively low, making i...   \n",
       "2  Access to a large customer base due to the cou...   \n",
       "3  Access to a large customer base due to the cou...   \n",
       "4  Access to a large customer base due to the cou...   \n",
       "\n",
       "                                           gpt_pro_3  \\\n",
       "0  Autauga County is located in the heart of Alab...   \n",
       "1  There are numerous resources available to help...   \n",
       "2  Access to a variety of resources and support f...   \n",
       "3  Access to a variety of resources and support f...   \n",
       "4  Access to resources such as the Blount County ...   \n",
       "\n",
       "                                           gpt_con_1  \\\n",
       "0  Autauga County has a relatively small populati...   \n",
       "1  The local government has strict regulations an...   \n",
       "2  Limited access to capital and financing option...   \n",
       "3  Limited access to capital and financing option...   \n",
       "4  Limited access to venture capital and other fo...   \n",
       "\n",
       "                                           gpt_con_2  \\\n",
       "0  The county has a limited number of resources a...   \n",
       "1  The area is prone to natural disasters, such a...   \n",
       "2  Lack of access to a skilled workforce due to t...   \n",
       "3  Limited access to skilled labor due to the cou...   \n",
       "4  Limited access to skilled labor due to the cou...   \n",
       "\n",
       "                                           gpt_con_3  \n",
       "0  Autauga County is subject to the laws and regu...  \n",
       "1  There is a limited pool of skilled labor avail...  \n",
       "2  Limited access to technology and infrastructur...  \n",
       "3  Limited access to technology and infrastructur...  \n",
       "4  Limited access to technology and other resourc...  "
      ]
     },
     "execution_count": 5,
     "metadata": {},
     "output_type": "execute_result"
    }
   ],
   "source": [
    "dtypes = {'cfips': str}\n",
    "df = pd.read_csv('gpt_pro_con_no_null.csv', dtype=dtypes)\n",
    "df.head()"
   ]
  },
  {
   "cell_type": "code",
   "execution_count": 6,
   "metadata": {},
   "outputs": [
    {
     "name": "stdout",
     "output_type": "stream",
     "text": [
      "<class 'pandas.core.frame.DataFrame'>\n",
      "RangeIndex: 3142 entries, 0 to 3141\n",
      "Data columns (total 7 columns):\n",
      " #   Column     Non-Null Count  Dtype \n",
      "---  ------     --------------  ----- \n",
      " 0   cfips      3142 non-null   object\n",
      " 1   gpt_pro_1  3142 non-null   object\n",
      " 2   gpt_pro_2  3142 non-null   object\n",
      " 3   gpt_pro_3  3142 non-null   object\n",
      " 4   gpt_con_1  3142 non-null   object\n",
      " 5   gpt_con_2  3142 non-null   object\n",
      " 6   gpt_con_3  3142 non-null   object\n",
      "dtypes: object(7)\n",
      "memory usage: 172.0+ KB\n"
     ]
    }
   ],
   "source": [
    "df.info()"
   ]
  },
  {
   "cell_type": "code",
   "execution_count": 10,
   "metadata": {},
   "outputs": [],
   "source": [
    "def read_csv_to_sentences(df):\n",
    "    docs = []\n",
    "    for i in range(len(df)):\n",
    "        docs.append('PRO_1: ' + df['gpt_pro_1'][i] + \n",
    "                    ' PRO_2: ' + df['gpt_pro_2'][i] +\n",
    "                    ' PRO_3: ' + df['gpt_pro_3'][i] +\n",
    "                    ' CON_1: ' + df['gpt_con_1'][i] +\n",
    "                    ' CON_2: ' + df['gpt_con_2'][i] +\n",
    "                    ' CON_3: ' + df['gpt_con_3'][i])\n",
    "    return docs"
   ]
  },
  {
   "cell_type": "code",
   "execution_count": 11,
   "metadata": {},
   "outputs": [
    {
     "name": "stdout",
     "output_type": "stream",
     "text": [
      "3142\n"
     ]
    }
   ],
   "source": [
    "docs = read_csv_to_sentences(df)\n",
    "final_sentences = docs\n",
    "print(len(final_sentences))"
   ]
  },
  {
   "cell_type": "code",
   "execution_count": 12,
   "metadata": {},
   "outputs": [
    {
     "name": "stdout",
     "output_type": "stream",
     "text": [
      "PRO_1: Autauga County has a low cost of living, making it an affordable place to start a business. PRO_2: The county has a strong business community, providing resources and support for entrepreneurs. PRO_3: Autauga County is located in the heart of Alabama, providing easy access to major cities and transportation hubs. CON_1: Autauga County has a relatively small population, which may limit the potential customer base for a small business. CON_2: The county has a limited number of resources and services available to small businesses. CON_3: Autauga County is subject to the laws and regulations of the state of Alabama, which may be restrictive for certain types of businesses.\n"
     ]
    }
   ],
   "source": [
    "print(final_sentences[0])"
   ]
  },
  {
   "cell_type": "code",
   "execution_count": 13,
   "metadata": {},
   "outputs": [],
   "source": [
    "# dataloader\n",
    "final_embeddings = list()\n",
    "all_embeddings = []\n",
    "\n",
    "final_sentences = docs\n",
    "\n",
    "batch_sz = 64 # batch_size\n",
    "for idx in range(0, len(final_sentences), batch_sz):\n",
    "    batch_sentences = final_sentences[idx:idx+batch_sz]\n",
    "    for sent in batch_sentences:\n",
    "        tokens = tokenizer(sent ,truncation='longest_first', return_tensors='pt', return_attention_mask=True,padding=True)\n",
    "        embeddings = distilbert(tokens)\n",
    "        final_embeddings.extend(embeddings)\n",
    "        all_embeddings = torch.stack(final_embeddings)\n",
    "\n",
    "with open('distillBERT_embeddings_paragraph.json', 'w') as f:\n",
    "    json.dump(all_embeddings.tolist(), f)"
   ]
  },
  {
   "cell_type": "code",
   "execution_count": 14,
   "metadata": {},
   "outputs": [],
   "source": [
    "# load embeddings\n",
    "with open('distillBERT_embeddings_paragraph.json', 'r') as f:\n",
    "    all_embeddings = json.load(f)"
   ]
  },
  {
   "cell_type": "code",
   "execution_count": 15,
   "metadata": {},
   "outputs": [
    {
     "name": "stdout",
     "output_type": "stream",
     "text": [
      "3142\n",
      "768\n"
     ]
    }
   ],
   "source": [
    "print(len(all_embeddings))\n",
    "print(len(all_embeddings[0]))"
   ]
  },
  {
   "cell_type": "code",
   "execution_count": null,
   "metadata": {},
   "outputs": [],
   "source": []
  }
 ],
 "metadata": {
  "kernelspec": {
   "display_name": "py39_PT_HF",
   "language": "python",
   "name": "python3"
  },
  "language_info": {
   "codemirror_mode": {
    "name": "ipython",
    "version": 3
   },
   "file_extension": ".py",
   "mimetype": "text/x-python",
   "name": "python",
   "nbconvert_exporter": "python",
   "pygments_lexer": "ipython3",
   "version": "3.9.12"
  },
  "orig_nbformat": 4,
  "vscode": {
   "interpreter": {
    "hash": "af6b9edc317da9e350fdb877ab5f59b271488261a1f61deba33cb77ddc696fca"
   }
  }
 },
 "nbformat": 4,
 "nbformat_minor": 2
}
