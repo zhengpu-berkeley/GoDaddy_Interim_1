{
 "cells": [
  {
   "cell_type": "code",
   "execution_count": 1,
   "metadata": {},
   "outputs": [],
   "source": [
    "import pandas as pd\n",
    "import json\n",
    "import warnings\n",
    "import numpy as np\n",
    "import matplotlib.pyplot as plt\n",
    "warnings.filterwarnings('ignore')"
   ]
  },
  {
   "cell_type": "code",
   "execution_count": 2,
   "metadata": {},
   "outputs": [],
   "source": [
    "from sklearn.feature_extraction.text import TfidfVectorizer\n",
    "from sklearn.cluster import KMeans"
   ]
  },
  {
   "cell_type": "code",
   "execution_count": 3,
   "metadata": {},
   "outputs": [],
   "source": [
    "from transformers import AutoModel, AutoTokenizer\n",
    "import torch.nn as nn\n",
    "import torch"
   ]
  },
  {
   "cell_type": "code",
   "execution_count": 4,
   "metadata": {},
   "outputs": [],
   "source": [
    "class model(nn.Module):\n",
    "    def __init__(self, checkpoint, freeze=False, device='cpu'):\n",
    "        super().__init__()\n",
    "        \n",
    "        self.model = AutoModel.from_pretrained(checkpoint)\n",
    "        # set device cuda or cpu\n",
    "        self.device = device\n",
    "        # freeze model\n",
    "        if freeze:\n",
    "            for layer in self.model.parameters():\n",
    "                layer.requires_grad=False\n",
    "        \n",
    "    def forward(self, x, attention_mask=None):\n",
    "            \n",
    "        x = x.to(self.device)\n",
    "        # pooler_output(seq,dim) \n",
    "        with torch.no_grad():\n",
    "            model_out = self.model(x['input_ids'], x['attention_mask'], return_dict=True)\n",
    "            \n",
    "        embds = model_out.last_hidden_state # model_out[0][:,0]\n",
    "        mean_pool = embds.sum(axis=1) / x['attention_mask'].sum(axis=1).unsqueeze(axis=1)\n",
    "        return mean_pool"
   ]
  },
  {
   "cell_type": "code",
   "execution_count": 5,
   "metadata": {},
   "outputs": [],
   "source": [
    "# DONE! NO NEED TO RUN THIS CELL\n",
    "\n",
    "# checkpoint = 'distilbert-base-uncased'\n",
    "# distilbert = model(checkpoint, freeze=True)\n",
    "# distilbert.to('cpu')\n",
    "# tokenizer = AutoTokenizer.from_pretrained(checkpoint)"
   ]
  },
  {
   "cell_type": "code",
   "execution_count": 6,
   "metadata": {},
   "outputs": [
    {
     "data": {
      "text/html": [
       "<div>\n",
       "<style scoped>\n",
       "    .dataframe tbody tr th:only-of-type {\n",
       "        vertical-align: middle;\n",
       "    }\n",
       "\n",
       "    .dataframe tbody tr th {\n",
       "        vertical-align: top;\n",
       "    }\n",
       "\n",
       "    .dataframe thead th {\n",
       "        text-align: right;\n",
       "    }\n",
       "</style>\n",
       "<table border=\"1\" class=\"dataframe\">\n",
       "  <thead>\n",
       "    <tr style=\"text-align: right;\">\n",
       "      <th></th>\n",
       "      <th>cfips</th>\n",
       "      <th>gpt_pro_1</th>\n",
       "      <th>gpt_pro_2</th>\n",
       "      <th>gpt_pro_3</th>\n",
       "      <th>gpt_con_1</th>\n",
       "      <th>gpt_con_2</th>\n",
       "      <th>gpt_con_3</th>\n",
       "    </tr>\n",
       "  </thead>\n",
       "  <tbody>\n",
       "    <tr>\n",
       "      <th>0</th>\n",
       "      <td>01001</td>\n",
       "      <td>Autauga County has a low cost of living, makin...</td>\n",
       "      <td>The county has a strong business community, pr...</td>\n",
       "      <td>Autauga County is located in the heart of Alab...</td>\n",
       "      <td>Autauga County has a relatively small populati...</td>\n",
       "      <td>The county has a limited number of resources a...</td>\n",
       "      <td>Autauga County is subject to the laws and regu...</td>\n",
       "    </tr>\n",
       "    <tr>\n",
       "      <th>1</th>\n",
       "      <td>01003</td>\n",
       "      <td>Baldwin County has a strong economy with a low...</td>\n",
       "      <td>The cost of living is relatively low, making i...</td>\n",
       "      <td>There are numerous resources available to help...</td>\n",
       "      <td>The local government has strict regulations an...</td>\n",
       "      <td>The area is prone to natural disasters, such a...</td>\n",
       "      <td>There is a limited pool of skilled labor avail...</td>\n",
       "    </tr>\n",
       "    <tr>\n",
       "      <th>2</th>\n",
       "      <td>01005</td>\n",
       "      <td>Low cost of living in Barbour County, Alabama,...</td>\n",
       "      <td>Access to a large customer base due to the cou...</td>\n",
       "      <td>Access to a variety of resources and support f...</td>\n",
       "      <td>Limited access to capital and financing option...</td>\n",
       "      <td>Lack of access to a skilled workforce due to t...</td>\n",
       "      <td>Limited access to technology and infrastructur...</td>\n",
       "    </tr>\n",
       "    <tr>\n",
       "      <th>3</th>\n",
       "      <td>01007</td>\n",
       "      <td>Low cost of living in Bibb County, Alabama, ma...</td>\n",
       "      <td>Access to a large customer base due to the cou...</td>\n",
       "      <td>Access to a variety of resources and support f...</td>\n",
       "      <td>Limited access to capital and financing option...</td>\n",
       "      <td>Limited access to skilled labor due to the cou...</td>\n",
       "      <td>Limited access to technology and infrastructur...</td>\n",
       "    </tr>\n",
       "    <tr>\n",
       "      <th>4</th>\n",
       "      <td>01009</td>\n",
       "      <td>Low cost of living in Blount County, Alabama, ...</td>\n",
       "      <td>Access to a large customer base due to the cou...</td>\n",
       "      <td>Access to resources such as the Blount County ...</td>\n",
       "      <td>Limited access to venture capital and other fo...</td>\n",
       "      <td>Limited access to skilled labor due to the cou...</td>\n",
       "      <td>Limited access to technology and other resourc...</td>\n",
       "    </tr>\n",
       "  </tbody>\n",
       "</table>\n",
       "</div>"
      ],
      "text/plain": [
       "   cfips                                          gpt_pro_1  \\\n",
       "0  01001  Autauga County has a low cost of living, makin...   \n",
       "1  01003  Baldwin County has a strong economy with a low...   \n",
       "2  01005  Low cost of living in Barbour County, Alabama,...   \n",
       "3  01007  Low cost of living in Bibb County, Alabama, ma...   \n",
       "4  01009  Low cost of living in Blount County, Alabama, ...   \n",
       "\n",
       "                                           gpt_pro_2  \\\n",
       "0  The county has a strong business community, pr...   \n",
       "1  The cost of living is relatively low, making i...   \n",
       "2  Access to a large customer base due to the cou...   \n",
       "3  Access to a large customer base due to the cou...   \n",
       "4  Access to a large customer base due to the cou...   \n",
       "\n",
       "                                           gpt_pro_3  \\\n",
       "0  Autauga County is located in the heart of Alab...   \n",
       "1  There are numerous resources available to help...   \n",
       "2  Access to a variety of resources and support f...   \n",
       "3  Access to a variety of resources and support f...   \n",
       "4  Access to resources such as the Blount County ...   \n",
       "\n",
       "                                           gpt_con_1  \\\n",
       "0  Autauga County has a relatively small populati...   \n",
       "1  The local government has strict regulations an...   \n",
       "2  Limited access to capital and financing option...   \n",
       "3  Limited access to capital and financing option...   \n",
       "4  Limited access to venture capital and other fo...   \n",
       "\n",
       "                                           gpt_con_2  \\\n",
       "0  The county has a limited number of resources a...   \n",
       "1  The area is prone to natural disasters, such a...   \n",
       "2  Lack of access to a skilled workforce due to t...   \n",
       "3  Limited access to skilled labor due to the cou...   \n",
       "4  Limited access to skilled labor due to the cou...   \n",
       "\n",
       "                                           gpt_con_3  \n",
       "0  Autauga County is subject to the laws and regu...  \n",
       "1  There is a limited pool of skilled labor avail...  \n",
       "2  Limited access to technology and infrastructur...  \n",
       "3  Limited access to technology and infrastructur...  \n",
       "4  Limited access to technology and other resourc...  "
      ]
     },
     "execution_count": 6,
     "metadata": {},
     "output_type": "execute_result"
    }
   ],
   "source": [
    "dtypes = {'cfips': str}\n",
    "df = pd.read_csv('gpt_pro_con_no_null.csv', dtype=dtypes)\n",
    "df.head()"
   ]
  },
  {
   "cell_type": "code",
   "execution_count": 7,
   "metadata": {},
   "outputs": [
    {
     "name": "stdout",
     "output_type": "stream",
     "text": [
      "<class 'pandas.core.frame.DataFrame'>\n",
      "RangeIndex: 3142 entries, 0 to 3141\n",
      "Data columns (total 7 columns):\n",
      " #   Column     Non-Null Count  Dtype \n",
      "---  ------     --------------  ----- \n",
      " 0   cfips      3142 non-null   object\n",
      " 1   gpt_pro_1  3142 non-null   object\n",
      " 2   gpt_pro_2  3142 non-null   object\n",
      " 3   gpt_pro_3  3142 non-null   object\n",
      " 4   gpt_con_1  3142 non-null   object\n",
      " 5   gpt_con_2  3142 non-null   object\n",
      " 6   gpt_con_3  3142 non-null   object\n",
      "dtypes: object(7)\n",
      "memory usage: 172.0+ KB\n"
     ]
    }
   ],
   "source": [
    "df.info()"
   ]
  },
  {
   "cell_type": "code",
   "execution_count": 8,
   "metadata": {},
   "outputs": [],
   "source": [
    "# # manually fill in null values for missing pro/con\n",
    "# # NO NEED TO RUN THIS CELL\n",
    "\n",
    "# df.loc[81, 'gpt_pro_1'] = 'Low competition: Kusilvak Census Area is a rural region with few businesses, which means that there is a significant opportunity for entrepreneurs to establish a presence in the market.'\n",
    "# df.loc[81, 'gpt_pro_2'] = 'Supportive community: The region has a strong sense of community, and small business owners can expect to receive support and referrals from locals.'\n",
    "# df.loc[81, 'gpt_pro_3'] = 'Potential for growth: Kusilvak Census Area is experiencing population growth, which suggests a growing market for goods and services.'\n",
    "# df.loc[81, 'gpt_con_1'] = 'High costs: The region has a high cost of living, which translates to higher expenses for businesses in terms of rent, supplies, and utilities.'\n",
    "# df.loc[81, 'gpt_con_2'] = 'Harsh weather: Kusilvak Census Area experiences long, cold winters, which can make it challenging to transport goods and services and can impact the economy.'\n",
    "# df.loc[81, 'gpt_con_3'] = 'Limited access to resources: As a remote region, Kusilvak Census Area has limited access to resources such as skilled labor, equipment, and funding, which can hinder the growth of a small business.'\n",
    "\n",
    "# df.loc[1127, 'gpt_pro_1'] = 'Low cost of living: With a lower cost of living, small businesses can potentially save money on expenses such as rent and utilities.'\n",
    "# df.loc[1127, 'gpt_pro_2'] = 'Supportive community: Concordia Parish has a tight-knit community that is supportive of small businesses, making it easier to build a customer base and get word-of-mouth referrals.'\n",
    "# df.loc[1127, 'gpt_pro_3'] = 'Access to resources: The region has resources like the Concordia Economic Development office, small business development centers, and networking events that can help small businesses get off the ground.'\n",
    "# df.loc[1127, 'gpt_con_1'] = 'Limited customer base: Concordia Parish has a small population, which could limit the number of potential customers for a small business.'\n",
    "# df.loc[1127, 'gpt_con_2'] = 'Competition: The small business market in Concordia Parish may already be saturated with similar businesses, making it difficult to stand out.'\n",
    "# df.loc[1127, 'gpt_con_3'] = 'Limited access to skilled labor: There may be limited access to skilled labor in the region, making it more difficult to find qualified employees.'\n",
    "\n",
    "# df.loc[2412, 'gpt_pro_1'] = 'Low Cost of Living: Oglala Lakota County offers a low cost of living compared to other areas, allowing for cheaper rent, labor costs, and other expenses.'\n",
    "# df.loc[2412, 'gpt_pro_2'] = 'Tax Benefits: The county offers several tax incentives for small businesses, including a tax abatement program for new businesses and a reduced tax rate for property.'\n",
    "# df.loc[2412, 'gpt_pro_3'] = 'Supportive Community: The local community is supportive of small businesses, with several resources available, such as the Lakota Funds, which provides financing and technical assistance.'\n",
    "# df.loc[2412, 'gpt_con_1'] = 'Limited Market: The county has a small population, which may limit the potential customer base for certain businesses.'\n",
    "# df.loc[2412, 'gpt_con_2'] = 'Geographic Isolation: The county is remote and may be challenging to reach for suppliers and customers, leading to increased transportation costs.'\n",
    "# df.loc[2412, 'gpt_con_3'] = 'Workforce Shortages: The area may have a limited pool of skilled workers, making it difficult to find qualified employees for certain industries.'\n",
    "\n",
    "# df.to_csv('gpt_pro_con_no_null.csv', index=False)\n",
    "# df.isnull().sum()"
   ]
  },
  {
   "cell_type": "code",
   "execution_count": 9,
   "metadata": {},
   "outputs": [],
   "source": [
    "def read_csv_to_sentences(df):\n",
    "    docs = []\n",
    "    for i in range(len(df)):\n",
    "        docs.append(df['gpt_pro_1'][i])\n",
    "        docs.append(df['gpt_pro_2'][i])\n",
    "        docs.append(df['gpt_pro_3'][i])\n",
    "        docs.append(df['gpt_con_1'][i])\n",
    "        docs.append(df['gpt_con_2'][i])\n",
    "        docs.append(df['gpt_con_3'][i])\n",
    "    return docs"
   ]
  },
  {
   "cell_type": "code",
   "execution_count": 10,
   "metadata": {},
   "outputs": [],
   "source": [
    "docs = read_csv_to_sentences(df)\n",
    "final_sentences = docs"
   ]
  },
  {
   "cell_type": "code",
   "execution_count": 11,
   "metadata": {},
   "outputs": [],
   "source": [
    "# # NO NEED TO RUN AGAIN, ALREADY SAVED AS JSON FILE\n",
    "\n",
    "# # dataloader\n",
    "# final_embeddings = list()\n",
    "# all_embeddings = []\n",
    "\n",
    "# final_sentences = docs\n",
    "\n",
    "# batch_sz = 200 # batch_size\n",
    "# for idx in range(0, len(final_sentences), batch_sz):\n",
    "#     batch_sentences = final_sentences[idx:idx+batch_sz]\n",
    "#     for sent in batch_sentences:\n",
    "#         tokens = tokenizer(sent ,truncation='longest_first', return_tensors='pt', return_attention_mask=True,padding=True)\n",
    "#         embeddings = distilbert(tokens)\n",
    "#         final_embeddings.extend(embeddings)\n",
    "#         all_embeddings = torch.stack(final_embeddings)\n",
    "\n",
    "# with open('distillBERT_embeddings.json', 'w') as f:\n",
    "#     json.dump(all_embeddings.tolist(), f)"
   ]
  },
  {
   "cell_type": "code",
   "execution_count": 12,
   "metadata": {},
   "outputs": [],
   "source": [
    "# load embeddings\n",
    "with open('distillBERT_embeddings.json') as f:\n",
    "    all_embeddings = json.load(f)"
   ]
  },
  {
   "cell_type": "code",
   "execution_count": 13,
   "metadata": {},
   "outputs": [],
   "source": [
    "positive_embeddings = []\n",
    "negative_embeddings = []\n",
    "for i in range(len(all_embeddings)):\n",
    "    if i % 6 == 0 or i % 6 == 1 or i % 6 == 2:\n",
    "        positive_embeddings.append(all_embeddings[i])\n",
    "    else:\n",
    "        negative_embeddings.append(all_embeddings[i])\n",
    "\n",
    "positive_sentences = []\n",
    "negative_sentences = []\n",
    "for i in range(len(final_sentences)):\n",
    "    if i % 6 == 0 or i % 6 == 1 or i % 6 == 2:\n",
    "        positive_sentences.append(final_sentences[i])\n",
    "    else:\n",
    "        negative_sentences.append(final_sentences[i])"
   ]
  },
  {
   "cell_type": "code",
   "execution_count": 14,
   "metadata": {},
   "outputs": [
    {
     "data": {
      "text/plain": [
       "['Autauga County has a low cost of living, making it an affordable place to start a business.',\n",
       " 'The county has a strong business community, providing resources and support for entrepreneurs.',\n",
       " 'Autauga County is located in the heart of Alabama, providing easy access to major cities and transportation hubs.',\n",
       " 'Baldwin County has a strong economy with a low unemployment rate.',\n",
       " 'The cost of living is relatively low, making it an attractive place to start a business.',\n",
       " 'There are numerous resources available to help small businesses get started, such as the Small Business Development Center and the Baldwin County Economic Development Alliance.']"
      ]
     },
     "execution_count": 14,
     "metadata": {},
     "output_type": "execute_result"
    }
   ],
   "source": [
    "positive_sentences[:6]"
   ]
  },
  {
   "cell_type": "code",
   "execution_count": 15,
   "metadata": {},
   "outputs": [
    {
     "data": {
      "text/plain": [
       "['Autauga County has a relatively small population, which may limit the potential customer base for a small business.',\n",
       " 'The county has a limited number of resources and services available to small businesses.',\n",
       " 'Autauga County is subject to the laws and regulations of the state of Alabama, which may be restrictive for certain types of businesses.',\n",
       " 'The local government has strict regulations and taxes that can be difficult to navigate.',\n",
       " 'The area is prone to natural disasters, such as hurricanes and floods, which can disrupt business operations.',\n",
       " 'There is a limited pool of skilled labor available in the area, making it difficult to find qualified employees.']"
      ]
     },
     "execution_count": 15,
     "metadata": {},
     "output_type": "execute_result"
    }
   ],
   "source": [
    "negative_sentences[:6]"
   ]
  },
  {
   "attachments": {},
   "cell_type": "markdown",
   "metadata": {},
   "source": [
    "## 20 clusters"
   ]
  },
  {
   "cell_type": "code",
   "execution_count": 16,
   "metadata": {},
   "outputs": [],
   "source": [
    "# set seed for the KMeans clustering\n",
    "np.random.seed(222)"
   ]
  },
  {
   "cell_type": "code",
   "execution_count": 17,
   "metadata": {},
   "outputs": [],
   "source": [
    "positive_clusterer = KMeans(n_clusters=10, verbose=0)\n",
    "positive_clustered_docs = positive_clusterer.fit_predict(positive_embeddings)\n",
    "\n",
    "negative_clusterer = KMeans(n_clusters=10, verbose=0)\n",
    "negative_clustered_docs = negative_clusterer.fit_predict(negative_embeddings)"
   ]
  },
  {
   "cell_type": "code",
   "execution_count": 18,
   "metadata": {},
   "outputs": [],
   "source": [
    "# positive cluster matric\n",
    "positive_cluster_labels = positive_clusterer.labels_\n",
    "positive_cluster_centers = positive_clusterer.cluster_centers_\n",
    "\n",
    "# negative cluster matric\n",
    "negative_cluster_labels = negative_clusterer.labels_\n",
    "negative_cluster_centers = negative_clusterer.cluster_centers_"
   ]
  },
  {
   "cell_type": "code",
   "execution_count": 19,
   "metadata": {},
   "outputs": [
    {
     "data": {
      "text/plain": [
       "(3142.0, 3142.0)"
      ]
     },
     "execution_count": 19,
     "metadata": {},
     "output_type": "execute_result"
    }
   ],
   "source": [
    "len(positive_cluster_labels)/3 , len(negative_cluster_labels)/3"
   ]
  },
  {
   "cell_type": "code",
   "execution_count": 20,
   "metadata": {},
   "outputs": [],
   "source": [
    "positive_matched_list = list(zip(positive_sentences, positive_cluster_labels))\n",
    "negative_matched_list = list(zip(negative_sentences, negative_cluster_labels))"
   ]
  },
  {
   "cell_type": "code",
   "execution_count": 21,
   "metadata": {},
   "outputs": [],
   "source": [
    "def get_cluster_sentences(first, last, some_list):\n",
    "    for i in range(first, last):\n",
    "        print(f'Cluster {i}:')\n",
    "        j = 0\n",
    "        for sentence, cluster in some_list:\n",
    "            if cluster == i:\n",
    "                print(sentence)\n",
    "                j += 1\n",
    "            if j == 7:\n",
    "                break"
   ]
  },
  {
   "cell_type": "code",
   "execution_count": 22,
   "metadata": {},
   "outputs": [
    {
     "name": "stdout",
     "output_type": "stream",
     "text": [
      "Cluster 7:\n",
      "The county has a strong business community, providing resources and support for entrepreneurs.\n",
      "Autauga County is located in the heart of Alabama, providing easy access to major cities and transportation hubs.\n",
      "Baldwin County has a strong economy with a low unemployment rate.\n",
      "Dallas County has a strong workforce, providing access to skilled labor.\n",
      "Elmore County is located in a prime location, with easy access to major cities and transportation hubs.\n",
      "Greene County is located in a prime location for businesses, with easy access to major cities and transportation hubs.\n",
      "Houston County has a diverse economy, providing a variety of potential customers.\n",
      "Cluster 8:\n",
      "Access to a large customer base due to the county's population of over 27,000 people.\n",
      "Access to a large customer base due to the county's proximity to Birmingham and other major cities.\n",
      "Access to a large customer base due to the county's population of over 57,000 people.\n",
      "Access to a large customer base due to the county's population of 118,572.\n",
      "Access to a large customer base due to the county's population of over 32,000 people\n",
      "Access to a large customer base due to the county's proximity to larger cities such as Mobile and Montgomery.\n",
      "Access to a large customer base due to the county's population of over 80,000 people\n",
      "Cluster 9:\n",
      "There are numerous resources available to help small businesses get started, such as the Small Business Development Center and the Baldwin County Economic Development Alliance.\n",
      "Access to resources such as the Blount County Chamber of Commerce, which provides support and resources to local businesses.\n",
      "Access to resources such as the Small Business Development Center and the Butler County Chamber of Commerce\n",
      "Access to resources such as the Calhoun County Chamber of Commerce, which provides support and resources to small businesses.\n",
      "Access to resources such as the Chambers County Economic Development Council, which provides assistance to small businesses.\n",
      "Access to resources such as the Choctaw County Chamber of Commerce and the Small Business Development Center\n",
      "A variety of resources available to small business owners, including the Small Business Development Center and the Clarke County Chamber of Commerce.\n"
     ]
    }
   ],
   "source": [
    "get_cluster_sentences(7, 10, positive_matched_list)"
   ]
  },
  {
   "cell_type": "code",
   "execution_count": 23,
   "metadata": {},
   "outputs": [
    {
     "name": "stdout",
     "output_type": "stream",
     "text": [
      "Cluster 7:\n",
      "Limited access to venture capital and other forms of financing.\n",
      "Limited access to venture capital and other forms of financing.\n",
      "Limited access to venture capital and other forms of financing\n",
      "Limited access to venture capital and other forms of financing\n",
      "Limited access to venture capital and other forms of financing\n",
      "Limited access to venture capital and other forms of financing\n",
      "Limited access to venture capital and other forms of financing\n",
      "Cluster 8:\n",
      "Low population density, making it difficult to reach potential customers.\n",
      "Low population density, making it difficult to reach a large customer base\n",
      "Low population density, making it difficult to reach potential customers.\n",
      "Low population density in the area, making it difficult to reach potential customers.\n",
      "Extreme weather conditions can make operations difficult\n",
      "High cost of doing business due to the remote location\n",
      "Difficult to attract and retain qualified employees due to the remote location\n",
      "Cluster 9:\n",
      "Autauga County has a relatively small population, which may limit the potential customer base for a small business.\n",
      "The county has a limited number of resources and services available to small businesses.\n",
      "Autauga County is subject to the laws and regulations of the state of Alabama, which may be restrictive for certain types of businesses.\n",
      "Limited access to capital and financing options due to the county's rural location.\n",
      "Limited access to technology and infrastructure due to the county's rural location.\n",
      "Limited access to capital and financing options due to the county's small size.\n",
      "Limited access to skilled labor due to the county's rural location.\n"
     ]
    }
   ],
   "source": [
    "get_cluster_sentences(7, 10, negative_matched_list)"
   ]
  },
  {
   "cell_type": "code",
   "execution_count": 24,
   "metadata": {},
   "outputs": [],
   "source": [
    "positive_cluster_names = {\n",
    "    0: 'Supportive_Community',\n",
    "    1: 'Low_Cost_of_Living',\n",
    "    2: 'Government_Support',\n",
    "    3: 'Large_Customer_Base',\n",
    "    4: 'Low_Cost_of_Living',\n",
    "    5: 'Low_Cost_of_Living',\n",
    "    6: 'Natural_Resources',\n",
    "    7: 'Connected_Economy',\n",
    "    8: 'Large_Customer_Base',\n",
    "    9: 'Government_Support'\n",
    "}\n",
    "\n",
    "negative_cluster_names = {\n",
    "    0: 'Limited_Tech_n_Infra',\n",
    "    1: 'Limited_Financing',\n",
    "    2: 'Tough_Labor_Market',\n",
    "    3: 'Various_Downsides',\n",
    "    4: 'Limited_Tech_n_Infra',\n",
    "    5: 'Tough_Labor_Market',\n",
    "    6: 'Low_Pop_Bad_Weather',\n",
    "    7: 'Limited_Financing',\n",
    "    8: 'Low_Pop_Bad_Weather',\n",
    "    9: 'Unfavorable_Location'\n",
    "}"
   ]
  },
  {
   "cell_type": "code",
   "execution_count": 25,
   "metadata": {},
   "outputs": [],
   "source": [
    "new_positive_cluster_labels = []\n",
    "for i in range(len(positive_cluster_labels)):\n",
    "    new_positive_cluster_labels.append(positive_cluster_names[positive_cluster_labels[i]])\n",
    "\n",
    "new_negative_cluster_labels = []\n",
    "for i in range(len(negative_cluster_labels)):\n",
    "    new_negative_cluster_labels.append(negative_cluster_names[negative_cluster_labels[i]])"
   ]
  },
  {
   "cell_type": "code",
   "execution_count": 26,
   "metadata": {},
   "outputs": [
    {
     "data": {
      "text/plain": [
       "Text(0.5, 1.0, 'Negative Clusters')"
      ]
     },
     "execution_count": 26,
     "metadata": {},
     "output_type": "execute_result"
    },
    {
     "data": {
      "image/png": "[encoded data removed]",
      "text/plain": [
       "<Figure size 1500x500 with 2 Axes>"
      ]
     },
     "metadata": {},
     "output_type": "display_data"
    }
   ],
   "source": [
    "# check the number of sentences in each cluster\n",
    "pos_labels, positive_counts = np.unique(new_positive_cluster_labels, return_counts=True)\n",
    "neg_labels, negative_counts = np.unique(new_negative_cluster_labels, return_counts=True)\n",
    "\n",
    "# plot the number of sentences in each cluster\n",
    "fig, ax = plt.subplots(1, 2, figsize=(15, 5))\n",
    "# set the ticks to 60 degrees\n",
    "plt.setp(ax[0].get_xticklabels(), rotation=60, ha=\"right\", rotation_mode=\"anchor\")\n",
    "plt.setp(ax[1].get_xticklabels(), rotation=60, ha=\"right\", rotation_mode=\"anchor\")\n",
    "ax[0].bar(pos_labels, positive_counts, color='green')\n",
    "ax[0].set_title('Positive Clusters')\n",
    "ax[1].bar(neg_labels, negative_counts, color='red')\n",
    "ax[1].set_title('Negative Clusters')"
   ]
  },
  {
   "cell_type": "code",
   "execution_count": 27,
   "metadata": {},
   "outputs": [
    {
     "data": {
      "text/html": [
       "<div>\n",
       "<style scoped>\n",
       "    .dataframe tbody tr th:only-of-type {\n",
       "        vertical-align: middle;\n",
       "    }\n",
       "\n",
       "    .dataframe tbody tr th {\n",
       "        vertical-align: top;\n",
       "    }\n",
       "\n",
       "    .dataframe thead th {\n",
       "        text-align: right;\n",
       "    }\n",
       "</style>\n",
       "<table border=\"1\" class=\"dataframe\">\n",
       "  <thead>\n",
       "    <tr style=\"text-align: right;\">\n",
       "      <th></th>\n",
       "      <th>cfips</th>\n",
       "    </tr>\n",
       "  </thead>\n",
       "  <tbody>\n",
       "    <tr>\n",
       "      <th>0</th>\n",
       "      <td>01001</td>\n",
       "    </tr>\n",
       "    <tr>\n",
       "      <th>1</th>\n",
       "      <td>01003</td>\n",
       "    </tr>\n",
       "    <tr>\n",
       "      <th>2</th>\n",
       "      <td>01005</td>\n",
       "    </tr>\n",
       "    <tr>\n",
       "      <th>3</th>\n",
       "      <td>01007</td>\n",
       "    </tr>\n",
       "    <tr>\n",
       "      <th>4</th>\n",
       "      <td>01009</td>\n",
       "    </tr>\n",
       "  </tbody>\n",
       "</table>\n",
       "</div>"
      ],
      "text/plain": [
       "   cfips\n",
       "0  01001\n",
       "1  01003\n",
       "2  01005\n",
       "3  01007\n",
       "4  01009"
      ]
     },
     "execution_count": 27,
     "metadata": {},
     "output_type": "execute_result"
    }
   ],
   "source": [
    "# load the cfips data\n",
    "dtypes = {'cfips': str}\n",
    "cfips_df = pd.read_csv('cfips.csv', dtype=dtypes)\n",
    "cfips_df.head()"
   ]
  },
  {
   "cell_type": "code",
   "execution_count": 28,
   "metadata": {},
   "outputs": [
    {
     "data": {
      "text/plain": [
       "array(['Connected_Economy', 'Government_Support', 'Large_Customer_Base',\n",
       "       'Low_Cost_of_Living', 'Natural_Resources', 'Supportive_Community'],\n",
       "      dtype='<U20')"
      ]
     },
     "execution_count": 28,
     "metadata": {},
     "output_type": "execute_result"
    }
   ],
   "source": [
    "pos_labels"
   ]
  },
  {
   "cell_type": "code",
   "execution_count": 29,
   "metadata": {},
   "outputs": [
    {
     "data": {
      "text/plain": [
       "['Connected_Economy',\n",
       " 'Government_Support',\n",
       " 'Large_Customer_Base',\n",
       " 'Low_Cost_of_Living',\n",
       " 'Natural_Resources',\n",
       " 'Supportive_Community',\n",
       " 'Limited_Financing',\n",
       " 'Limited_Tech_n_Infra',\n",
       " 'Low_Pop_Bad_Weather',\n",
       " 'Tough_Labor_Market',\n",
       " 'Unfavorable_Location',\n",
       " 'Various_Downsides']"
      ]
     },
     "execution_count": 29,
     "metadata": {},
     "output_type": "execute_result"
    }
   ],
   "source": [
    "cluster_names = []\n",
    "for label in pos_labels:\n",
    "    cluster_names.append(str(label))\n",
    "for label in neg_labels:\n",
    "    cluster_names.append(str(label))\n",
    "cluster_names"
   ]
  },
  {
   "cell_type": "code",
   "execution_count": 30,
   "metadata": {},
   "outputs": [
    {
     "data": {
      "text/html": [
       "<div>\n",
       "<style scoped>\n",
       "    .dataframe tbody tr th:only-of-type {\n",
       "        vertical-align: middle;\n",
       "    }\n",
       "\n",
       "    .dataframe tbody tr th {\n",
       "        vertical-align: top;\n",
       "    }\n",
       "\n",
       "    .dataframe thead th {\n",
       "        text-align: right;\n",
       "    }\n",
       "</style>\n",
       "<table border=\"1\" class=\"dataframe\">\n",
       "  <thead>\n",
       "    <tr style=\"text-align: right;\">\n",
       "      <th></th>\n",
       "      <th>cfips</th>\n",
       "      <th>Connected_Economy</th>\n",
       "      <th>Government_Support</th>\n",
       "      <th>Large_Customer_Base</th>\n",
       "      <th>Low_Cost_of_Living</th>\n",
       "      <th>Natural_Resources</th>\n",
       "      <th>Supportive_Community</th>\n",
       "      <th>Limited_Financing</th>\n",
       "      <th>Limited_Tech_n_Infra</th>\n",
       "      <th>Low_Pop_Bad_Weather</th>\n",
       "      <th>Tough_Labor_Market</th>\n",
       "      <th>Unfavorable_Location</th>\n",
       "      <th>Various_Downsides</th>\n",
       "    </tr>\n",
       "  </thead>\n",
       "  <tbody>\n",
       "  </tbody>\n",
       "</table>\n",
       "</div>"
      ],
      "text/plain": [
       "Empty DataFrame\n",
       "Columns: [cfips, Connected_Economy, Government_Support, Large_Customer_Base, Low_Cost_of_Living, Natural_Resources, Supportive_Community, Limited_Financing, Limited_Tech_n_Infra, Low_Pop_Bad_Weather, Tough_Labor_Market, Unfavorable_Location, Various_Downsides]\n",
       "Index: []"
      ]
     },
     "execution_count": 30,
     "metadata": {},
     "output_type": "execute_result"
    }
   ],
   "source": [
    "# make the one-hot encoding df\n",
    "one_hot_df = pd.DataFrame(columns=['cfips']+cluster_names)\n",
    "one_hot_df.head()"
   ]
  },
  {
   "cell_type": "code",
   "execution_count": 31,
   "metadata": {},
   "outputs": [
    {
     "data": {
      "text/html": [
       "<div>\n",
       "<style scoped>\n",
       "    .dataframe tbody tr th:only-of-type {\n",
       "        vertical-align: middle;\n",
       "    }\n",
       "\n",
       "    .dataframe tbody tr th {\n",
       "        vertical-align: top;\n",
       "    }\n",
       "\n",
       "    .dataframe thead th {\n",
       "        text-align: right;\n",
       "    }\n",
       "</style>\n",
       "<table border=\"1\" class=\"dataframe\">\n",
       "  <thead>\n",
       "    <tr style=\"text-align: right;\">\n",
       "      <th></th>\n",
       "      <th>cfips</th>\n",
       "      <th>Connected_Economy</th>\n",
       "      <th>Government_Support</th>\n",
       "      <th>Large_Customer_Base</th>\n",
       "      <th>Low_Cost_of_Living</th>\n",
       "      <th>Natural_Resources</th>\n",
       "      <th>Supportive_Community</th>\n",
       "      <th>Limited_Financing</th>\n",
       "      <th>Limited_Tech_n_Infra</th>\n",
       "      <th>Low_Pop_Bad_Weather</th>\n",
       "      <th>Tough_Labor_Market</th>\n",
       "      <th>Unfavorable_Location</th>\n",
       "      <th>Various_Downsides</th>\n",
       "    </tr>\n",
       "  </thead>\n",
       "  <tbody>\n",
       "    <tr>\n",
       "      <th>0</th>\n",
       "      <td>01001</td>\n",
       "      <td>1</td>\n",
       "      <td>0</td>\n",
       "      <td>0</td>\n",
       "      <td>1</td>\n",
       "      <td>0</td>\n",
       "      <td>0</td>\n",
       "      <td>0</td>\n",
       "      <td>0</td>\n",
       "      <td>0</td>\n",
       "      <td>0</td>\n",
       "      <td>1</td>\n",
       "      <td>0</td>\n",
       "    </tr>\n",
       "    <tr>\n",
       "      <th>1</th>\n",
       "      <td>01003</td>\n",
       "      <td>1</td>\n",
       "      <td>1</td>\n",
       "      <td>0</td>\n",
       "      <td>1</td>\n",
       "      <td>0</td>\n",
       "      <td>0</td>\n",
       "      <td>0</td>\n",
       "      <td>0</td>\n",
       "      <td>0</td>\n",
       "      <td>1</td>\n",
       "      <td>0</td>\n",
       "      <td>0</td>\n",
       "    </tr>\n",
       "    <tr>\n",
       "      <th>2</th>\n",
       "      <td>01005</td>\n",
       "      <td>0</td>\n",
       "      <td>1</td>\n",
       "      <td>1</td>\n",
       "      <td>1</td>\n",
       "      <td>0</td>\n",
       "      <td>0</td>\n",
       "      <td>0</td>\n",
       "      <td>0</td>\n",
       "      <td>0</td>\n",
       "      <td>1</td>\n",
       "      <td>1</td>\n",
       "      <td>0</td>\n",
       "    </tr>\n",
       "    <tr>\n",
       "      <th>3</th>\n",
       "      <td>01007</td>\n",
       "      <td>0</td>\n",
       "      <td>1</td>\n",
       "      <td>1</td>\n",
       "      <td>1</td>\n",
       "      <td>0</td>\n",
       "      <td>0</td>\n",
       "      <td>0</td>\n",
       "      <td>0</td>\n",
       "      <td>0</td>\n",
       "      <td>0</td>\n",
       "      <td>1</td>\n",
       "      <td>0</td>\n",
       "    </tr>\n",
       "    <tr>\n",
       "      <th>4</th>\n",
       "      <td>01009</td>\n",
       "      <td>0</td>\n",
       "      <td>1</td>\n",
       "      <td>1</td>\n",
       "      <td>1</td>\n",
       "      <td>0</td>\n",
       "      <td>0</td>\n",
       "      <td>1</td>\n",
       "      <td>0</td>\n",
       "      <td>0</td>\n",
       "      <td>0</td>\n",
       "      <td>1</td>\n",
       "      <td>0</td>\n",
       "    </tr>\n",
       "  </tbody>\n",
       "</table>\n",
       "</div>"
      ],
      "text/plain": [
       "   cfips Connected_Economy Government_Support Large_Customer_Base  \\\n",
       "0  01001                 1                  0                   0   \n",
       "1  01003                 1                  1                   0   \n",
       "2  01005                 0                  1                   1   \n",
       "3  01007                 0                  1                   1   \n",
       "4  01009                 0                  1                   1   \n",
       "\n",
       "  Low_Cost_of_Living Natural_Resources Supportive_Community Limited_Financing  \\\n",
       "0                  1                 0                    0                 0   \n",
       "1                  1                 0                    0                 0   \n",
       "2                  1                 0                    0                 0   \n",
       "3                  1                 0                    0                 0   \n",
       "4                  1                 0                    0                 1   \n",
       "\n",
       "  Limited_Tech_n_Infra Low_Pop_Bad_Weather Tough_Labor_Market  \\\n",
       "0                    0                   0                  0   \n",
       "1                    0                   0                  1   \n",
       "2                    0                   0                  1   \n",
       "3                    0                   0                  0   \n",
       "4                    0                   0                  0   \n",
       "\n",
       "  Unfavorable_Location Various_Downsides  \n",
       "0                    1                 0  \n",
       "1                    0                 0  \n",
       "2                    1                 0  \n",
       "3                    1                 0  \n",
       "4                    1                 0  "
      ]
     },
     "execution_count": 31,
     "metadata": {},
     "output_type": "execute_result"
    }
   ],
   "source": [
    "for i, cfips_str in enumerate(cfips_df['cfips']):\n",
    "    one_hot_df.loc[i, 'cfips'] = cfips_str\n",
    "    positives_per_county = new_positive_cluster_labels[3*i:3*i+3]\n",
    "    negatives_per_county = new_negative_cluster_labels[3*i:3*i+3]\n",
    "    for comment in positives_per_county:\n",
    "        one_hot_df.loc[i, comment] = 1\n",
    "    for comment in negatives_per_county:\n",
    "        one_hot_df.loc[i, comment] = 1\n",
    "    for label in cluster_names:\n",
    "        if label not in positives_per_county and label not in negatives_per_county:\n",
    "            one_hot_df.loc[i, label] = 0\n",
    "one_hot_df.head()"
   ]
  },
  {
   "cell_type": "code",
   "execution_count": 32,
   "metadata": {},
   "outputs": [
    {
     "data": {
      "text/plain": [
       "(['Low_Cost_of_Living', 'Connected_Economy', 'Connected_Economy'],\n",
       " ['Unfavorable_Location', 'Unfavorable_Location', 'Unfavorable_Location'])"
      ]
     },
     "execution_count": 32,
     "metadata": {},
     "output_type": "execute_result"
    }
   ],
   "source": [
    "new_positive_cluster_labels[:3], new_negative_cluster_labels[:3]"
   ]
  },
  {
   "cell_type": "code",
   "execution_count": 33,
   "metadata": {},
   "outputs": [
    {
     "data": {
      "text/plain": [
       "(['Autauga County has a low cost of living, making it an affordable place to start a business.',\n",
       "  'The county has a strong business community, providing resources and support for entrepreneurs.',\n",
       "  'Autauga County is located in the heart of Alabama, providing easy access to major cities and transportation hubs.'],\n",
       " ['Autauga County has a relatively small population, which may limit the potential customer base for a small business.',\n",
       "  'The county has a limited number of resources and services available to small businesses.',\n",
       "  'Autauga County is subject to the laws and regulations of the state of Alabama, which may be restrictive for certain types of businesses.'])"
      ]
     },
     "execution_count": 33,
     "metadata": {},
     "output_type": "execute_result"
    }
   ],
   "source": [
    "positive_sentences[:3], negative_sentences[:3]"
   ]
  },
  {
   "cell_type": "code",
   "execution_count": 34,
   "metadata": {},
   "outputs": [
    {
     "name": "stdout",
     "output_type": "stream",
     "text": [
      "<class 'pandas.core.frame.DataFrame'>\n",
      "Int64Index: 3142 entries, 0 to 3141\n",
      "Data columns (total 13 columns):\n",
      " #   Column                Non-Null Count  Dtype \n",
      "---  ------                --------------  ----- \n",
      " 0   cfips                 3142 non-null   object\n",
      " 1   Connected_Economy     3142 non-null   object\n",
      " 2   Government_Support    3142 non-null   object\n",
      " 3   Large_Customer_Base   3142 non-null   object\n",
      " 4   Low_Cost_of_Living    3142 non-null   object\n",
      " 5   Natural_Resources     3142 non-null   object\n",
      " 6   Supportive_Community  3142 non-null   object\n",
      " 7   Limited_Financing     3142 non-null   object\n",
      " 8   Limited_Tech_n_Infra  3142 non-null   object\n",
      " 9   Low_Pop_Bad_Weather   3142 non-null   object\n",
      " 10  Tough_Labor_Market    3142 non-null   object\n",
      " 11  Unfavorable_Location  3142 non-null   object\n",
      " 12  Various_Downsides     3142 non-null   object\n",
      "dtypes: object(13)\n",
      "memory usage: 408.2+ KB\n"
     ]
    }
   ],
   "source": [
    "one_hot_df.info()"
   ]
  },
  {
   "cell_type": "code",
   "execution_count": 35,
   "metadata": {},
   "outputs": [
    {
     "name": "stdout",
     "output_type": "stream",
     "text": [
      "The ratio of filled cells is 0.4481222151495863\n"
     ]
    }
   ],
   "source": [
    "# fill in ratio of the data frame\n",
    "total_filled = one_hot_df[cluster_names].sum(axis=1).sum()\n",
    "total_cells = one_hot_df[cluster_names].shape[0] * one_hot_df[cluster_names].shape[1]\n",
    "print(f'The ratio of filled cells is {total_filled/total_cells}')"
   ]
  },
  {
   "cell_type": "code",
   "execution_count": 36,
   "metadata": {},
   "outputs": [],
   "source": [
    "# save the one-hot encoding df\n",
    "one_hot_df.to_csv('gpt_data_one_hot_df.csv', index=False)"
   ]
  },
  {
   "cell_type": "code",
   "execution_count": null,
   "metadata": {},
   "outputs": [],
   "source": []
  }
 ],
 "metadata": {
  "kernelspec": {
   "display_name": "py39_PT_HF",
   "language": "python",
   "name": "python3"
  },
  "language_info": {
   "codemirror_mode": {
    "name": "ipython",
    "version": 3
   },
   "file_extension": ".py",
   "mimetype": "text/x-python",
   "name": "python",
   "nbconvert_exporter": "python",
   "pygments_lexer": "ipython3",
   "version": "3.9.12"
  },
  "orig_nbformat": 4,
  "vscode": {
   "interpreter": {
    "hash": "af6b9edc317da9e350fdb877ab5f59b271488261a1f61deba33cb77ddc696fca"
   }
  }
 },
 "nbformat": 4,
 "nbformat_minor": 2
}
