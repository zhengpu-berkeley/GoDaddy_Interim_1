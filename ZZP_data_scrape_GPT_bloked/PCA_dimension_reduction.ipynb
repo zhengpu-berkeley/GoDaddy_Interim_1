{
 "cells": [
  {
   "cell_type": "code",
   "execution_count": 1,
   "metadata": {},
   "outputs": [],
   "source": [
    "import pandas as pd\n",
    "import json\n",
    "\n",
    "import numpy as np\n",
    "import matplotlib.pyplot as plt\n",
    "\n",
    "from sklearn.decomposition import PCA\n",
    "\n",
    "import warnings\n",
    "warnings.filterwarnings('ignore')"
   ]
  },
  {
   "cell_type": "code",
   "execution_count": 2,
   "metadata": {},
   "outputs": [],
   "source": [
    "# load embeddings\n",
    "with open('distillBERT_embeddings_paragraph.json') as f:\n",
    "    all_embeddings = json.load(f)"
   ]
  },
  {
   "cell_type": "code",
   "execution_count": 3,
   "metadata": {},
   "outputs": [
    {
     "name": "stdout",
     "output_type": "stream",
     "text": [
      "Shape of the embeddings:  (768,)\n"
     ]
    }
   ],
   "source": [
    "# show the shape of the embeddings\n",
    "print('Shape of the embeddings: ', np.array(all_embeddings[0]).shape)"
   ]
  },
  {
   "cell_type": "code",
   "execution_count": 4,
   "metadata": {},
   "outputs": [
    {
     "name": "stdout",
     "output_type": "stream",
     "text": [
      "Explained variance ratio:  [0.35031584 0.10254797 0.06922593 0.04339591 0.03726173 0.02704681\n",
      " 0.02350657 0.01883989 0.01843502 0.01584852]\n",
      "Sum of explained variance ratio:  0.7064241843832859\n"
     ]
    }
   ],
   "source": [
    "# PCA dimension reduction\n",
    "pca = PCA(n_components=10)\n",
    "pca.fit(all_embeddings)\n",
    "\n",
    "# show the explained variance ratio\n",
    "print('Explained variance ratio: ', pca.explained_variance_ratio_)\n",
    "print('Sum of explained variance ratio: ', sum(pca.explained_variance_ratio_))\n"
   ]
  },
  {
   "cell_type": "code",
   "execution_count": 5,
   "metadata": {},
   "outputs": [],
   "source": [
    "pcas = pca.transform(all_embeddings)"
   ]
  },
  {
   "cell_type": "code",
   "execution_count": 6,
   "metadata": {},
   "outputs": [
    {
     "data": {
      "text/plain": [
       "(3142, 10)"
      ]
     },
     "execution_count": 6,
     "metadata": {},
     "output_type": "execute_result"
    }
   ],
   "source": [
    "pcas.shape"
   ]
  },
  {
   "cell_type": "code",
   "execution_count": 7,
   "metadata": {},
   "outputs": [
    {
     "data": {
      "text/plain": [
       "array([[ 1.64033351,  0.26066731, -0.1500692 ,  0.47575927,  0.13056072,\n",
       "        -0.03519511, -0.33271385, -0.02165716, -0.23167121, -0.12744095],\n",
       "       [ 1.60429446,  0.41202332, -0.16625691,  0.24071882, -0.20892941,\n",
       "         0.0807956 ,  0.03813537, -0.15306791, -0.36109912,  0.00260587],\n",
       "       [ 0.74239751,  0.11544861,  0.90743843,  0.31794922,  0.65205666,\n",
       "        -0.40186452,  0.09654632,  0.46324191,  0.12036246, -0.33084398],\n",
       "       [ 0.81202772,  0.04731575,  1.08560973,  0.29103246,  0.69460547,\n",
       "        -0.33990799,  0.04546961,  0.66995762,  0.19961028, -0.64628818],\n",
       "       [ 0.86345335,  0.10131379,  0.87677478,  0.45060398,  0.50857896,\n",
       "        -0.47647844,  0.00602279,  0.56687678, -0.16581174, -0.20131903]])"
      ]
     },
     "execution_count": 7,
     "metadata": {},
     "output_type": "execute_result"
    }
   ],
   "source": [
    "pcas[:5]"
   ]
  },
  {
   "cell_type": "code",
   "execution_count": 8,
   "metadata": {},
   "outputs": [
    {
     "data": {
      "text/html": [
       "<div>\n",
       "<style scoped>\n",
       "    .dataframe tbody tr th:only-of-type {\n",
       "        vertical-align: middle;\n",
       "    }\n",
       "\n",
       "    .dataframe tbody tr th {\n",
       "        vertical-align: top;\n",
       "    }\n",
       "\n",
       "    .dataframe thead th {\n",
       "        text-align: right;\n",
       "    }\n",
       "</style>\n",
       "<table border=\"1\" class=\"dataframe\">\n",
       "  <thead>\n",
       "    <tr style=\"text-align: right;\">\n",
       "      <th></th>\n",
       "      <th>cfips</th>\n",
       "    </tr>\n",
       "  </thead>\n",
       "  <tbody>\n",
       "    <tr>\n",
       "      <th>0</th>\n",
       "      <td>01001</td>\n",
       "    </tr>\n",
       "    <tr>\n",
       "      <th>1</th>\n",
       "      <td>01003</td>\n",
       "    </tr>\n",
       "    <tr>\n",
       "      <th>2</th>\n",
       "      <td>01005</td>\n",
       "    </tr>\n",
       "    <tr>\n",
       "      <th>3</th>\n",
       "      <td>01007</td>\n",
       "    </tr>\n",
       "    <tr>\n",
       "      <th>4</th>\n",
       "      <td>01009</td>\n",
       "    </tr>\n",
       "  </tbody>\n",
       "</table>\n",
       "</div>"
      ],
      "text/plain": [
       "   cfips\n",
       "0  01001\n",
       "1  01003\n",
       "2  01005\n",
       "3  01007\n",
       "4  01009"
      ]
     },
     "execution_count": 8,
     "metadata": {},
     "output_type": "execute_result"
    }
   ],
   "source": [
    "# load the cfips data\n",
    "dtypes = {'cfips': str}\n",
    "cfips_df = pd.read_csv('cfips.csv', dtype=dtypes)\n",
    "cfips_df.head()"
   ]
  },
  {
   "cell_type": "code",
   "execution_count": 9,
   "metadata": {},
   "outputs": [
    {
     "data": {
      "text/plain": [
       "['PCA_dim_1',\n",
       " 'PCA_dim_2',\n",
       " 'PCA_dim_3',\n",
       " 'PCA_dim_4',\n",
       " 'PCA_dim_5',\n",
       " 'PCA_dim_6',\n",
       " 'PCA_dim_7',\n",
       " 'PCA_dim_8',\n",
       " 'PCA_dim_9',\n",
       " 'PCA_dim_10']"
      ]
     },
     "execution_count": 9,
     "metadata": {},
     "output_type": "execute_result"
    }
   ],
   "source": [
    "dim_names = ['PCA_dim_' + str(i) for i in range(1, 11)]\n",
    "dim_names"
   ]
  },
  {
   "cell_type": "code",
   "execution_count": 10,
   "metadata": {},
   "outputs": [
    {
     "data": {
      "text/html": [
       "<div>\n",
       "<style scoped>\n",
       "    .dataframe tbody tr th:only-of-type {\n",
       "        vertical-align: middle;\n",
       "    }\n",
       "\n",
       "    .dataframe tbody tr th {\n",
       "        vertical-align: top;\n",
       "    }\n",
       "\n",
       "    .dataframe thead th {\n",
       "        text-align: right;\n",
       "    }\n",
       "</style>\n",
       "<table border=\"1\" class=\"dataframe\">\n",
       "  <thead>\n",
       "    <tr style=\"text-align: right;\">\n",
       "      <th></th>\n",
       "      <th>cfips</th>\n",
       "      <th>PCA_dim_1</th>\n",
       "      <th>PCA_dim_2</th>\n",
       "      <th>PCA_dim_3</th>\n",
       "      <th>PCA_dim_4</th>\n",
       "      <th>PCA_dim_5</th>\n",
       "      <th>PCA_dim_6</th>\n",
       "      <th>PCA_dim_7</th>\n",
       "      <th>PCA_dim_8</th>\n",
       "      <th>PCA_dim_9</th>\n",
       "      <th>PCA_dim_10</th>\n",
       "    </tr>\n",
       "  </thead>\n",
       "  <tbody>\n",
       "  </tbody>\n",
       "</table>\n",
       "</div>"
      ],
      "text/plain": [
       "Empty DataFrame\n",
       "Columns: [cfips, PCA_dim_1, PCA_dim_2, PCA_dim_3, PCA_dim_4, PCA_dim_5, PCA_dim_6, PCA_dim_7, PCA_dim_8, PCA_dim_9, PCA_dim_10]\n",
       "Index: []"
      ]
     },
     "execution_count": 10,
     "metadata": {},
     "output_type": "execute_result"
    }
   ],
   "source": [
    "PCA_df = pd.DataFrame(columns=['cfips']+dim_names)\n",
    "PCA_df.head()"
   ]
  },
  {
   "cell_type": "code",
   "execution_count": 11,
   "metadata": {},
   "outputs": [
    {
     "data": {
      "text/html": [
       "<div>\n",
       "<style scoped>\n",
       "    .dataframe tbody tr th:only-of-type {\n",
       "        vertical-align: middle;\n",
       "    }\n",
       "\n",
       "    .dataframe tbody tr th {\n",
       "        vertical-align: top;\n",
       "    }\n",
       "\n",
       "    .dataframe thead th {\n",
       "        text-align: right;\n",
       "    }\n",
       "</style>\n",
       "<table border=\"1\" class=\"dataframe\">\n",
       "  <thead>\n",
       "    <tr style=\"text-align: right;\">\n",
       "      <th></th>\n",
       "      <th>cfips</th>\n",
       "      <th>PCA_dim_1</th>\n",
       "      <th>PCA_dim_2</th>\n",
       "      <th>PCA_dim_3</th>\n",
       "      <th>PCA_dim_4</th>\n",
       "      <th>PCA_dim_5</th>\n",
       "      <th>PCA_dim_6</th>\n",
       "      <th>PCA_dim_7</th>\n",
       "      <th>PCA_dim_8</th>\n",
       "      <th>PCA_dim_9</th>\n",
       "      <th>PCA_dim_10</th>\n",
       "    </tr>\n",
       "  </thead>\n",
       "  <tbody>\n",
       "    <tr>\n",
       "      <th>0</th>\n",
       "      <td>01001</td>\n",
       "      <td>1.640334</td>\n",
       "      <td>0.260667</td>\n",
       "      <td>-0.150069</td>\n",
       "      <td>0.475759</td>\n",
       "      <td>0.130561</td>\n",
       "      <td>-0.035195</td>\n",
       "      <td>-0.332714</td>\n",
       "      <td>-0.021657</td>\n",
       "      <td>-0.231671</td>\n",
       "      <td>-0.127441</td>\n",
       "    </tr>\n",
       "    <tr>\n",
       "      <th>1</th>\n",
       "      <td>01003</td>\n",
       "      <td>1.604294</td>\n",
       "      <td>0.412023</td>\n",
       "      <td>-0.166257</td>\n",
       "      <td>0.240719</td>\n",
       "      <td>-0.208929</td>\n",
       "      <td>0.080796</td>\n",
       "      <td>0.038135</td>\n",
       "      <td>-0.153068</td>\n",
       "      <td>-0.361099</td>\n",
       "      <td>0.002606</td>\n",
       "    </tr>\n",
       "    <tr>\n",
       "      <th>2</th>\n",
       "      <td>01005</td>\n",
       "      <td>0.742398</td>\n",
       "      <td>0.115449</td>\n",
       "      <td>0.907438</td>\n",
       "      <td>0.317949</td>\n",
       "      <td>0.652057</td>\n",
       "      <td>-0.401865</td>\n",
       "      <td>0.096546</td>\n",
       "      <td>0.463242</td>\n",
       "      <td>0.120362</td>\n",
       "      <td>-0.330844</td>\n",
       "    </tr>\n",
       "    <tr>\n",
       "      <th>3</th>\n",
       "      <td>01007</td>\n",
       "      <td>0.812028</td>\n",
       "      <td>0.047316</td>\n",
       "      <td>1.08561</td>\n",
       "      <td>0.291032</td>\n",
       "      <td>0.694605</td>\n",
       "      <td>-0.339908</td>\n",
       "      <td>0.04547</td>\n",
       "      <td>0.669958</td>\n",
       "      <td>0.19961</td>\n",
       "      <td>-0.646288</td>\n",
       "    </tr>\n",
       "    <tr>\n",
       "      <th>4</th>\n",
       "      <td>01009</td>\n",
       "      <td>0.863453</td>\n",
       "      <td>0.101314</td>\n",
       "      <td>0.876775</td>\n",
       "      <td>0.450604</td>\n",
       "      <td>0.508579</td>\n",
       "      <td>-0.476478</td>\n",
       "      <td>0.006023</td>\n",
       "      <td>0.566877</td>\n",
       "      <td>-0.165812</td>\n",
       "      <td>-0.201319</td>\n",
       "    </tr>\n",
       "  </tbody>\n",
       "</table>\n",
       "</div>"
      ],
      "text/plain": [
       "   cfips PCA_dim_1 PCA_dim_2 PCA_dim_3 PCA_dim_4 PCA_dim_5 PCA_dim_6  \\\n",
       "0  01001  1.640334  0.260667 -0.150069  0.475759  0.130561 -0.035195   \n",
       "1  01003  1.604294  0.412023 -0.166257  0.240719 -0.208929  0.080796   \n",
       "2  01005  0.742398  0.115449  0.907438  0.317949  0.652057 -0.401865   \n",
       "3  01007  0.812028  0.047316   1.08561  0.291032  0.694605 -0.339908   \n",
       "4  01009  0.863453  0.101314  0.876775  0.450604  0.508579 -0.476478   \n",
       "\n",
       "  PCA_dim_7 PCA_dim_8 PCA_dim_9 PCA_dim_10  \n",
       "0 -0.332714 -0.021657 -0.231671  -0.127441  \n",
       "1  0.038135 -0.153068 -0.361099   0.002606  \n",
       "2  0.096546  0.463242  0.120362  -0.330844  \n",
       "3   0.04547  0.669958   0.19961  -0.646288  \n",
       "4  0.006023  0.566877 -0.165812  -0.201319  "
      ]
     },
     "execution_count": 11,
     "metadata": {},
     "output_type": "execute_result"
    }
   ],
   "source": [
    "for i, cfips_str in enumerate(cfips_df['cfips']):\n",
    "    PCA_df.loc[i, 'cfips'] = cfips_str\n",
    "    PCA_df.loc[i, dim_names] = pcas[i, :]\n",
    "PCA_df.head()"
   ]
  },
  {
   "cell_type": "code",
   "execution_count": 12,
   "metadata": {},
   "outputs": [],
   "source": [
    "# save the PCA_df to csv\n",
    "PCA_df.to_csv('PCA_df.csv', index=False)"
   ]
  },
  {
   "cell_type": "code",
   "execution_count": null,
   "metadata": {},
   "outputs": [],
   "source": []
  }
 ],
 "metadata": {
  "kernelspec": {
   "display_name": "base",
   "language": "python",
   "name": "python3"
  },
  "language_info": {
   "codemirror_mode": {
    "name": "ipython",
    "version": 3
   },
   "file_extension": ".py",
   "mimetype": "text/x-python",
   "name": "python",
   "nbconvert_exporter": "python",
   "pygments_lexer": "ipython3",
   "version": "3.9.13"
  },
  "orig_nbformat": 4,
  "vscode": {
   "interpreter": {
    "hash": "b28cf175ec321772cb0f0d5814308bea2c301d2ca583d589ae1c20180bad7c90"
   }
  }
 },
 "nbformat": 4,
 "nbformat_minor": 2
}
