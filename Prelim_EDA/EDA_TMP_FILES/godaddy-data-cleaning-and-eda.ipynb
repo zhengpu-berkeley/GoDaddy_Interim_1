{
 "cells": [
  {
   "cell_type": "markdown",
   "id": "d180e8f1",
   "metadata": {
    "papermill": {
     "duration": 0.018245,
     "end_time": "2023-01-30T09:22:49.815243",
     "exception": false,
     "start_time": "2023-01-30T09:22:49.796998",
     "status": "completed"
    },
    "tags": []
   },
   "source": [
    "# Introduction\n",
    "\n",
    "\n",
    "This notebook will analyse the data, focusing on exploring the data and perform data cleaning.\n",
    "One observation is that, comparing the county level FIPS data with data from https://transition.fcc.gov/oet/info/maps/census/fips/fips.txthttps://transition.fcc.gov/oet/info/maps/census/fips/fips.txt, \n",
    "it appears that for all states with state code prefixed with 0, county fips (cfips) are corrupted.\n",
    "I investigate the issue and fix the values.  \n",
    "This correction will allow us to correctly associate the codes with the states that they belong to.  \n",
    "Then, I investigate the spatial and temporal variations of the target feature as well as other features included in the data.  \n",
    "\n"
   ]
  },
  {
   "cell_type": "markdown",
   "id": "b76aefe2",
   "metadata": {
    "papermill": {
     "duration": 0.014337,
     "end_time": "2023-01-30T09:22:49.843887",
     "exception": false,
     "start_time": "2023-01-30T09:22:49.829550",
     "status": "completed"
    },
    "tags": []
   },
   "source": [
    "# Analysis preparation"
   ]
  },
  {
   "cell_type": "markdown",
   "id": "fc478db6",
   "metadata": {
    "papermill": {
     "duration": 0.01373,
     "end_time": "2023-01-30T09:22:49.871613",
     "exception": false,
     "start_time": "2023-01-30T09:22:49.857883",
     "status": "completed"
    },
    "tags": []
   },
   "source": [
    "## Prepare packages\n",
    "\n",
    "This library is needed for visualization of geographical distributed data."
   ]
  },
  {
   "cell_type": "code",
   "execution_count": null,
   "id": "f6a1a5d0",
   "metadata": {
    "execution": {
     "iopub.execute_input": "2023-01-30T09:22:49.902489Z",
     "iopub.status.busy": "2023-01-30T09:22:49.901827Z",
     "iopub.status.idle": "2023-01-30T09:23:05.951065Z",
     "shell.execute_reply": "2023-01-30T09:23:05.949796Z"
    },
    "papermill": {
     "duration": 16.068466,
     "end_time": "2023-01-30T09:23:05.954225",
     "exception": false,
     "start_time": "2023-01-30T09:22:49.885759",
     "status": "completed"
    },
    "tags": []
   },
   "outputs": [],
   "source": [
    "# !pip install plotly-geo"
   ]
  },
  {
   "cell_type": "markdown",
   "id": "5050506c",
   "metadata": {
    "papermill": {
     "duration": 0.017811,
     "end_time": "2023-01-30T09:23:05.988172",
     "exception": false,
     "start_time": "2023-01-30T09:23:05.970361",
     "status": "completed"
    },
    "tags": []
   },
   "source": [
    "Same here."
   ]
  },
  {
   "cell_type": "code",
   "execution_count": null,
   "id": "bc2896a0",
   "metadata": {
    "execution": {
     "iopub.execute_input": "2023-01-30T09:23:06.023868Z",
     "iopub.status.busy": "2023-01-30T09:23:06.023399Z",
     "iopub.status.idle": "2023-01-30T09:23:17.762844Z",
     "shell.execute_reply": "2023-01-30T09:23:17.760746Z"
    },
    "papermill": {
     "duration": 11.760869,
     "end_time": "2023-01-30T09:23:17.766027",
     "exception": false,
     "start_time": "2023-01-30T09:23:06.005158",
     "status": "completed"
    },
    "tags": []
   },
   "outputs": [],
   "source": [
    "# !pip install pyshp"
   ]
  },
  {
   "cell_type": "markdown",
   "id": "92420b9d",
   "metadata": {
    "papermill": {
     "duration": 0.01728,
     "end_time": "2023-01-30T09:23:17.801100",
     "exception": false,
     "start_time": "2023-01-30T09:23:17.783820",
     "status": "completed"
    },
    "tags": []
   },
   "source": [
    "Then, I load the packages used in this EDA."
   ]
  },
  {
   "cell_type": "code",
   "execution_count": 1,
   "id": "3bb35cf9",
   "metadata": {
    "execution": {
     "iopub.execute_input": "2023-01-30T09:23:17.836231Z",
     "iopub.status.busy": "2023-01-30T09:23:17.835180Z",
     "iopub.status.idle": "2023-01-30T09:23:21.713444Z",
     "shell.execute_reply": "2023-01-30T09:23:21.711948Z"
    },
    "papermill": {
     "duration": 3.89907,
     "end_time": "2023-01-30T09:23:21.716586",
     "exception": false,
     "start_time": "2023-01-30T09:23:17.817516",
     "status": "completed"
    },
    "tags": []
   },
   "outputs": [],
   "source": [
    "import pandas as pd\n",
    "import numpy as np\n",
    "\n",
    "import plotly.figure_factory as ff\n",
    "import geopandas\n",
    "import shapely\n",
    "import plotly.express as px\n",
    "import seaborn as sns\n",
    "import matplotlib.pyplot as plt\n",
    "\n",
    "\n",
    "import warnings\n",
    "warnings.filterwarnings(\"ignore\")"
   ]
  },
  {
   "cell_type": "markdown",
   "id": "129497ec",
   "metadata": {
    "papermill": {
     "duration": 0.016293,
     "end_time": "2023-01-30T09:23:21.749222",
     "exception": false,
     "start_time": "2023-01-30T09:23:21.732929",
     "status": "completed"
    },
    "tags": []
   },
   "source": [
    "## Read data\n",
    "\n",
    "Train, test nd census data will be explored."
   ]
  },
  {
   "cell_type": "code",
   "execution_count": 2,
   "id": "2f9066b7",
   "metadata": {
    "execution": {
     "iopub.execute_input": "2023-01-30T09:23:21.784251Z",
     "iopub.status.busy": "2023-01-30T09:23:21.783833Z",
     "iopub.status.idle": "2023-01-30T09:23:22.308335Z",
     "shell.execute_reply": "2023-01-30T09:23:22.306898Z"
    },
    "papermill": {
     "duration": 0.545255,
     "end_time": "2023-01-30T09:23:22.311356",
     "exception": false,
     "start_time": "2023-01-30T09:23:21.766101",
     "status": "completed"
    },
    "tags": []
   },
   "outputs": [],
   "source": [
    "census_df = pd.read_csv('godaddy-microbusiness-density-forecasting/census_starter.csv', low_memory=False)\n",
    "train_df = pd.read_csv('godaddy-microbusiness-density-forecasting/train.csv', dtype=\"object\")\n",
    "test_df = pd.read_csv('godaddy-microbusiness-density-forecasting/test.csv', dtype=\"object\")"
   ]
  },
  {
   "cell_type": "markdown",
   "id": "d334842b",
   "metadata": {
    "papermill": {
     "duration": 0.017638,
     "end_time": "2023-01-30T09:23:22.349036",
     "exception": false,
     "start_time": "2023-01-30T09:23:22.331398",
     "status": "completed"
    },
    "tags": []
   },
   "source": [
    "## Glimpse the data"
   ]
  },
  {
   "cell_type": "code",
   "execution_count": 3,
   "id": "4435a045",
   "metadata": {
    "execution": {
     "iopub.execute_input": "2023-01-30T09:23:22.385544Z",
     "iopub.status.busy": "2023-01-30T09:23:22.385104Z",
     "iopub.status.idle": "2023-01-30T09:23:22.415317Z",
     "shell.execute_reply": "2023-01-30T09:23:22.414086Z"
    },
    "papermill": {
     "duration": 0.051311,
     "end_time": "2023-01-30T09:23:22.418609",
     "exception": false,
     "start_time": "2023-01-30T09:23:22.367298",
     "status": "completed"
    },
    "tags": []
   },
   "outputs": [
    {
     "name": "stdout",
     "output_type": "stream",
     "text": [
      "<class 'pandas.core.frame.DataFrame'>\n",
      "RangeIndex: 3142 entries, 0 to 3141\n",
      "Data columns (total 26 columns):\n",
      " #   Column                 Non-Null Count  Dtype  \n",
      "---  ------                 --------------  -----  \n",
      " 0   pct_bb_2017            3142 non-null   float64\n",
      " 1   pct_bb_2018            3142 non-null   float64\n",
      " 2   pct_bb_2019            3142 non-null   float64\n",
      " 3   pct_bb_2020            3141 non-null   float64\n",
      " 4   pct_bb_2021            3141 non-null   float64\n",
      " 5   cfips                  3142 non-null   int64  \n",
      " 6   pct_college_2017       3142 non-null   float64\n",
      " 7   pct_college_2018       3142 non-null   float64\n",
      " 8   pct_college_2019       3142 non-null   float64\n",
      " 9   pct_college_2020       3141 non-null   float64\n",
      " 10  pct_college_2021       3141 non-null   float64\n",
      " 11  pct_foreign_born_2017  3142 non-null   float64\n",
      " 12  pct_foreign_born_2018  3142 non-null   float64\n",
      " 13  pct_foreign_born_2019  3142 non-null   float64\n",
      " 14  pct_foreign_born_2020  3141 non-null   float64\n",
      " 15  pct_foreign_born_2021  3141 non-null   float64\n",
      " 16  pct_it_workers_2017    3142 non-null   float64\n",
      " 17  pct_it_workers_2018    3141 non-null   float64\n",
      " 18  pct_it_workers_2019    3142 non-null   float64\n",
      " 19  pct_it_workers_2020    3141 non-null   float64\n",
      " 20  pct_it_workers_2021    3141 non-null   float64\n",
      " 21  median_hh_inc_2017     3142 non-null   int64  \n",
      " 22  median_hh_inc_2018     3141 non-null   float64\n",
      " 23  median_hh_inc_2019     3142 non-null   int64  \n",
      " 24  median_hh_inc_2020     3140 non-null   float64\n",
      " 25  median_hh_inc_2021     3140 non-null   float64\n",
      "dtypes: float64(23), int64(3)\n",
      "memory usage: 638.3 KB\n"
     ]
    }
   ],
   "source": [
    "census_df.info()"
   ]
  },
  {
   "cell_type": "markdown",
   "id": "613c4cd6",
   "metadata": {
    "papermill": {
     "duration": 0.016422,
     "end_time": "2023-01-30T09:23:22.451699",
     "exception": false,
     "start_time": "2023-01-30T09:23:22.435277",
     "status": "completed"
    },
    "tags": []
   },
   "source": [
    "There are values for years 2017 to 2021 (5 years) for 5 features:\n",
    "* pct_bb  \n",
    "* pct_college  \n",
    "* pct_foreign_born  \n",
    "* pct_it_workers  \n",
    "* median_hh_inc\n",
    "\n",
    "\n",
    "From the data description, we see that the meaning of these features is as following:\n",
    "\n",
    "* **pct_bb_[year]** - The percentage of households in the county with access to broadband of any type. Derived from ACS table B28002: PRESENCE AND TYPES OF INTERNET SUBSCRIPTIONS IN HOUSEHOLD.\n",
    "* **cfips** - The CFIPS code.\n",
    "* **pct_college_[year]** - The percent of the population in the county over age 25 with a 4-year college degree. Derived from ACS table S1501: EDUCATIONAL ATTAINMENT.\n",
    "* **pct_foreign_born_[year]** - The percent of the population in the county born outside of the United States. Derived from ACS table DP02: SELECTED SOCIAL CHARACTERISTICS IN THE UNITED STATES.\n",
    "* **pct_it_workers_[year]** - The percent of the workforce in the county employed in information related industries. Derived from ACS table S2405: INDUSTRY BY OCCUPATION FOR THE CIVILIAN EMPLOYED POPULATION 16 YEARS AND OVER.\n",
    "* **median_hh_inc_[year]** - The median household income in the county. Derived from ACS table S1901: INCOME IN THE PAST 12 MONTHS (IN 2021 INFLATION-ADJUSTED DOLLARS)."
   ]
  },
  {
   "cell_type": "code",
   "execution_count": 4,
   "id": "a656461e",
   "metadata": {
    "execution": {
     "iopub.execute_input": "2023-01-30T09:23:22.487907Z",
     "iopub.status.busy": "2023-01-30T09:23:22.487443Z",
     "iopub.status.idle": "2023-01-30T09:23:22.543315Z",
     "shell.execute_reply": "2023-01-30T09:23:22.540804Z"
    },
    "papermill": {
     "duration": 0.077518,
     "end_time": "2023-01-30T09:23:22.547158",
     "exception": false,
     "start_time": "2023-01-30T09:23:22.469640",
     "status": "completed"
    },
    "tags": []
   },
   "outputs": [
    {
     "name": "stdout",
     "output_type": "stream",
     "text": [
      "<class 'pandas.core.frame.DataFrame'>\n",
      "RangeIndex: 122265 entries, 0 to 122264\n",
      "Data columns (total 7 columns):\n",
      " #   Column                 Non-Null Count   Dtype \n",
      "---  ------                 --------------   ----- \n",
      " 0   row_id                 122265 non-null  object\n",
      " 1   cfips                  122265 non-null  object\n",
      " 2   county                 122265 non-null  object\n",
      " 3   state                  122265 non-null  object\n",
      " 4   first_day_of_month     122265 non-null  object\n",
      " 5   microbusiness_density  122265 non-null  object\n",
      " 6   active                 122265 non-null  object\n",
      "dtypes: object(7)\n",
      "memory usage: 6.5+ MB\n"
     ]
    }
   ],
   "source": [
    "train_df.info()"
   ]
  },
  {
   "cell_type": "code",
   "execution_count": 5,
   "id": "4414063f",
   "metadata": {
    "execution": {
     "iopub.execute_input": "2023-01-30T09:23:22.581815Z",
     "iopub.status.busy": "2023-01-30T09:23:22.581338Z",
     "iopub.status.idle": "2023-01-30T09:23:22.598918Z",
     "shell.execute_reply": "2023-01-30T09:23:22.597425Z"
    },
    "papermill": {
     "duration": 0.038007,
     "end_time": "2023-01-30T09:23:22.601706",
     "exception": false,
     "start_time": "2023-01-30T09:23:22.563699",
     "status": "completed"
    },
    "tags": []
   },
   "outputs": [
    {
     "name": "stdout",
     "output_type": "stream",
     "text": [
      "<class 'pandas.core.frame.DataFrame'>\n",
      "RangeIndex: 25080 entries, 0 to 25079\n",
      "Data columns (total 3 columns):\n",
      " #   Column              Non-Null Count  Dtype \n",
      "---  ------              --------------  ----- \n",
      " 0   row_id              25080 non-null  object\n",
      " 1   cfips               25080 non-null  object\n",
      " 2   first_day_of_month  25080 non-null  object\n",
      "dtypes: object(3)\n",
      "memory usage: 587.9+ KB\n"
     ]
    }
   ],
   "source": [
    "test_df.info()"
   ]
  },
  {
   "cell_type": "markdown",
   "id": "a58df899",
   "metadata": {
    "papermill": {
     "duration": 0.016168,
     "end_time": "2023-01-30T09:23:22.635481",
     "exception": false,
     "start_time": "2023-01-30T09:23:22.619313",
     "status": "completed"
    },
    "tags": []
   },
   "source": [
    "Train data contains, beside the row_id, cfips, county, state as well as first_day_of_month and microbusiness_density and active fields.\n",
    "Test data contains only row_id, cfips and first_day_of_month.\n",
    "The value to predict is microbusiness_density for a certain cfips and at a certain first_day_of_month."
   ]
  },
  {
   "cell_type": "code",
   "execution_count": 6,
   "id": "8ba99174",
   "metadata": {
    "execution": {
     "iopub.execute_input": "2023-01-30T09:23:22.673527Z",
     "iopub.status.busy": "2023-01-30T09:23:22.671759Z",
     "iopub.status.idle": "2023-01-30T09:23:22.698296Z",
     "shell.execute_reply": "2023-01-30T09:23:22.697295Z"
    },
    "papermill": {
     "duration": 0.052181,
     "end_time": "2023-01-30T09:23:22.703687",
     "exception": false,
     "start_time": "2023-01-30T09:23:22.651506",
     "status": "completed"
    },
    "tags": []
   },
   "outputs": [
    {
     "data": {
      "text/plain": [
       "array(['2019-08-01', '2019-09-01', '2019-10-01', '2019-11-01',\n",
       "       '2019-12-01', '2020-01-01', '2020-02-01', '2020-03-01',\n",
       "       '2020-04-01', '2020-05-01', '2020-06-01', '2020-07-01',\n",
       "       '2020-08-01', '2020-09-01', '2020-10-01', '2020-11-01',\n",
       "       '2020-12-01', '2021-01-01', '2021-02-01', '2021-03-01',\n",
       "       '2021-04-01', '2021-05-01', '2021-06-01', '2021-07-01',\n",
       "       '2021-08-01', '2021-09-01', '2021-10-01', '2021-11-01',\n",
       "       '2021-12-01', '2022-01-01', '2022-02-01', '2022-03-01',\n",
       "       '2022-04-01', '2022-05-01', '2022-06-01', '2022-07-01',\n",
       "       '2022-08-01', '2022-09-01', '2022-10-01'], dtype=object)"
      ]
     },
     "execution_count": 6,
     "metadata": {},
     "output_type": "execute_result"
    }
   ],
   "source": [
    "train_df.first_day_of_month.unique()"
   ]
  },
  {
   "cell_type": "code",
   "execution_count": 7,
   "id": "d3f6b716",
   "metadata": {
    "execution": {
     "iopub.execute_input": "2023-01-30T09:23:22.765971Z",
     "iopub.status.busy": "2023-01-30T09:23:22.764746Z",
     "iopub.status.idle": "2023-01-30T09:23:22.774879Z",
     "shell.execute_reply": "2023-01-30T09:23:22.773645Z"
    },
    "papermill": {
     "duration": 0.031606,
     "end_time": "2023-01-30T09:23:22.777916",
     "exception": false,
     "start_time": "2023-01-30T09:23:22.746310",
     "status": "completed"
    },
    "tags": []
   },
   "outputs": [
    {
     "data": {
      "text/plain": [
       "array(['2022-11-01', '2022-12-01', '2023-01-01', '2023-02-01',\n",
       "       '2023-03-01', '2023-04-01', '2023-05-01', '2023-06-01'],\n",
       "      dtype=object)"
      ]
     },
     "execution_count": 7,
     "metadata": {},
     "output_type": "execute_result"
    }
   ],
   "source": [
    "test_df.first_day_of_month.unique()"
   ]
  },
  {
   "cell_type": "markdown",
   "id": "8eeda916",
   "metadata": {
    "papermill": {
     "duration": 0.017624,
     "end_time": "2023-01-30T09:23:22.813313",
     "exception": false,
     "start_time": "2023-01-30T09:23:22.795689",
     "status": "completed"
    },
    "tags": []
   },
   "source": [
    "While train data is from Oct 2019 to Oct 2022, test data is from Nov 2022 to June 2023."
   ]
  },
  {
   "cell_type": "markdown",
   "id": "04cab4a0",
   "metadata": {
    "papermill": {
     "duration": 0.017294,
     "end_time": "2023-01-30T09:23:22.849403",
     "exception": false,
     "start_time": "2023-01-30T09:23:22.832109",
     "status": "completed"
    },
    "tags": []
   },
   "source": [
    "# How many cfips there are?\n",
    "\n",
    "Let's explore now the cfips data."
   ]
  },
  {
   "cell_type": "code",
   "execution_count": 8,
   "id": "a09c2015",
   "metadata": {
    "execution": {
     "iopub.execute_input": "2023-01-30T09:23:22.885652Z",
     "iopub.status.busy": "2023-01-30T09:23:22.884872Z",
     "iopub.status.idle": "2023-01-30T09:23:22.907254Z",
     "shell.execute_reply": "2023-01-30T09:23:22.906273Z"
    },
    "papermill": {
     "duration": 0.044048,
     "end_time": "2023-01-30T09:23:22.909823",
     "exception": false,
     "start_time": "2023-01-30T09:23:22.865775",
     "status": "completed"
    },
    "tags": []
   },
   "outputs": [
    {
     "data": {
      "text/plain": [
       "(3142, 3135, 3135)"
      ]
     },
     "execution_count": 8,
     "metadata": {},
     "output_type": "execute_result"
    }
   ],
   "source": [
    "census_df.cfips.nunique(), train_df.cfips.nunique(), test_df.cfips.nunique() "
   ]
  },
  {
   "cell_type": "markdown",
   "id": "12e3e554",
   "metadata": {
    "papermill": {
     "duration": 0.017735,
     "end_time": "2023-01-30T09:23:22.943888",
     "exception": false,
     "start_time": "2023-01-30T09:23:22.926153",
     "status": "completed"
    },
    "tags": []
   },
   "source": [
    "We have 3135 cfips in train and test data.  \n",
    "Total number of cfips (in census data) is 3142.  \n",
    "Not all cfips for which we do have census data are present in train and test datasets.    \n",
    "Let's see if we do have missing data for certain cfips.   "
   ]
  },
  {
   "cell_type": "code",
   "execution_count": 9,
   "id": "4f40ba07",
   "metadata": {
    "execution": {
     "iopub.execute_input": "2023-01-30T09:23:22.981393Z",
     "iopub.status.busy": "2023-01-30T09:23:22.980687Z",
     "iopub.status.idle": "2023-01-30T09:23:23.012106Z",
     "shell.execute_reply": "2023-01-30T09:23:23.011163Z"
    },
    "papermill": {
     "duration": 0.053334,
     "end_time": "2023-01-30T09:23:23.015161",
     "exception": false,
     "start_time": "2023-01-30T09:23:22.961827",
     "status": "completed"
    },
    "tags": []
   },
   "outputs": [
    {
     "data": {
      "text/plain": [
       "39    3135\n",
       "Name: dates, dtype: int64"
      ]
     },
     "execution_count": 9,
     "metadata": {},
     "output_type": "execute_result"
    }
   ],
   "source": [
    "train_agg = train_df.groupby([\"cfips\"])[\"first_day_of_month\"].count().reset_index()\n",
    "train_agg.columns = [\"cfips\", \"dates\"]\n",
    "train_agg.dates.value_counts()"
   ]
  },
  {
   "cell_type": "code",
   "execution_count": 10,
   "id": "daebd47d",
   "metadata": {
    "execution": {
     "iopub.execute_input": "2023-01-30T09:23:23.052025Z",
     "iopub.status.busy": "2023-01-30T09:23:23.051272Z",
     "iopub.status.idle": "2023-01-30T09:23:23.069345Z",
     "shell.execute_reply": "2023-01-30T09:23:23.067893Z"
    },
    "papermill": {
     "duration": 0.040144,
     "end_time": "2023-01-30T09:23:23.072523",
     "exception": false,
     "start_time": "2023-01-30T09:23:23.032379",
     "status": "completed"
    },
    "tags": []
   },
   "outputs": [
    {
     "data": {
      "text/plain": [
       "8    3135\n",
       "Name: dates, dtype: int64"
      ]
     },
     "execution_count": 10,
     "metadata": {},
     "output_type": "execute_result"
    }
   ],
   "source": [
    "test_agg = test_df.groupby([\"cfips\"])[\"first_day_of_month\"].count().reset_index()\n",
    "test_agg.columns = [\"cfips\", \"dates\"]\n",
    "test_agg.dates.value_counts()"
   ]
  },
  {
   "cell_type": "markdown",
   "id": "6b31ae4d",
   "metadata": {
    "papermill": {
     "duration": 0.016808,
     "end_time": "2023-01-30T09:23:23.106243",
     "exception": false,
     "start_time": "2023-01-30T09:23:23.089435",
     "status": "completed"
    },
    "tags": []
   },
   "source": [
    "Both in train and test data, all cfips have complete number of month, 39 (3 years and 3 months), respectively 8."
   ]
  },
  {
   "cell_type": "markdown",
   "id": "40f165e2",
   "metadata": {
    "papermill": {
     "duration": 0.017004,
     "end_time": "2023-01-30T09:23:23.139711",
     "exception": false,
     "start_time": "2023-01-30T09:23:23.122707",
     "status": "completed"
    },
    "tags": []
   },
   "source": [
    "# What is the relationship between states, counties and cfips?"
   ]
  },
  {
   "cell_type": "markdown",
   "id": "8ed4529b",
   "metadata": {
    "papermill": {
     "duration": 0.016512,
     "end_time": "2023-01-30T09:23:23.172880",
     "exception": false,
     "start_time": "2023-01-30T09:23:23.156368",
     "status": "completed"
    },
    "tags": []
   },
   "source": [
    "\n",
    "Source: https://transition.fcc.gov/oet/info/maps/census/fips/fips.txt\n",
    "\n",
    "FIPS stands for \"Federal Information Processing System\" Codes for States and Counties\n",
    "\n",
    "\n",
    "FIPS codes are numbers which uniquely identify geographic areas.  The number of \n",
    "digits in FIPS codes vary depending on the level of geography.  State-level FIPS\n",
    "codes have two digits, county-level FIPS codes have five digits of which the \n",
    "first two are the FIPS code of the state to which the county belongs.  When \n",
    "using the list below to look up county FIPS codes, it is advisable to first look\n",
    "up the FIPS code for the state to which the county belongs.  This will help you\n",
    "identify the right section of the list while scrolling down, which can be\n",
    "important since there are over 3000 counties and county-equivalents (e.g.\n",
    "independent cities, parishes, boroughs) in the United States."
   ]
  },
  {
   "cell_type": "code",
   "execution_count": 11,
   "id": "77eff149",
   "metadata": {
    "execution": {
     "iopub.execute_input": "2023-01-30T09:23:23.210744Z",
     "iopub.status.busy": "2023-01-30T09:23:23.210005Z",
     "iopub.status.idle": "2023-01-30T09:23:23.239638Z",
     "shell.execute_reply": "2023-01-30T09:23:23.238457Z"
    },
    "papermill": {
     "duration": 0.051929,
     "end_time": "2023-01-30T09:23:23.242243",
     "exception": false,
     "start_time": "2023-01-30T09:23:23.190314",
     "status": "completed"
    },
    "tags": []
   },
   "outputs": [
    {
     "data": {
      "text/plain": [
       "(1871, 3135)"
      ]
     },
     "execution_count": 11,
     "metadata": {},
     "output_type": "execute_result"
    }
   ],
   "source": [
    "train_df.county.nunique(), train_df.cfips.nunique()"
   ]
  },
  {
   "cell_type": "markdown",
   "id": "7cba0575",
   "metadata": {
    "papermill": {
     "duration": 0.018046,
     "end_time": "2023-01-30T09:23:23.278224",
     "exception": false,
     "start_time": "2023-01-30T09:23:23.260178",
     "status": "completed"
    },
    "tags": []
   },
   "source": [
    "The number of counties is much smaller that the one for FIPS. We assume that only a part of the cfips values corresponds to actual counties and only the cfips associated with real counties, not counties equivalent, are given. Let's make sure all sfips associated with the same state have the same prefix, corresponding to that state."
   ]
  },
  {
   "cell_type": "code",
   "execution_count": 12,
   "id": "4a3e8a4c",
   "metadata": {
    "execution": {
     "iopub.execute_input": "2023-01-30T09:23:23.314351Z",
     "iopub.status.busy": "2023-01-30T09:23:23.313331Z",
     "iopub.status.idle": "2023-01-30T09:23:23.439037Z",
     "shell.execute_reply": "2023-01-30T09:23:23.437425Z"
    },
    "papermill": {
     "duration": 0.146744,
     "end_time": "2023-01-30T09:23:23.441793",
     "exception": false,
     "start_time": "2023-01-30T09:23:23.295049",
     "status": "completed"
    },
    "tags": []
   },
   "outputs": [
    {
     "data": {
      "text/html": [
       "<div>\n",
       "<style scoped>\n",
       "    .dataframe tbody tr th:only-of-type {\n",
       "        vertical-align: middle;\n",
       "    }\n",
       "\n",
       "    .dataframe tbody tr th {\n",
       "        vertical-align: top;\n",
       "    }\n",
       "\n",
       "    .dataframe thead th {\n",
       "        text-align: right;\n",
       "    }\n",
       "</style>\n",
       "<table border=\"1\" class=\"dataframe\">\n",
       "  <thead>\n",
       "    <tr style=\"text-align: right;\">\n",
       "      <th></th>\n",
       "      <th>cfips_prefix</th>\n",
       "      <th>state</th>\n",
       "    </tr>\n",
       "  </thead>\n",
       "  <tbody>\n",
       "    <tr>\n",
       "      <th>0</th>\n",
       "      <td>10</td>\n",
       "      <td>[Alabama, Delaware]</td>\n",
       "    </tr>\n",
       "    <tr>\n",
       "      <th>1</th>\n",
       "      <td>11</td>\n",
       "      <td>[Alabama, District of Columbia]</td>\n",
       "    </tr>\n",
       "    <tr>\n",
       "      <th>2</th>\n",
       "      <td>12</td>\n",
       "      <td>[Florida]</td>\n",
       "    </tr>\n",
       "    <tr>\n",
       "      <th>3</th>\n",
       "      <td>13</td>\n",
       "      <td>[Georgia]</td>\n",
       "    </tr>\n",
       "    <tr>\n",
       "      <th>4</th>\n",
       "      <td>15</td>\n",
       "      <td>[Hawaii]</td>\n",
       "    </tr>\n",
       "    <tr>\n",
       "      <th>5</th>\n",
       "      <td>16</td>\n",
       "      <td>[Idaho]</td>\n",
       "    </tr>\n",
       "    <tr>\n",
       "      <th>6</th>\n",
       "      <td>17</td>\n",
       "      <td>[Illinois]</td>\n",
       "    </tr>\n",
       "    <tr>\n",
       "      <th>7</th>\n",
       "      <td>18</td>\n",
       "      <td>[Indiana]</td>\n",
       "    </tr>\n",
       "    <tr>\n",
       "      <th>8</th>\n",
       "      <td>19</td>\n",
       "      <td>[Iowa]</td>\n",
       "    </tr>\n",
       "    <tr>\n",
       "      <th>9</th>\n",
       "      <td>20</td>\n",
       "      <td>[Alaska, Kansas]</td>\n",
       "    </tr>\n",
       "    <tr>\n",
       "      <th>10</th>\n",
       "      <td>21</td>\n",
       "      <td>[Alaska, Kentucky]</td>\n",
       "    </tr>\n",
       "    <tr>\n",
       "      <th>11</th>\n",
       "      <td>22</td>\n",
       "      <td>[Alaska, Louisiana]</td>\n",
       "    </tr>\n",
       "    <tr>\n",
       "      <th>12</th>\n",
       "      <td>23</td>\n",
       "      <td>[Maine]</td>\n",
       "    </tr>\n",
       "    <tr>\n",
       "      <th>13</th>\n",
       "      <td>24</td>\n",
       "      <td>[Maryland]</td>\n",
       "    </tr>\n",
       "    <tr>\n",
       "      <th>14</th>\n",
       "      <td>25</td>\n",
       "      <td>[Massachusetts]</td>\n",
       "    </tr>\n",
       "    <tr>\n",
       "      <th>15</th>\n",
       "      <td>26</td>\n",
       "      <td>[Michigan]</td>\n",
       "    </tr>\n",
       "    <tr>\n",
       "      <th>16</th>\n",
       "      <td>27</td>\n",
       "      <td>[Minnesota]</td>\n",
       "    </tr>\n",
       "    <tr>\n",
       "      <th>17</th>\n",
       "      <td>28</td>\n",
       "      <td>[Mississippi]</td>\n",
       "    </tr>\n",
       "    <tr>\n",
       "      <th>18</th>\n",
       "      <td>29</td>\n",
       "      <td>[Missouri]</td>\n",
       "    </tr>\n",
       "    <tr>\n",
       "      <th>19</th>\n",
       "      <td>30</td>\n",
       "      <td>[Montana]</td>\n",
       "    </tr>\n",
       "    <tr>\n",
       "      <th>20</th>\n",
       "      <td>31</td>\n",
       "      <td>[Nebraska]</td>\n",
       "    </tr>\n",
       "    <tr>\n",
       "      <th>21</th>\n",
       "      <td>32</td>\n",
       "      <td>[Nevada]</td>\n",
       "    </tr>\n",
       "    <tr>\n",
       "      <th>22</th>\n",
       "      <td>33</td>\n",
       "      <td>[New Hampshire]</td>\n",
       "    </tr>\n",
       "    <tr>\n",
       "      <th>23</th>\n",
       "      <td>34</td>\n",
       "      <td>[New Jersey]</td>\n",
       "    </tr>\n",
       "    <tr>\n",
       "      <th>24</th>\n",
       "      <td>35</td>\n",
       "      <td>[New Mexico]</td>\n",
       "    </tr>\n",
       "    <tr>\n",
       "      <th>25</th>\n",
       "      <td>36</td>\n",
       "      <td>[New York]</td>\n",
       "    </tr>\n",
       "    <tr>\n",
       "      <th>26</th>\n",
       "      <td>37</td>\n",
       "      <td>[North Carolina]</td>\n",
       "    </tr>\n",
       "    <tr>\n",
       "      <th>27</th>\n",
       "      <td>38</td>\n",
       "      <td>[North Dakota]</td>\n",
       "    </tr>\n",
       "    <tr>\n",
       "      <th>28</th>\n",
       "      <td>39</td>\n",
       "      <td>[Ohio]</td>\n",
       "    </tr>\n",
       "    <tr>\n",
       "      <th>29</th>\n",
       "      <td>40</td>\n",
       "      <td>[Arizona, Oklahoma]</td>\n",
       "    </tr>\n",
       "    <tr>\n",
       "      <th>30</th>\n",
       "      <td>41</td>\n",
       "      <td>[Oregon]</td>\n",
       "    </tr>\n",
       "    <tr>\n",
       "      <th>31</th>\n",
       "      <td>42</td>\n",
       "      <td>[Pennsylvania]</td>\n",
       "    </tr>\n",
       "    <tr>\n",
       "      <th>32</th>\n",
       "      <td>44</td>\n",
       "      <td>[Rhode Island]</td>\n",
       "    </tr>\n",
       "    <tr>\n",
       "      <th>33</th>\n",
       "      <td>45</td>\n",
       "      <td>[South Carolina]</td>\n",
       "    </tr>\n",
       "    <tr>\n",
       "      <th>34</th>\n",
       "      <td>46</td>\n",
       "      <td>[South Dakota]</td>\n",
       "    </tr>\n",
       "    <tr>\n",
       "      <th>35</th>\n",
       "      <td>47</td>\n",
       "      <td>[Tennessee]</td>\n",
       "    </tr>\n",
       "    <tr>\n",
       "      <th>36</th>\n",
       "      <td>48</td>\n",
       "      <td>[Texas]</td>\n",
       "    </tr>\n",
       "    <tr>\n",
       "      <th>37</th>\n",
       "      <td>49</td>\n",
       "      <td>[Utah]</td>\n",
       "    </tr>\n",
       "    <tr>\n",
       "      <th>38</th>\n",
       "      <td>50</td>\n",
       "      <td>[Arkansas, Vermont]</td>\n",
       "    </tr>\n",
       "    <tr>\n",
       "      <th>39</th>\n",
       "      <td>51</td>\n",
       "      <td>[Arkansas, Virginia]</td>\n",
       "    </tr>\n",
       "    <tr>\n",
       "      <th>40</th>\n",
       "      <td>53</td>\n",
       "      <td>[Washington]</td>\n",
       "    </tr>\n",
       "    <tr>\n",
       "      <th>41</th>\n",
       "      <td>54</td>\n",
       "      <td>[West Virginia]</td>\n",
       "    </tr>\n",
       "    <tr>\n",
       "      <th>42</th>\n",
       "      <td>55</td>\n",
       "      <td>[Wisconsin]</td>\n",
       "    </tr>\n",
       "    <tr>\n",
       "      <th>43</th>\n",
       "      <td>56</td>\n",
       "      <td>[Wyoming]</td>\n",
       "    </tr>\n",
       "    <tr>\n",
       "      <th>44</th>\n",
       "      <td>60</td>\n",
       "      <td>[California]</td>\n",
       "    </tr>\n",
       "    <tr>\n",
       "      <th>45</th>\n",
       "      <td>61</td>\n",
       "      <td>[California]</td>\n",
       "    </tr>\n",
       "    <tr>\n",
       "      <th>46</th>\n",
       "      <td>80</td>\n",
       "      <td>[Colorado]</td>\n",
       "    </tr>\n",
       "    <tr>\n",
       "      <th>47</th>\n",
       "      <td>81</td>\n",
       "      <td>[Colorado]</td>\n",
       "    </tr>\n",
       "    <tr>\n",
       "      <th>48</th>\n",
       "      <td>90</td>\n",
       "      <td>[Connecticut]</td>\n",
       "    </tr>\n",
       "  </tbody>\n",
       "</table>\n",
       "</div>"
      ],
      "text/plain": [
       "   cfips_prefix                            state\n",
       "0            10              [Alabama, Delaware]\n",
       "1            11  [Alabama, District of Columbia]\n",
       "2            12                        [Florida]\n",
       "3            13                        [Georgia]\n",
       "4            15                         [Hawaii]\n",
       "5            16                          [Idaho]\n",
       "6            17                       [Illinois]\n",
       "7            18                        [Indiana]\n",
       "8            19                           [Iowa]\n",
       "9            20                 [Alaska, Kansas]\n",
       "10           21               [Alaska, Kentucky]\n",
       "11           22              [Alaska, Louisiana]\n",
       "12           23                          [Maine]\n",
       "13           24                       [Maryland]\n",
       "14           25                  [Massachusetts]\n",
       "15           26                       [Michigan]\n",
       "16           27                      [Minnesota]\n",
       "17           28                    [Mississippi]\n",
       "18           29                       [Missouri]\n",
       "19           30                        [Montana]\n",
       "20           31                       [Nebraska]\n",
       "21           32                         [Nevada]\n",
       "22           33                  [New Hampshire]\n",
       "23           34                     [New Jersey]\n",
       "24           35                     [New Mexico]\n",
       "25           36                       [New York]\n",
       "26           37                 [North Carolina]\n",
       "27           38                   [North Dakota]\n",
       "28           39                           [Ohio]\n",
       "29           40              [Arizona, Oklahoma]\n",
       "30           41                         [Oregon]\n",
       "31           42                   [Pennsylvania]\n",
       "32           44                   [Rhode Island]\n",
       "33           45                 [South Carolina]\n",
       "34           46                   [South Dakota]\n",
       "35           47                      [Tennessee]\n",
       "36           48                          [Texas]\n",
       "37           49                           [Utah]\n",
       "38           50              [Arkansas, Vermont]\n",
       "39           51             [Arkansas, Virginia]\n",
       "40           53                     [Washington]\n",
       "41           54                  [West Virginia]\n",
       "42           55                      [Wisconsin]\n",
       "43           56                        [Wyoming]\n",
       "44           60                     [California]\n",
       "45           61                     [California]\n",
       "46           80                       [Colorado]\n",
       "47           81                       [Colorado]\n",
       "48           90                    [Connecticut]"
      ]
     },
     "execution_count": 12,
     "metadata": {},
     "output_type": "execute_result"
    }
   ],
   "source": [
    "train_df[\"cfips_prefix\"] = train_df[\"cfips\"].apply(lambda x: str(x)[0:2])\n",
    "cfips_state = train_df.groupby([\"cfips_prefix\"])[\"state\"].unique().reset_index()\n",
    "cfips_state.columns = [\"cfips_prefix\", \"state\"]\n",
    "cfips_state"
   ]
  },
  {
   "cell_type": "code",
   "execution_count": 13,
   "id": "b631b27a",
   "metadata": {
    "execution": {
     "iopub.execute_input": "2023-01-30T09:23:23.478707Z",
     "iopub.status.busy": "2023-01-30T09:23:23.478048Z",
     "iopub.status.idle": "2023-01-30T09:23:23.549849Z",
     "shell.execute_reply": "2023-01-30T09:23:23.548048Z"
    },
    "papermill": {
     "duration": 0.093492,
     "end_time": "2023-01-30T09:23:23.552749",
     "exception": false,
     "start_time": "2023-01-30T09:23:23.459257",
     "status": "completed"
    },
    "tags": []
   },
   "outputs": [
    {
     "data": {
      "text/html": [
       "<div>\n",
       "<style scoped>\n",
       "    .dataframe tbody tr th:only-of-type {\n",
       "        vertical-align: middle;\n",
       "    }\n",
       "\n",
       "    .dataframe tbody tr th {\n",
       "        vertical-align: top;\n",
       "    }\n",
       "\n",
       "    .dataframe thead th {\n",
       "        text-align: right;\n",
       "    }\n",
       "</style>\n",
       "<table border=\"1\" class=\"dataframe\">\n",
       "  <thead>\n",
       "    <tr style=\"text-align: right;\">\n",
       "      <th></th>\n",
       "      <th>state</th>\n",
       "      <th>cfips</th>\n",
       "    </tr>\n",
       "  </thead>\n",
       "  <tbody>\n",
       "    <tr>\n",
       "      <th>4208</th>\n",
       "      <td>Arizona</td>\n",
       "      <td>4025</td>\n",
       "    </tr>\n",
       "    <tr>\n",
       "      <th>8717</th>\n",
       "      <td>California</td>\n",
       "      <td>6079</td>\n",
       "    </tr>\n",
       "    <tr>\n",
       "      <th>7730</th>\n",
       "      <td>California</td>\n",
       "      <td>6029</td>\n",
       "    </tr>\n",
       "    <tr>\n",
       "      <th>11093</th>\n",
       "      <td>Colorado</td>\n",
       "      <td>8083</td>\n",
       "    </tr>\n",
       "    <tr>\n",
       "      <th>8457</th>\n",
       "      <td>California</td>\n",
       "      <td>6065</td>\n",
       "    </tr>\n",
       "    <tr>\n",
       "      <th>807</th>\n",
       "      <td>Alabama</td>\n",
       "      <td>1041</td>\n",
       "    </tr>\n",
       "    <tr>\n",
       "      <th>8033</th>\n",
       "      <td>California</td>\n",
       "      <td>6043</td>\n",
       "    </tr>\n",
       "    <tr>\n",
       "      <th>9056</th>\n",
       "      <td>California</td>\n",
       "      <td>6097</td>\n",
       "    </tr>\n",
       "    <tr>\n",
       "      <th>8305</th>\n",
       "      <td>California</td>\n",
       "      <td>6057</td>\n",
       "    </tr>\n",
       "    <tr>\n",
       "      <th>10860</th>\n",
       "      <td>Colorado</td>\n",
       "      <td>8071</td>\n",
       "    </tr>\n",
       "  </tbody>\n",
       "</table>\n",
       "</div>"
      ],
      "text/plain": [
       "            state cfips\n",
       "4208      Arizona  4025\n",
       "8717   California  6079\n",
       "7730   California  6029\n",
       "11093    Colorado  8083\n",
       "8457   California  6065\n",
       "807       Alabama  1041\n",
       "8033   California  6043\n",
       "9056   California  6097\n",
       "8305   California  6057\n",
       "10860    Colorado  8071"
      ]
     },
     "execution_count": 13,
     "metadata": {},
     "output_type": "execute_result"
    }
   ],
   "source": [
    "train_df[[\"state\", \"cfips\"]].loc[train_df.state.isin([\"Alabama\", \"Arkansas\", \"Arizona\", \"California\", \"Colorado\"])].sample(10)"
   ]
  },
  {
   "cell_type": "markdown",
   "id": "d6b3d344",
   "metadata": {
    "papermill": {
     "duration": 0.017315,
     "end_time": "2023-01-30T09:23:23.588600",
     "exception": false,
     "start_time": "2023-01-30T09:23:23.571285",
     "status": "completed"
    },
    "tags": []
   },
   "source": [
    "It appears that all the cfips for states that starts with 0 are corupted (0 is removed from the prefixes like 01, 02, 03 ...).\n",
    "\n",
    "We will fix the issue. \n",
    "\n",
    "First let's make sure that cfips from the states with FIPS starting with 0 have numbers with only 4 digits."
   ]
  },
  {
   "cell_type": "code",
   "execution_count": 14,
   "id": "a5089ef3",
   "metadata": {
    "execution": {
     "iopub.execute_input": "2023-01-30T09:23:23.627150Z",
     "iopub.status.busy": "2023-01-30T09:23:23.626729Z",
     "iopub.status.idle": "2023-01-30T09:23:23.651022Z",
     "shell.execute_reply": "2023-01-30T09:23:23.649793Z"
    },
    "papermill": {
     "duration": 0.04756,
     "end_time": "2023-01-30T09:23:23.653730",
     "exception": false,
     "start_time": "2023-01-30T09:23:23.606170",
     "status": "completed"
    },
    "tags": []
   },
   "outputs": [
    {
     "data": {
      "text/plain": [
       "4    12246\n",
       "Name: cfips_len, dtype: int64"
      ]
     },
     "execution_count": 14,
     "metadata": {},
     "output_type": "execute_result"
    }
   ],
   "source": [
    "states_error = [\"Alabama\", \"Alaska\", \"Arizona\", \"Arkansas\", \"California\", \"Colorado\", \"Connecticut\"]\n",
    "red_train = train_df.loc[train_df.state.isin(states_error)]\n",
    "red_train[\"cfips_len\"] = red_train[\"cfips\"].apply(lambda x: len(x))\n",
    "red_train[\"cfips_len\"].value_counts()"
   ]
  },
  {
   "cell_type": "markdown",
   "id": "56fcfb44",
   "metadata": {
    "papermill": {
     "duration": 0.01747,
     "end_time": "2023-01-30T09:23:23.692452",
     "exception": false,
     "start_time": "2023-01-30T09:23:23.674982",
     "status": "completed"
    },
    "tags": []
   },
   "source": [
    "We confiemed that all these cfips are malformed. Let's fix them.\n",
    "\n",
    "\n",
    "# Fix the malformed cfips\n",
    "\n"
   ]
  },
  {
   "cell_type": "code",
   "execution_count": 15,
   "id": "6a36340b",
   "metadata": {
    "execution": {
     "iopub.execute_input": "2023-01-30T09:23:23.730012Z",
     "iopub.status.busy": "2023-01-30T09:23:23.729595Z",
     "iopub.status.idle": "2023-01-30T09:23:23.750023Z",
     "shell.execute_reply": "2023-01-30T09:23:23.748527Z"
    },
    "papermill": {
     "duration": 0.042925,
     "end_time": "2023-01-30T09:23:23.753178",
     "exception": false,
     "start_time": "2023-01-30T09:23:23.710253",
     "status": "completed"
    },
    "tags": []
   },
   "outputs": [],
   "source": [
    "train_df.loc[train_df.state.isin(states_error), \"cfips\"] = \"0\" + train_df.loc[train_df.state.isin(states_error), \"cfips\"]"
   ]
  },
  {
   "cell_type": "markdown",
   "id": "d54a3f7c",
   "metadata": {
    "papermill": {
     "duration": 0.017284,
     "end_time": "2023-01-30T09:23:23.788321",
     "exception": false,
     "start_time": "2023-01-30T09:23:23.771037",
     "status": "completed"
    },
    "tags": []
   },
   "source": [
    "Let's verify now that they work correctly."
   ]
  },
  {
   "cell_type": "code",
   "execution_count": 16,
   "id": "c4381d4c",
   "metadata": {
    "execution": {
     "iopub.execute_input": "2023-01-30T09:23:23.827144Z",
     "iopub.status.busy": "2023-01-30T09:23:23.826730Z",
     "iopub.status.idle": "2023-01-30T09:23:23.850317Z",
     "shell.execute_reply": "2023-01-30T09:23:23.849397Z"
    },
    "papermill": {
     "duration": 0.04537,
     "end_time": "2023-01-30T09:23:23.852657",
     "exception": false,
     "start_time": "2023-01-30T09:23:23.807287",
     "status": "completed"
    },
    "tags": []
   },
   "outputs": [
    {
     "data": {
      "text/plain": [
       "5    12246\n",
       "Name: cfips_len, dtype: int64"
      ]
     },
     "execution_count": 16,
     "metadata": {},
     "output_type": "execute_result"
    }
   ],
   "source": [
    "red_train = train_df.loc[train_df.state.isin(states_error)]\n",
    "red_train[\"cfips_len\"] = red_train[\"cfips\"].apply(lambda x: len(x))\n",
    "red_train[\"cfips_len\"].value_counts()"
   ]
  },
  {
   "cell_type": "markdown",
   "id": "f25c13c9",
   "metadata": {
    "papermill": {
     "duration": 0.017544,
     "end_time": "2023-01-30T09:23:23.888802",
     "exception": false,
     "start_time": "2023-01-30T09:23:23.871258",
     "status": "completed"
    },
    "tags": []
   },
   "source": [
    "And also:"
   ]
  },
  {
   "cell_type": "code",
   "execution_count": 17,
   "id": "adeb058e",
   "metadata": {
    "execution": {
     "iopub.execute_input": "2023-01-30T09:23:23.928244Z",
     "iopub.status.busy": "2023-01-30T09:23:23.927690Z",
     "iopub.status.idle": "2023-01-30T09:23:24.043087Z",
     "shell.execute_reply": "2023-01-30T09:23:24.041076Z"
    },
    "papermill": {
     "duration": 0.140912,
     "end_time": "2023-01-30T09:23:24.047555",
     "exception": false,
     "start_time": "2023-01-30T09:23:23.906643",
     "status": "completed"
    },
    "tags": []
   },
   "outputs": [
    {
     "data": {
      "text/html": [
       "<div>\n",
       "<style scoped>\n",
       "    .dataframe tbody tr th:only-of-type {\n",
       "        vertical-align: middle;\n",
       "    }\n",
       "\n",
       "    .dataframe tbody tr th {\n",
       "        vertical-align: top;\n",
       "    }\n",
       "\n",
       "    .dataframe thead th {\n",
       "        text-align: right;\n",
       "    }\n",
       "</style>\n",
       "<table border=\"1\" class=\"dataframe\">\n",
       "  <thead>\n",
       "    <tr style=\"text-align: right;\">\n",
       "      <th></th>\n",
       "      <th>cfips_prefix</th>\n",
       "      <th>state</th>\n",
       "    </tr>\n",
       "  </thead>\n",
       "  <tbody>\n",
       "    <tr>\n",
       "      <th>0</th>\n",
       "      <td>01</td>\n",
       "      <td>[Alabama]</td>\n",
       "    </tr>\n",
       "    <tr>\n",
       "      <th>1</th>\n",
       "      <td>02</td>\n",
       "      <td>[Alaska]</td>\n",
       "    </tr>\n",
       "    <tr>\n",
       "      <th>2</th>\n",
       "      <td>04</td>\n",
       "      <td>[Arizona]</td>\n",
       "    </tr>\n",
       "    <tr>\n",
       "      <th>3</th>\n",
       "      <td>05</td>\n",
       "      <td>[Arkansas]</td>\n",
       "    </tr>\n",
       "    <tr>\n",
       "      <th>4</th>\n",
       "      <td>06</td>\n",
       "      <td>[California]</td>\n",
       "    </tr>\n",
       "    <tr>\n",
       "      <th>5</th>\n",
       "      <td>08</td>\n",
       "      <td>[Colorado]</td>\n",
       "    </tr>\n",
       "    <tr>\n",
       "      <th>6</th>\n",
       "      <td>09</td>\n",
       "      <td>[Connecticut]</td>\n",
       "    </tr>\n",
       "    <tr>\n",
       "      <th>7</th>\n",
       "      <td>10</td>\n",
       "      <td>[Delaware]</td>\n",
       "    </tr>\n",
       "    <tr>\n",
       "      <th>8</th>\n",
       "      <td>11</td>\n",
       "      <td>[District of Columbia]</td>\n",
       "    </tr>\n",
       "    <tr>\n",
       "      <th>9</th>\n",
       "      <td>12</td>\n",
       "      <td>[Florida]</td>\n",
       "    </tr>\n",
       "    <tr>\n",
       "      <th>10</th>\n",
       "      <td>13</td>\n",
       "      <td>[Georgia]</td>\n",
       "    </tr>\n",
       "    <tr>\n",
       "      <th>11</th>\n",
       "      <td>15</td>\n",
       "      <td>[Hawaii]</td>\n",
       "    </tr>\n",
       "    <tr>\n",
       "      <th>12</th>\n",
       "      <td>16</td>\n",
       "      <td>[Idaho]</td>\n",
       "    </tr>\n",
       "    <tr>\n",
       "      <th>13</th>\n",
       "      <td>17</td>\n",
       "      <td>[Illinois]</td>\n",
       "    </tr>\n",
       "    <tr>\n",
       "      <th>14</th>\n",
       "      <td>18</td>\n",
       "      <td>[Indiana]</td>\n",
       "    </tr>\n",
       "    <tr>\n",
       "      <th>15</th>\n",
       "      <td>19</td>\n",
       "      <td>[Iowa]</td>\n",
       "    </tr>\n",
       "    <tr>\n",
       "      <th>16</th>\n",
       "      <td>20</td>\n",
       "      <td>[Kansas]</td>\n",
       "    </tr>\n",
       "    <tr>\n",
       "      <th>17</th>\n",
       "      <td>21</td>\n",
       "      <td>[Kentucky]</td>\n",
       "    </tr>\n",
       "    <tr>\n",
       "      <th>18</th>\n",
       "      <td>22</td>\n",
       "      <td>[Louisiana]</td>\n",
       "    </tr>\n",
       "    <tr>\n",
       "      <th>19</th>\n",
       "      <td>23</td>\n",
       "      <td>[Maine]</td>\n",
       "    </tr>\n",
       "    <tr>\n",
       "      <th>20</th>\n",
       "      <td>24</td>\n",
       "      <td>[Maryland]</td>\n",
       "    </tr>\n",
       "    <tr>\n",
       "      <th>21</th>\n",
       "      <td>25</td>\n",
       "      <td>[Massachusetts]</td>\n",
       "    </tr>\n",
       "    <tr>\n",
       "      <th>22</th>\n",
       "      <td>26</td>\n",
       "      <td>[Michigan]</td>\n",
       "    </tr>\n",
       "    <tr>\n",
       "      <th>23</th>\n",
       "      <td>27</td>\n",
       "      <td>[Minnesota]</td>\n",
       "    </tr>\n",
       "    <tr>\n",
       "      <th>24</th>\n",
       "      <td>28</td>\n",
       "      <td>[Mississippi]</td>\n",
       "    </tr>\n",
       "    <tr>\n",
       "      <th>25</th>\n",
       "      <td>29</td>\n",
       "      <td>[Missouri]</td>\n",
       "    </tr>\n",
       "    <tr>\n",
       "      <th>26</th>\n",
       "      <td>30</td>\n",
       "      <td>[Montana]</td>\n",
       "    </tr>\n",
       "    <tr>\n",
       "      <th>27</th>\n",
       "      <td>31</td>\n",
       "      <td>[Nebraska]</td>\n",
       "    </tr>\n",
       "    <tr>\n",
       "      <th>28</th>\n",
       "      <td>32</td>\n",
       "      <td>[Nevada]</td>\n",
       "    </tr>\n",
       "    <tr>\n",
       "      <th>29</th>\n",
       "      <td>33</td>\n",
       "      <td>[New Hampshire]</td>\n",
       "    </tr>\n",
       "    <tr>\n",
       "      <th>30</th>\n",
       "      <td>34</td>\n",
       "      <td>[New Jersey]</td>\n",
       "    </tr>\n",
       "    <tr>\n",
       "      <th>31</th>\n",
       "      <td>35</td>\n",
       "      <td>[New Mexico]</td>\n",
       "    </tr>\n",
       "    <tr>\n",
       "      <th>32</th>\n",
       "      <td>36</td>\n",
       "      <td>[New York]</td>\n",
       "    </tr>\n",
       "    <tr>\n",
       "      <th>33</th>\n",
       "      <td>37</td>\n",
       "      <td>[North Carolina]</td>\n",
       "    </tr>\n",
       "    <tr>\n",
       "      <th>34</th>\n",
       "      <td>38</td>\n",
       "      <td>[North Dakota]</td>\n",
       "    </tr>\n",
       "    <tr>\n",
       "      <th>35</th>\n",
       "      <td>39</td>\n",
       "      <td>[Ohio]</td>\n",
       "    </tr>\n",
       "    <tr>\n",
       "      <th>36</th>\n",
       "      <td>40</td>\n",
       "      <td>[Oklahoma]</td>\n",
       "    </tr>\n",
       "    <tr>\n",
       "      <th>37</th>\n",
       "      <td>41</td>\n",
       "      <td>[Oregon]</td>\n",
       "    </tr>\n",
       "    <tr>\n",
       "      <th>38</th>\n",
       "      <td>42</td>\n",
       "      <td>[Pennsylvania]</td>\n",
       "    </tr>\n",
       "    <tr>\n",
       "      <th>39</th>\n",
       "      <td>44</td>\n",
       "      <td>[Rhode Island]</td>\n",
       "    </tr>\n",
       "    <tr>\n",
       "      <th>40</th>\n",
       "      <td>45</td>\n",
       "      <td>[South Carolina]</td>\n",
       "    </tr>\n",
       "    <tr>\n",
       "      <th>41</th>\n",
       "      <td>46</td>\n",
       "      <td>[South Dakota]</td>\n",
       "    </tr>\n",
       "    <tr>\n",
       "      <th>42</th>\n",
       "      <td>47</td>\n",
       "      <td>[Tennessee]</td>\n",
       "    </tr>\n",
       "    <tr>\n",
       "      <th>43</th>\n",
       "      <td>48</td>\n",
       "      <td>[Texas]</td>\n",
       "    </tr>\n",
       "    <tr>\n",
       "      <th>44</th>\n",
       "      <td>49</td>\n",
       "      <td>[Utah]</td>\n",
       "    </tr>\n",
       "    <tr>\n",
       "      <th>45</th>\n",
       "      <td>50</td>\n",
       "      <td>[Vermont]</td>\n",
       "    </tr>\n",
       "    <tr>\n",
       "      <th>46</th>\n",
       "      <td>51</td>\n",
       "      <td>[Virginia]</td>\n",
       "    </tr>\n",
       "    <tr>\n",
       "      <th>47</th>\n",
       "      <td>53</td>\n",
       "      <td>[Washington]</td>\n",
       "    </tr>\n",
       "    <tr>\n",
       "      <th>48</th>\n",
       "      <td>54</td>\n",
       "      <td>[West Virginia]</td>\n",
       "    </tr>\n",
       "    <tr>\n",
       "      <th>49</th>\n",
       "      <td>55</td>\n",
       "      <td>[Wisconsin]</td>\n",
       "    </tr>\n",
       "    <tr>\n",
       "      <th>50</th>\n",
       "      <td>56</td>\n",
       "      <td>[Wyoming]</td>\n",
       "    </tr>\n",
       "  </tbody>\n",
       "</table>\n",
       "</div>"
      ],
      "text/plain": [
       "   cfips_prefix                   state\n",
       "0            01               [Alabama]\n",
       "1            02                [Alaska]\n",
       "2            04               [Arizona]\n",
       "3            05              [Arkansas]\n",
       "4            06            [California]\n",
       "5            08              [Colorado]\n",
       "6            09           [Connecticut]\n",
       "7            10              [Delaware]\n",
       "8            11  [District of Columbia]\n",
       "9            12               [Florida]\n",
       "10           13               [Georgia]\n",
       "11           15                [Hawaii]\n",
       "12           16                 [Idaho]\n",
       "13           17              [Illinois]\n",
       "14           18               [Indiana]\n",
       "15           19                  [Iowa]\n",
       "16           20                [Kansas]\n",
       "17           21              [Kentucky]\n",
       "18           22             [Louisiana]\n",
       "19           23                 [Maine]\n",
       "20           24              [Maryland]\n",
       "21           25         [Massachusetts]\n",
       "22           26              [Michigan]\n",
       "23           27             [Minnesota]\n",
       "24           28           [Mississippi]\n",
       "25           29              [Missouri]\n",
       "26           30               [Montana]\n",
       "27           31              [Nebraska]\n",
       "28           32                [Nevada]\n",
       "29           33         [New Hampshire]\n",
       "30           34            [New Jersey]\n",
       "31           35            [New Mexico]\n",
       "32           36              [New York]\n",
       "33           37        [North Carolina]\n",
       "34           38          [North Dakota]\n",
       "35           39                  [Ohio]\n",
       "36           40              [Oklahoma]\n",
       "37           41                [Oregon]\n",
       "38           42          [Pennsylvania]\n",
       "39           44          [Rhode Island]\n",
       "40           45        [South Carolina]\n",
       "41           46          [South Dakota]\n",
       "42           47             [Tennessee]\n",
       "43           48                 [Texas]\n",
       "44           49                  [Utah]\n",
       "45           50               [Vermont]\n",
       "46           51              [Virginia]\n",
       "47           53            [Washington]\n",
       "48           54         [West Virginia]\n",
       "49           55             [Wisconsin]\n",
       "50           56               [Wyoming]"
      ]
     },
     "execution_count": 17,
     "metadata": {},
     "output_type": "execute_result"
    }
   ],
   "source": [
    "train_df[\"cfips_prefix\"] = train_df[\"cfips\"].apply(lambda x: str(x)[0:2])\n",
    "cfips_state = train_df.groupby([\"cfips_prefix\"])[\"state\"].unique().reset_index()\n",
    "cfips_state.columns = [\"cfips_prefix\", \"state\"]\n",
    "cfips_state"
   ]
  },
  {
   "cell_type": "markdown",
   "id": "04117fcb",
   "metadata": {
    "papermill": {
     "duration": 0.018018,
     "end_time": "2023-01-30T09:23:24.084773",
     "exception": false,
     "start_time": "2023-01-30T09:23:24.066755",
     "status": "completed"
    },
    "tags": []
   },
   "source": [
    "Everything looks fine now."
   ]
  },
  {
   "cell_type": "markdown",
   "id": "f8797ae0",
   "metadata": {
    "papermill": {
     "duration": 0.018517,
     "end_time": "2023-01-30T09:23:24.123337",
     "exception": false,
     "start_time": "2023-01-30T09:23:24.104820",
     "status": "completed"
    },
    "tags": []
   },
   "source": [
    "# Check the cfips from census data\n",
    "\n",
    "Let's check that the cfips from census data are all correct as well.\n"
   ]
  },
  {
   "cell_type": "code",
   "execution_count": 18,
   "id": "2b6e1ed3",
   "metadata": {
    "execution": {
     "iopub.execute_input": "2023-01-30T09:23:24.163130Z",
     "iopub.status.busy": "2023-01-30T09:23:24.162642Z",
     "iopub.status.idle": "2023-01-30T09:23:24.175212Z",
     "shell.execute_reply": "2023-01-30T09:23:24.174271Z"
    },
    "papermill": {
     "duration": 0.035955,
     "end_time": "2023-01-30T09:23:24.178424",
     "exception": false,
     "start_time": "2023-01-30T09:23:24.142469",
     "status": "completed"
    },
    "tags": []
   },
   "outputs": [
    {
     "data": {
      "text/plain": [
       "5    2826\n",
       "4     316\n",
       "Name: cfips_len, dtype: int64"
      ]
     },
     "execution_count": 18,
     "metadata": {},
     "output_type": "execute_result"
    }
   ],
   "source": [
    "census_df[\"cfips_len\"] = census_df[\"cfips\"].apply(lambda x: len(str(x)))\n",
    "census_df[\"cfips_len\"].value_counts()"
   ]
  },
  {
   "cell_type": "markdown",
   "id": "54ff96e5",
   "metadata": {
    "papermill": {
     "duration": 0.018323,
     "end_time": "2023-01-30T09:23:24.215775",
     "exception": false,
     "start_time": "2023-01-30T09:23:24.197452",
     "status": "completed"
    },
    "tags": []
   },
   "source": [
    "Let's fix the malformed cfips also here."
   ]
  },
  {
   "cell_type": "code",
   "execution_count": 19,
   "id": "88f600c1",
   "metadata": {
    "execution": {
     "iopub.execute_input": "2023-01-30T09:23:24.257525Z",
     "iopub.status.busy": "2023-01-30T09:23:24.256801Z",
     "iopub.status.idle": "2023-01-30T09:23:24.267798Z",
     "shell.execute_reply": "2023-01-30T09:23:24.266153Z"
    },
    "papermill": {
     "duration": 0.03636,
     "end_time": "2023-01-30T09:23:24.271203",
     "exception": false,
     "start_time": "2023-01-30T09:23:24.234843",
     "status": "completed"
    },
    "tags": []
   },
   "outputs": [],
   "source": [
    "census_df[\"cfips\"] = census_df[\"cfips\"].apply(lambda x: str(x))\n",
    "census_df.loc[census_df.cfips_len==4, \"cfips\"] = \"0\" + census_df.loc[census_df.cfips_len==4, \"cfips\"]"
   ]
  },
  {
   "cell_type": "markdown",
   "id": "597f868b",
   "metadata": {
    "papermill": {
     "duration": 0.018889,
     "end_time": "2023-01-30T09:23:24.309745",
     "exception": false,
     "start_time": "2023-01-30T09:23:24.290856",
     "status": "completed"
    },
    "tags": []
   },
   "source": [
    "And let's check again now."
   ]
  },
  {
   "cell_type": "code",
   "execution_count": 20,
   "id": "b3894ca5",
   "metadata": {
    "execution": {
     "iopub.execute_input": "2023-01-30T09:23:24.350450Z",
     "iopub.status.busy": "2023-01-30T09:23:24.350010Z",
     "iopub.status.idle": "2023-01-30T09:23:24.362849Z",
     "shell.execute_reply": "2023-01-30T09:23:24.361549Z"
    },
    "papermill": {
     "duration": 0.036571,
     "end_time": "2023-01-30T09:23:24.365199",
     "exception": false,
     "start_time": "2023-01-30T09:23:24.328628",
     "status": "completed"
    },
    "tags": []
   },
   "outputs": [
    {
     "data": {
      "text/plain": [
       "5    3142\n",
       "Name: cfips_len, dtype: int64"
      ]
     },
     "execution_count": 20,
     "metadata": {},
     "output_type": "execute_result"
    }
   ],
   "source": [
    "census_df[\"cfips_len\"] = census_df[\"cfips\"].apply(lambda x: len(str(x)))\n",
    "census_df[\"cfips_len\"].value_counts()"
   ]
  },
  {
   "cell_type": "markdown",
   "id": "8188cf51",
   "metadata": {
    "papermill": {
     "duration": 0.019136,
     "end_time": "2023-01-30T09:23:24.402891",
     "exception": false,
     "start_time": "2023-01-30T09:23:24.383755",
     "status": "completed"
    },
    "tags": []
   },
   "source": [
    "# How is microbusiness density distributed in space?\n",
    "\n",
    "\n",
    "We select microbusiness density value in a certain time moment (from 2021) and represent its distribution on US county-level map."
   ]
  },
  {
   "cell_type": "code",
   "execution_count": 21,
   "id": "776cf316",
   "metadata": {
    "execution": {
     "iopub.execute_input": "2023-01-30T09:23:24.445532Z",
     "iopub.status.busy": "2023-01-30T09:23:24.444340Z",
     "iopub.status.idle": "2023-01-30T09:23:24.520420Z",
     "shell.execute_reply": "2023-01-30T09:23:24.518971Z"
    },
    "papermill": {
     "duration": 0.100387,
     "end_time": "2023-01-30T09:23:24.523431",
     "exception": false,
     "start_time": "2023-01-30T09:23:24.423044",
     "status": "completed"
    },
    "tags": []
   },
   "outputs": [],
   "source": [
    "train_df[\"microbusiness_density\"] = train_df[\"microbusiness_density\"].apply(lambda x: float(x))"
   ]
  },
  {
   "cell_type": "code",
   "execution_count": 22,
   "id": "25922bce",
   "metadata": {
    "execution": {
     "iopub.execute_input": "2023-01-30T09:23:24.566345Z",
     "iopub.status.busy": "2023-01-30T09:23:24.565527Z",
     "iopub.status.idle": "2023-01-30T09:23:46.044421Z",
     "shell.execute_reply": "2023-01-30T09:23:46.043045Z"
    },
    "papermill": {
     "duration": 21.556394,
     "end_time": "2023-01-30T09:23:46.100337",
     "exception": false,
     "start_time": "2023-01-30T09:23:24.543943",
     "status": "completed"
    },
    "tags": []
   },
   "outputs": [
    {
     "ename": "TypeError",
     "evalue": "'MultiPolygon' object is not iterable",
     "output_type": "error",
     "traceback": [
      "\u001b[0;31m---------------------------------------------------------------------------\u001b[0m",
      "\u001b[0;31mTypeError\u001b[0m                                 Traceback (most recent call last)",
      "Cell \u001b[0;32mIn[22], line 2\u001b[0m\n\u001b[1;32m      1\u001b[0m selected_data \u001b[39m=\u001b[39m train_df\u001b[39m.\u001b[39mloc[train_df\u001b[39m.\u001b[39mfirst_day_of_month\u001b[39m==\u001b[39m\u001b[39m\"\u001b[39m\u001b[39m2021-01-01\u001b[39m\u001b[39m\"\u001b[39m]\n\u001b[0;32m----> 2\u001b[0m fig \u001b[39m=\u001b[39m ff\u001b[39m.\u001b[39;49mcreate_choropleth(fips\u001b[39m=\u001b[39;49mselected_data\u001b[39m.\u001b[39;49mcfips, values\u001b[39m=\u001b[39;49mselected_data\u001b[39m.\u001b[39;49mmicrobusiness_density,\n\u001b[1;32m      3\u001b[0m                           title\u001b[39m=\u001b[39;49m\u001b[39m\"\u001b[39;49m\u001b[39mMicrobusiness density distribution (county level) for Jan 2021\u001b[39;49m\u001b[39m\"\u001b[39;49m)\n\u001b[1;32m      4\u001b[0m fig\u001b[39m.\u001b[39mlayout\u001b[39m.\u001b[39mtemplate \u001b[39m=\u001b[39m \u001b[39mNone\u001b[39;00m\n\u001b[1;32m      5\u001b[0m fig\u001b[39m.\u001b[39mshow()\n",
      "File \u001b[0;32m~/opt/anaconda3/envs/py39_PyTorch/lib/python3.9/site-packages/plotly/figure_factory/_county_choropleth.py:783\u001b[0m, in \u001b[0;36mcreate_choropleth\u001b[0;34m(fips, values, scope, binning_endpoints, colorscale, order, simplify_county, simplify_state, asp, show_hover, show_state_data, state_outline, county_outline, centroid_marker, round_legend_values, exponent_format, legend_title, **layout_options)\u001b[0m\n\u001b[1;32m    774\u001b[0m \u001b[39mtry\u001b[39;00m:\n\u001b[1;32m    775\u001b[0m     fips_polygon_map[f]\u001b[39m.\u001b[39mtype\n\u001b[1;32m    777\u001b[0m     (\n\u001b[1;32m    778\u001b[0m         x_traces,\n\u001b[1;32m    779\u001b[0m         y_traces,\n\u001b[1;32m    780\u001b[0m         x_centroids,\n\u001b[1;32m    781\u001b[0m         y_centroids,\n\u001b[1;32m    782\u001b[0m         centroid_text,\n\u001b[0;32m--> 783\u001b[0m     ) \u001b[39m=\u001b[39m _calculations(\n\u001b[1;32m    784\u001b[0m         df,\n\u001b[1;32m    785\u001b[0m         fips,\n\u001b[1;32m    786\u001b[0m         values,\n\u001b[1;32m    787\u001b[0m         index,\n\u001b[1;32m    788\u001b[0m         f,\n\u001b[1;32m    789\u001b[0m         simplify_county,\n\u001b[1;32m    790\u001b[0m         level,\n\u001b[1;32m    791\u001b[0m         x_centroids,\n\u001b[1;32m    792\u001b[0m         y_centroids,\n\u001b[1;32m    793\u001b[0m         centroid_text,\n\u001b[1;32m    794\u001b[0m         x_traces,\n\u001b[1;32m    795\u001b[0m         y_traces,\n\u001b[1;32m    796\u001b[0m         fips_polygon_map,\n\u001b[1;32m    797\u001b[0m     )\n\u001b[1;32m    798\u001b[0m \u001b[39mexcept\u001b[39;00m \u001b[39mKeyError\u001b[39;00m:\n\u001b[1;32m    799\u001b[0m     fips_not_in_shapefile\u001b[39m.\u001b[39mappend(f)\n",
      "File \u001b[0;32m~/opt/anaconda3/envs/py39_PyTorch/lib/python3.9/site-packages/plotly/figure_factory/_county_choropleth.py:359\u001b[0m, in \u001b[0;36m_calculations\u001b[0;34m(df, fips, values, index, f, simplify_county, level, x_centroids, y_centroids, centroid_text, x_traces, y_traces, fips_polygon_map)\u001b[0m\n\u001b[1;32m    357\u001b[0m     y_traces[level] \u001b[39m=\u001b[39m y_traces[level] \u001b[39m+\u001b[39m y \u001b[39m+\u001b[39m [np\u001b[39m.\u001b[39mnan]\n\u001b[1;32m    358\u001b[0m \u001b[39melif\u001b[39;00m fips_polygon_map[f]\u001b[39m.\u001b[39mtype \u001b[39m==\u001b[39m \u001b[39m\"\u001b[39m\u001b[39mMultiPolygon\u001b[39m\u001b[39m\"\u001b[39m:\n\u001b[0;32m--> 359\u001b[0m     x \u001b[39m=\u001b[39m [\n\u001b[1;32m    360\u001b[0m         poly\u001b[39m.\u001b[39msimplify(simplify_county)\u001b[39m.\u001b[39mexterior\u001b[39m.\u001b[39mxy[\u001b[39m0\u001b[39m]\u001b[39m.\u001b[39mtolist()\n\u001b[1;32m    361\u001b[0m         \u001b[39mfor\u001b[39;00m poly \u001b[39min\u001b[39;00m fips_polygon_map[f]\n\u001b[1;32m    362\u001b[0m     ]\n\u001b[1;32m    363\u001b[0m     y \u001b[39m=\u001b[39m [\n\u001b[1;32m    364\u001b[0m         poly\u001b[39m.\u001b[39msimplify(simplify_county)\u001b[39m.\u001b[39mexterior\u001b[39m.\u001b[39mxy[\u001b[39m1\u001b[39m]\u001b[39m.\u001b[39mtolist()\n\u001b[1;32m    365\u001b[0m         \u001b[39mfor\u001b[39;00m poly \u001b[39min\u001b[39;00m fips_polygon_map[f]\n\u001b[1;32m    366\u001b[0m     ]\n\u001b[1;32m    368\u001b[0m     x_c \u001b[39m=\u001b[39m [poly\u001b[39m.\u001b[39mcentroid\u001b[39m.\u001b[39mxy[\u001b[39m0\u001b[39m]\u001b[39m.\u001b[39mtolist() \u001b[39mfor\u001b[39;00m poly \u001b[39min\u001b[39;00m fips_polygon_map[f]]\n",
      "\u001b[0;31mTypeError\u001b[0m: 'MultiPolygon' object is not iterable"
     ]
    }
   ],
   "source": [
    "selected_data = train_df.loc[train_df.first_day_of_month==\"2021-01-01\"]\n",
    "fig = ff.create_choropleth(fips=selected_data.cfips, values=selected_data.microbusiness_density,\n",
    "                          title=\"Microbusiness density distribution (county level) for Jan 2021\")\n",
    "fig.layout.template = None\n",
    "fig.show()"
   ]
  },
  {
   "cell_type": "code",
   "execution_count": null,
   "id": "acab67ac",
   "metadata": {
    "execution": {
     "iopub.execute_input": "2023-01-30T09:23:46.224352Z",
     "iopub.status.busy": "2023-01-30T09:23:46.223932Z",
     "iopub.status.idle": "2023-01-30T09:24:07.399085Z",
     "shell.execute_reply": "2023-01-30T09:24:07.396476Z"
    },
    "papermill": {
     "duration": 21.288445,
     "end_time": "2023-01-30T09:24:07.449157",
     "exception": false,
     "start_time": "2023-01-30T09:23:46.160712",
     "status": "completed"
    },
    "tags": []
   },
   "outputs": [],
   "source": [
    "selected_data = train_df.loc[train_df.first_day_of_month==\"2021-03-01\"]\n",
    "fig = ff.create_choropleth(fips=selected_data.cfips, values=selected_data.microbusiness_density,\n",
    "                          title=\"Microbusiness density distribution (county level) for March 2021\")\n",
    "fig.layout.template = None\n",
    "fig.show()"
   ]
  },
  {
   "cell_type": "code",
   "execution_count": null,
   "id": "b47945ce",
   "metadata": {
    "execution": {
     "iopub.execute_input": "2023-01-30T09:24:07.650793Z",
     "iopub.status.busy": "2023-01-30T09:24:07.649430Z",
     "iopub.status.idle": "2023-01-30T09:24:28.635451Z",
     "shell.execute_reply": "2023-01-30T09:24:28.633455Z"
    },
    "papermill": {
     "duration": 21.128008,
     "end_time": "2023-01-30T09:24:28.678433",
     "exception": false,
     "start_time": "2023-01-30T09:24:07.550425",
     "status": "completed"
    },
    "tags": []
   },
   "outputs": [],
   "source": [
    "selected_data = train_df.loc[train_df.first_day_of_month==\"2021-05-01\"]\n",
    "fig = ff.create_choropleth(fips=selected_data.cfips, values=selected_data.microbusiness_density,\n",
    "                          title=\"Microbusiness density distribution (county level) for May 2021\")\n",
    "fig.layout.template = None\n",
    "fig.show()"
   ]
  },
  {
   "cell_type": "code",
   "execution_count": null,
   "id": "212621c2",
   "metadata": {
    "execution": {
     "iopub.execute_input": "2023-01-30T09:24:28.959792Z",
     "iopub.status.busy": "2023-01-30T09:24:28.959305Z",
     "iopub.status.idle": "2023-01-30T09:24:49.840035Z",
     "shell.execute_reply": "2023-01-30T09:24:49.838688Z"
    },
    "papermill": {
     "duration": 21.078931,
     "end_time": "2023-01-30T09:24:49.892730",
     "exception": false,
     "start_time": "2023-01-30T09:24:28.813799",
     "status": "completed"
    },
    "tags": []
   },
   "outputs": [],
   "source": [
    "selected_data = train_df.loc[train_df.first_day_of_month==\"2021-09-01\"]\n",
    "fig = ff.create_choropleth(fips=selected_data.cfips, values=selected_data.microbusiness_density,\n",
    "                          title=\"Microbusiness density distribution (county level) for Sept 2021\")\n",
    "fig.layout.template = None\n",
    "fig.show()"
   ]
  },
  {
   "cell_type": "code",
   "execution_count": null,
   "id": "5119ca3d",
   "metadata": {
    "execution": {
     "iopub.execute_input": "2023-01-30T09:24:50.272751Z",
     "iopub.status.busy": "2023-01-30T09:24:50.272292Z",
     "iopub.status.idle": "2023-01-30T09:25:11.295002Z",
     "shell.execute_reply": "2023-01-30T09:25:11.293522Z"
    },
    "papermill": {
     "duration": 21.250005,
     "end_time": "2023-01-30T09:25:11.347749",
     "exception": false,
     "start_time": "2023-01-30T09:24:50.097744",
     "status": "completed"
    },
    "tags": []
   },
   "outputs": [],
   "source": [
    "selected_data = train_df.loc[train_df.first_day_of_month==\"2021-12-01\"]\n",
    "fig = ff.create_choropleth(fips=selected_data.cfips, values=selected_data.microbusiness_density,\n",
    "                          title=\"Microbusiness density distribution (county level) for Dec 2021\")\n",
    "fig.layout.template = None\n",
    "fig.show()"
   ]
  },
  {
   "cell_type": "markdown",
   "id": "300a3787",
   "metadata": {
    "papermill": {
     "duration": 0.208827,
     "end_time": "2023-01-30T09:25:11.788244",
     "exception": false,
     "start_time": "2023-01-30T09:25:11.579417",
     "status": "completed"
    },
    "tags": []
   },
   "source": [
    "# And how census data for same period is distributed?"
   ]
  },
  {
   "cell_type": "markdown",
   "id": "d625d541",
   "metadata": {
    "papermill": {
     "duration": 0.24092,
     "end_time": "2023-01-30T09:25:12.273161",
     "exception": false,
     "start_time": "2023-01-30T09:25:12.032241",
     "status": "completed"
    },
    "tags": []
   },
   "source": [
    "Let's compare with the percentage of households in the county with access to broadband data distribution for the same year (2021) for which we shown microbusiness density maps. "
   ]
  },
  {
   "cell_type": "code",
   "execution_count": null,
   "id": "141fa689",
   "metadata": {
    "execution": {
     "iopub.execute_input": "2023-01-30T09:25:12.744679Z",
     "iopub.status.busy": "2023-01-30T09:25:12.744023Z",
     "iopub.status.idle": "2023-01-30T09:25:32.483906Z",
     "shell.execute_reply": "2023-01-30T09:25:32.482507Z"
    },
    "papermill": {
     "duration": 20.008252,
     "end_time": "2023-01-30T09:25:32.516749",
     "exception": false,
     "start_time": "2023-01-30T09:25:12.508497",
     "status": "completed"
    },
    "tags": []
   },
   "outputs": [],
   "source": [
    "fig = ff.create_choropleth(fips=census_df.cfips, values=census_df.pct_bb_2021,\n",
    "                          title=\"Percentage of households in the county with access to broadband (2021)\")\n",
    "fig.layout.template = None\n",
    "fig.show()"
   ]
  },
  {
   "cell_type": "markdown",
   "id": "8f82cc79",
   "metadata": {
    "papermill": {
     "duration": 0.243415,
     "end_time": "2023-01-30T09:25:33.024182",
     "exception": false,
     "start_time": "2023-01-30T09:25:32.780767",
     "status": "completed"
    },
    "tags": []
   },
   "source": [
    "Let's also compare with percent of IT workers from entire working force data distribution from census in the same year."
   ]
  },
  {
   "cell_type": "code",
   "execution_count": null,
   "id": "40811f0a",
   "metadata": {
    "execution": {
     "iopub.execute_input": "2023-01-30T09:25:33.561702Z",
     "iopub.status.busy": "2023-01-30T09:25:33.561239Z",
     "iopub.status.idle": "2023-01-30T09:25:53.602368Z",
     "shell.execute_reply": "2023-01-30T09:25:53.601430Z"
    },
    "papermill": {
     "duration": 20.336287,
     "end_time": "2023-01-30T09:25:53.631422",
     "exception": false,
     "start_time": "2023-01-30T09:25:33.295135",
     "status": "completed"
    },
    "tags": []
   },
   "outputs": [],
   "source": [
    "fig = ff.create_choropleth(fips=census_df.cfips, values=census_df.pct_it_workers_2021,\n",
    "                          title=\"Percentage of IT workers from entire working force (2021)\")\n",
    "fig.layout.template = None\n",
    "fig.show()"
   ]
  },
  {
   "cell_type": "markdown",
   "id": "caf221ab",
   "metadata": {
    "papermill": {
     "duration": 0.268969,
     "end_time": "2023-01-30T09:25:54.192048",
     "exception": false,
     "start_time": "2023-01-30T09:25:53.923079",
     "status": "completed"
    },
    "tags": []
   },
   "source": [
    "And also compare with the foreign born workers data distribution from census in the same year."
   ]
  },
  {
   "cell_type": "code",
   "execution_count": null,
   "id": "1db4bb61",
   "metadata": {
    "execution": {
     "iopub.execute_input": "2023-01-30T09:25:54.728747Z",
     "iopub.status.busy": "2023-01-30T09:25:54.727308Z",
     "iopub.status.idle": "2023-01-30T09:26:14.384406Z",
     "shell.execute_reply": "2023-01-30T09:26:14.383521Z"
    },
    "papermill": {
     "duration": 19.95336,
     "end_time": "2023-01-30T09:26:14.410788",
     "exception": false,
     "start_time": "2023-01-30T09:25:54.457428",
     "status": "completed"
    },
    "tags": []
   },
   "outputs": [],
   "source": [
    "fig = ff.create_choropleth(fips=census_df.cfips, values=census_df.pct_foreign_born_2021,\n",
    "                          title=\"Percentage of foreign born workers (2021)\")\n",
    "fig.layout.template = None\n",
    "fig.show()"
   ]
  },
  {
   "cell_type": "markdown",
   "id": "2c142286",
   "metadata": {
    "papermill": {
     "duration": 0.295331,
     "end_time": "2023-01-30T09:26:15.014953",
     "exception": false,
     "start_time": "2023-01-30T09:26:14.719622",
     "status": "completed"
    },
    "tags": []
   },
   "source": [
    "We observe a clear distribution of foreign born people in few areas: California, Texas, Washington state, Florida and New York.\n",
    "\n",
    "\n",
    "Let's also look to percent of the population in the county over age 25 with a 4-year college degree for the same year."
   ]
  },
  {
   "cell_type": "code",
   "execution_count": null,
   "id": "20aa8e92",
   "metadata": {
    "execution": {
     "iopub.execute_input": "2023-01-30T09:26:15.616977Z",
     "iopub.status.busy": "2023-01-30T09:26:15.615888Z",
     "iopub.status.idle": "2023-01-30T09:26:34.860876Z",
     "shell.execute_reply": "2023-01-30T09:26:34.859660Z"
    },
    "papermill": {
     "duration": 19.574861,
     "end_time": "2023-01-30T09:26:34.890259",
     "exception": false,
     "start_time": "2023-01-30T09:26:15.315398",
     "status": "completed"
    },
    "tags": []
   },
   "outputs": [],
   "source": [
    "fig = ff.create_choropleth(fips=census_df.cfips, values=census_df.pct_college_2021,\n",
    "                          title=\"Percent of population in the county over age 25 with a 4-year college degree (2021)\")\n",
    "fig.layout.template = None\n",
    "fig.show()"
   ]
  },
  {
   "cell_type": "markdown",
   "id": "9baaf92b",
   "metadata": {
    "papermill": {
     "duration": 0.333806,
     "end_time": "2023-01-30T09:26:35.565975",
     "exception": false,
     "start_time": "2023-01-30T09:26:35.232169",
     "status": "completed"
    },
    "tags": []
   },
   "source": [
    "We also look to the median household income data for 2021."
   ]
  },
  {
   "cell_type": "code",
   "execution_count": null,
   "id": "7857d3bc",
   "metadata": {
    "execution": {
     "iopub.execute_input": "2023-01-30T09:26:36.223666Z",
     "iopub.status.busy": "2023-01-30T09:26:36.223264Z",
     "iopub.status.idle": "2023-01-30T09:26:56.687708Z",
     "shell.execute_reply": "2023-01-30T09:26:56.686358Z"
    },
    "papermill": {
     "duration": 20.838456,
     "end_time": "2023-01-30T09:26:56.732259",
     "exception": false,
     "start_time": "2023-01-30T09:26:35.893803",
     "status": "completed"
    },
    "tags": []
   },
   "outputs": [],
   "source": [
    "fig = ff.create_choropleth(fips=census_df.cfips, values=census_df.median_hh_inc_2021,\n",
    "                          title=\"Median household main income (2021)\")\n",
    "fig.layout.template = None\n",
    "fig.show()"
   ]
  },
  {
   "cell_type": "markdown",
   "id": "e4aefc1f",
   "metadata": {
    "papermill": {
     "duration": 0.378023,
     "end_time": "2023-01-30T09:26:57.490487",
     "exception": false,
     "start_time": "2023-01-30T09:26:57.112464",
     "status": "completed"
    },
    "tags": []
   },
   "source": [
    "# How is microbusiness density distributed in time?\n",
    "\n",
    "Let's now visualise the microbusiness density distribution for FIPS (country-level) for the entire time period in train data.\n",
    "\n",
    "We will group the counties per state and represent the data variation for few of the states."
   ]
  },
  {
   "cell_type": "code",
   "execution_count": null,
   "id": "54ba8a90",
   "metadata": {
    "execution": {
     "iopub.execute_input": "2023-01-30T09:26:58.238290Z",
     "iopub.status.busy": "2023-01-30T09:26:58.237481Z",
     "iopub.status.idle": "2023-01-30T09:26:59.310996Z",
     "shell.execute_reply": "2023-01-30T09:26:59.309873Z"
    },
    "papermill": {
     "duration": 1.449209,
     "end_time": "2023-01-30T09:26:59.313713",
     "exception": false,
     "start_time": "2023-01-30T09:26:57.864504",
     "status": "completed"
    },
    "tags": []
   },
   "outputs": [],
   "source": [
    "train_mbd = train_df.loc[train_df.state=='Hawaii']\n",
    "fig = px.line(train_mbd, x=\"first_day_of_month\", y=\"microbusiness_density\", \n",
    "              color='county', title=\"Microbusiness density time variation for Hawaii counties\")\n",
    "fig.show()"
   ]
  },
  {
   "cell_type": "code",
   "execution_count": null,
   "id": "6d4d5051",
   "metadata": {
    "execution": {
     "iopub.execute_input": "2023-01-30T09:27:00.060028Z",
     "iopub.status.busy": "2023-01-30T09:27:00.059588Z",
     "iopub.status.idle": "2023-01-30T09:27:00.125611Z",
     "shell.execute_reply": "2023-01-30T09:27:00.124458Z"
    },
    "papermill": {
     "duration": 0.437173,
     "end_time": "2023-01-30T09:27:00.128400",
     "exception": false,
     "start_time": "2023-01-30T09:26:59.691227",
     "status": "completed"
    },
    "tags": []
   },
   "outputs": [],
   "source": [
    "train_mbd = train_df.loc[train_df.state=='District of Columbia']\n",
    "fig = px.line(train_mbd, x=\"first_day_of_month\", y=\"microbusiness_density\", \n",
    "              color='county', title=\"Microbusiness density time variation for District of Columbia county\")\n",
    "fig.show()"
   ]
  },
  {
   "cell_type": "code",
   "execution_count": null,
   "id": "962a9667",
   "metadata": {
    "execution": {
     "iopub.execute_input": "2023-01-30T09:27:00.874534Z",
     "iopub.status.busy": "2023-01-30T09:27:00.873696Z",
     "iopub.status.idle": "2023-01-30T09:27:01.009759Z",
     "shell.execute_reply": "2023-01-30T09:27:01.008542Z"
    },
    "papermill": {
     "duration": 0.5081,
     "end_time": "2023-01-30T09:27:01.012933",
     "exception": false,
     "start_time": "2023-01-30T09:27:00.504833",
     "status": "completed"
    },
    "tags": []
   },
   "outputs": [],
   "source": [
    "train_mbd = train_df.loc[train_df.state=='Nevada']\n",
    "fig = px.line(train_mbd, x=\"first_day_of_month\", y=\"microbusiness_density\", \n",
    "              color='county', title=\"Microbusiness density time variation for Nevada counties\")\n",
    "fig.show()"
   ]
  },
  {
   "cell_type": "markdown",
   "id": "35efbd1b",
   "metadata": {
    "papermill": {
     "duration": 0.372823,
     "end_time": "2023-01-30T09:27:01.758639",
     "exception": false,
     "start_time": "2023-01-30T09:27:01.385816",
     "status": "completed"
    },
    "tags": []
   },
   "source": [
    "We will need to check what happens with Carson City and Lincoln County starting from Jan 2021."
   ]
  },
  {
   "cell_type": "code",
   "execution_count": null,
   "id": "48721dec",
   "metadata": {
    "execution": {
     "iopub.execute_input": "2023-01-30T09:27:02.557238Z",
     "iopub.status.busy": "2023-01-30T09:27:02.556383Z",
     "iopub.status.idle": "2023-01-30T09:27:02.639886Z",
     "shell.execute_reply": "2023-01-30T09:27:02.638684Z"
    },
    "papermill": {
     "duration": 0.464319,
     "end_time": "2023-01-30T09:27:02.642520",
     "exception": false,
     "start_time": "2023-01-30T09:27:02.178201",
     "status": "completed"
    },
    "tags": []
   },
   "outputs": [],
   "source": [
    "train_mbd = train_df.loc[train_df.state=='Delaware']\n",
    "fig = px.line(train_mbd, x=\"first_day_of_month\", y=\"microbusiness_density\", \n",
    "              color='county', title=\"Microbusiness density time variation for Delaware counties\")\n",
    "fig.show()"
   ]
  },
  {
   "cell_type": "code",
   "execution_count": null,
   "id": "5f9bcdac",
   "metadata": {
    "execution": {
     "iopub.execute_input": "2023-01-30T09:27:03.408508Z",
     "iopub.status.busy": "2023-01-30T09:27:03.407680Z",
     "iopub.status.idle": "2023-01-30T09:27:03.719206Z",
     "shell.execute_reply": "2023-01-30T09:27:03.718076Z"
    },
    "papermill": {
     "duration": 0.703856,
     "end_time": "2023-01-30T09:27:03.722798",
     "exception": false,
     "start_time": "2023-01-30T09:27:03.018942",
     "status": "completed"
    },
    "tags": []
   },
   "outputs": [],
   "source": [
    "train_mbd = train_df.loc[train_df.state=='California']\n",
    "fig = px.line(train_mbd, x=\"first_day_of_month\", y=\"microbusiness_density\", \n",
    "              color='county', title=\"Microbusiness density time variation for California counties\")\n",
    "fig.show()"
   ]
  },
  {
   "cell_type": "code",
   "execution_count": null,
   "id": "5cfedc8b",
   "metadata": {
    "execution": {
     "iopub.execute_input": "2023-01-30T09:27:04.473125Z",
     "iopub.status.busy": "2023-01-30T09:27:04.472233Z",
     "iopub.status.idle": "2023-01-30T09:27:04.781322Z",
     "shell.execute_reply": "2023-01-30T09:27:04.780156Z"
    },
    "papermill": {
     "duration": 0.685562,
     "end_time": "2023-01-30T09:27:04.785424",
     "exception": false,
     "start_time": "2023-01-30T09:27:04.099862",
     "status": "completed"
    },
    "tags": []
   },
   "outputs": [],
   "source": [
    "train_mbd = train_df.loc[train_df.state=='New York']\n",
    "fig = px.line(train_mbd, x=\"first_day_of_month\", y=\"microbusiness_density\", \n",
    "              color='county', title=\"Microbusiness density time variation for New York counties\")\n",
    "fig.show()"
   ]
  },
  {
   "cell_type": "code",
   "execution_count": null,
   "id": "44833466",
   "metadata": {
    "execution": {
     "iopub.execute_input": "2023-01-30T09:27:05.529810Z",
     "iopub.status.busy": "2023-01-30T09:27:05.528956Z",
     "iopub.status.idle": "2023-01-30T09:27:06.578916Z",
     "shell.execute_reply": "2023-01-30T09:27:06.577821Z"
    },
    "papermill": {
     "duration": 1.431109,
     "end_time": "2023-01-30T09:27:06.588370",
     "exception": false,
     "start_time": "2023-01-30T09:27:05.157261",
     "status": "completed"
    },
    "tags": []
   },
   "outputs": [],
   "source": [
    "train_mbd = train_df.loc[train_df.state=='Texas']\n",
    "fig = px.line(train_mbd, x=\"first_day_of_month\", y=\"microbusiness_density\", \n",
    "              color='county', title=\"Microbusiness density time variation for Texas counties\")\n",
    "fig.show()"
   ]
  },
  {
   "cell_type": "code",
   "execution_count": null,
   "id": "7a5f450d",
   "metadata": {
    "execution": {
     "iopub.execute_input": "2023-01-30T09:27:07.385268Z",
     "iopub.status.busy": "2023-01-30T09:27:07.384471Z",
     "iopub.status.idle": "2023-01-30T09:27:07.622635Z",
     "shell.execute_reply": "2023-01-30T09:27:07.621397Z"
    },
    "papermill": {
     "duration": 0.648322,
     "end_time": "2023-01-30T09:27:07.625461",
     "exception": false,
     "start_time": "2023-01-30T09:27:06.977139",
     "status": "completed"
    },
    "tags": []
   },
   "outputs": [],
   "source": [
    "train_mbd = train_df.loc[train_df.state=='Washington']\n",
    "fig = px.line(train_mbd, x=\"first_day_of_month\", y=\"microbusiness_density\", \n",
    "              color='county', title=\"Microbusiness density time variation for Washington counties\")\n",
    "fig.show()"
   ]
  }
 ],
 "metadata": {
  "kernelspec": {
   "display_name": "py39_PyTorch",
   "language": "python",
   "name": "python3"
  },
  "language_info": {
   "codemirror_mode": {
    "name": "ipython",
    "version": 3
   },
   "file_extension": ".py",
   "mimetype": "text/x-python",
   "name": "python",
   "nbconvert_exporter": "python",
   "pygments_lexer": "ipython3",
   "version": "3.9.12"
  },
  "papermill": {
   "default_parameters": {},
   "duration": 269.468333,
   "end_time": "2023-01-30T09:27:09.135690",
   "environment_variables": {},
   "exception": null,
   "input_path": "__notebook__.ipynb",
   "output_path": "__notebook__.ipynb",
   "parameters": {},
   "start_time": "2023-01-30T09:22:39.667357",
   "version": "2.3.4"
  },
  "vscode": {
   "interpreter": {
    "hash": "29b39120620d43f9549e7927c7592b76762b5f59c38d441fd435dbab21330a12"
   }
  }
 },
 "nbformat": 4,
 "nbformat_minor": 5
}
