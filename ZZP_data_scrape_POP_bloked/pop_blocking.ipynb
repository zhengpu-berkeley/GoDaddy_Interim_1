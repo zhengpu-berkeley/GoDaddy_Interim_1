{
 "cells": [
  {
   "cell_type": "code",
   "execution_count": 1,
   "metadata": {},
   "outputs": [],
   "source": [
    "import pandas as pd\n",
    "import numpy as np\n",
    "import matplotlib.pyplot as plt\n",
    "\n",
    "import pickle\n",
    "import json"
   ]
  },
  {
   "cell_type": "code",
   "execution_count": 3,
   "metadata": {},
   "outputs": [
    {
     "data": {
      "text/html": [
       "<div>\n",
       "<style scoped>\n",
       "    .dataframe tbody tr th:only-of-type {\n",
       "        vertical-align: middle;\n",
       "    }\n",
       "\n",
       "    .dataframe tbody tr th {\n",
       "        vertical-align: top;\n",
       "    }\n",
       "\n",
       "    .dataframe thead th {\n",
       "        text-align: right;\n",
       "    }\n",
       "</style>\n",
       "<table border=\"1\" class=\"dataframe\">\n",
       "  <thead>\n",
       "    <tr style=\"text-align: right;\">\n",
       "      <th></th>\n",
       "      <th>cfips</th>\n",
       "      <th>pop_2010</th>\n",
       "      <th>pop_2015</th>\n",
       "      <th>pop_2020</th>\n",
       "      <th>pop_5yr_pct_chg</th>\n",
       "      <th>pop_10yr_pct_chg</th>\n",
       "    </tr>\n",
       "  </thead>\n",
       "  <tbody>\n",
       "    <tr>\n",
       "      <th>0</th>\n",
       "      <td>01001</td>\n",
       "      <td>54761.0</td>\n",
       "      <td>54903.0</td>\n",
       "      <td>56145.0</td>\n",
       "      <td>2.262171</td>\n",
       "      <td>2.527346</td>\n",
       "    </tr>\n",
       "    <tr>\n",
       "      <th>1</th>\n",
       "      <td>01003</td>\n",
       "      <td>183121.0</td>\n",
       "      <td>203101.0</td>\n",
       "      <td>229287.0</td>\n",
       "      <td>12.893093</td>\n",
       "      <td>25.210653</td>\n",
       "    </tr>\n",
       "    <tr>\n",
       "      <th>2</th>\n",
       "      <td>01005</td>\n",
       "      <td>27325.0</td>\n",
       "      <td>26300.0</td>\n",
       "      <td>24589.0</td>\n",
       "      <td>-6.505703</td>\n",
       "      <td>-10.012809</td>\n",
       "    </tr>\n",
       "    <tr>\n",
       "      <th>3</th>\n",
       "      <td>01007</td>\n",
       "      <td>22858.0</td>\n",
       "      <td>22553.0</td>\n",
       "      <td>22136.0</td>\n",
       "      <td>-1.848978</td>\n",
       "      <td>-3.158632</td>\n",
       "    </tr>\n",
       "    <tr>\n",
       "      <th>4</th>\n",
       "      <td>01009</td>\n",
       "      <td>57372.0</td>\n",
       "      <td>57535.0</td>\n",
       "      <td>57879.0</td>\n",
       "      <td>0.597897</td>\n",
       "      <td>0.883706</td>\n",
       "    </tr>\n",
       "  </tbody>\n",
       "</table>\n",
       "</div>"
      ],
      "text/plain": [
       "   cfips  pop_2010  pop_2015  pop_2020  pop_5yr_pct_chg  pop_10yr_pct_chg\n",
       "0  01001   54761.0   54903.0   56145.0         2.262171          2.527346\n",
       "1  01003  183121.0  203101.0  229287.0        12.893093         25.210653\n",
       "2  01005   27325.0   26300.0   24589.0        -6.505703        -10.012809\n",
       "3  01007   22858.0   22553.0   22136.0        -1.848978         -3.158632\n",
       "4  01009   57372.0   57535.0   57879.0         0.597897          0.883706"
      ]
     },
     "execution_count": 3,
     "metadata": {},
     "output_type": "execute_result"
    }
   ],
   "source": [
    "dtypes = {'cfips': str}\n",
    "\n",
    "data = pd.read_csv('pop_and_5_10_yr_change.csv', dtype=dtypes)\n",
    "data.head()"
   ]
  },
  {
   "cell_type": "code",
   "execution_count": 5,
   "metadata": {},
   "outputs": [
    {
     "data": {
      "text/plain": [
       "cfips               0\n",
       "pop_2010            1\n",
       "pop_2015            1\n",
       "pop_2020            1\n",
       "pop_5yr_pct_chg     1\n",
       "pop_10yr_pct_chg    1\n",
       "dtype: int64"
      ]
     },
     "execution_count": 5,
     "metadata": {},
     "output_type": "execute_result"
    }
   ],
   "source": [
    "# check if there are any null values\n",
    "data.isnull().sum()"
   ]
  },
  {
   "cell_type": "code",
   "execution_count": 6,
   "metadata": {},
   "outputs": [
    {
     "data": {
      "text/html": [
       "<div>\n",
       "<style scoped>\n",
       "    .dataframe tbody tr th:only-of-type {\n",
       "        vertical-align: middle;\n",
       "    }\n",
       "\n",
       "    .dataframe tbody tr th {\n",
       "        vertical-align: top;\n",
       "    }\n",
       "\n",
       "    .dataframe thead th {\n",
       "        text-align: right;\n",
       "    }\n",
       "</style>\n",
       "<table border=\"1\" class=\"dataframe\">\n",
       "  <thead>\n",
       "    <tr style=\"text-align: right;\">\n",
       "      <th></th>\n",
       "      <th>cfips</th>\n",
       "      <th>pop_2010</th>\n",
       "      <th>pop_2015</th>\n",
       "      <th>pop_2020</th>\n",
       "      <th>pop_5yr_pct_chg</th>\n",
       "      <th>pop_10yr_pct_chg</th>\n",
       "    </tr>\n",
       "  </thead>\n",
       "  <tbody>\n",
       "    <tr>\n",
       "      <th>92</th>\n",
       "      <td>02261</td>\n",
       "      <td>NaN</td>\n",
       "      <td>NaN</td>\n",
       "      <td>NaN</td>\n",
       "      <td>NaN</td>\n",
       "      <td>NaN</td>\n",
       "    </tr>\n",
       "  </tbody>\n",
       "</table>\n",
       "</div>"
      ],
      "text/plain": [
       "    cfips  pop_2010  pop_2015  pop_2020  pop_5yr_pct_chg  pop_10yr_pct_chg\n",
       "92  02261       NaN       NaN       NaN              NaN               NaN"
      ]
     },
     "execution_count": 6,
     "metadata": {},
     "output_type": "execute_result"
    }
   ],
   "source": [
    "# show where the null values are\n",
    "data[data.isnull().sum(axis=1) > 0]"
   ]
  },
  {
   "attachments": {},
   "cell_type": "markdown",
   "metadata": {},
   "source": [
    "### Found data on Google"
   ]
  },
  {
   "cell_type": "code",
   "execution_count": 10,
   "metadata": {},
   "outputs": [
    {
     "data": {
      "text/plain": [
       "cfips                  02261\n",
       "pop_2010              9596.0\n",
       "pop_2015              9617.0\n",
       "pop_2020              9243.0\n",
       "pop_5yr_pct_chg     0.002188\n",
       "pop_10yr_pct_chg   -0.036786\n",
       "Name: 92, dtype: object"
      ]
     },
     "execution_count": 10,
     "metadata": {},
     "output_type": "execute_result"
    }
   ],
   "source": [
    "# impute the row with my own values\n",
    "data.loc[92, 'pop_2010'] = 9596\n",
    "data.loc[92, 'pop_2015'] = 9617\n",
    "data.loc[92, 'pop_2020'] = 9243\n",
    "data.loc[92, 'pop_5yr_pct_chg'] = (9617-9596)/9596\n",
    "data.loc[92, 'pop_10yr_pct_chg'] = (9243-9596)/9596\n",
    "\n",
    "# show the row 92\n",
    "data.loc[92]"
   ]
  },
  {
   "cell_type": "code",
   "execution_count": 11,
   "metadata": {},
   "outputs": [
    {
     "data": {
      "text/html": [
       "<div>\n",
       "<style scoped>\n",
       "    .dataframe tbody tr th:only-of-type {\n",
       "        vertical-align: middle;\n",
       "    }\n",
       "\n",
       "    .dataframe tbody tr th {\n",
       "        vertical-align: top;\n",
       "    }\n",
       "\n",
       "    .dataframe thead th {\n",
       "        text-align: right;\n",
       "    }\n",
       "</style>\n",
       "<table border=\"1\" class=\"dataframe\">\n",
       "  <thead>\n",
       "    <tr style=\"text-align: right;\">\n",
       "      <th></th>\n",
       "      <th>cfips</th>\n",
       "      <th>pop_2010</th>\n",
       "      <th>pop_2015</th>\n",
       "      <th>pop_2020</th>\n",
       "      <th>pop_5yr_pct_chg</th>\n",
       "      <th>pop_10yr_pct_chg</th>\n",
       "    </tr>\n",
       "  </thead>\n",
       "  <tbody>\n",
       "  </tbody>\n",
       "</table>\n",
       "</div>"
      ],
      "text/plain": [
       "Empty DataFrame\n",
       "Columns: [cfips, pop_2010, pop_2015, pop_2020, pop_5yr_pct_chg, pop_10yr_pct_chg]\n",
       "Index: []"
      ]
     },
     "execution_count": 11,
     "metadata": {},
     "output_type": "execute_result"
    }
   ],
   "source": [
    "# show where the null values are\n",
    "data[data.isnull().sum(axis=1) > 0]"
   ]
  },
  {
   "cell_type": "code",
   "execution_count": 12,
   "metadata": {},
   "outputs": [
    {
     "data": {
      "text/plain": [
       "(3142, 5)"
      ]
     },
     "execution_count": 12,
     "metadata": {},
     "output_type": "execute_result"
    }
   ],
   "source": [
    "# extract data (non cfips column) into numpy array\n",
    "data_np = data.iloc[:, 1:].to_numpy()\n",
    "data_np.shape"
   ]
  },
  {
   "cell_type": "code",
   "execution_count": 13,
   "metadata": {},
   "outputs": [
    {
     "data": {
      "text/plain": [
       "(47, 3142, 5)"
      ]
     },
     "execution_count": 13,
     "metadata": {},
     "output_type": "execute_result"
    }
   ],
   "source": [
    "# repeat the data_np array 47 times \n",
    "# into shape (47, 5, 3142) \n",
    "\n",
    "data_np = np.repeat(data_np[np.newaxis, :, :], 47, axis=0)\n",
    "data_np.shape"
   ]
  },
  {
   "cell_type": "code",
   "execution_count": 14,
   "metadata": {},
   "outputs": [
    {
     "data": {
      "text/plain": [
       "(47, 5, 3142)"
      ]
     },
     "execution_count": 14,
     "metadata": {},
     "output_type": "execute_result"
    }
   ],
   "source": [
    "# swap the axis so that the shape is (3142, 5, 47)\n",
    "data_np = np.swapaxes(data_np, 1, 2)\n",
    "data_np.shape"
   ]
  },
  {
   "cell_type": "code",
   "execution_count": 19,
   "metadata": {},
   "outputs": [
    {
     "data": {
      "text/plain": [
       "array([5.47610000e+04, 5.49030000e+04, 5.61450000e+04, 2.26217147e+00,\n",
       "       2.52734610e+00])"
      ]
     },
     "execution_count": 19,
     "metadata": {},
     "output_type": "execute_result"
    }
   ],
   "source": [
    "# check if slice match up with the original data\n",
    "data_np[0, :, 0]"
   ]
  },
  {
   "cell_type": "code",
   "execution_count": 20,
   "metadata": {},
   "outputs": [
    {
     "data": {
      "text/plain": [
       "array([1.83121000e+05, 2.03101000e+05, 2.29287000e+05, 1.28930926e+01,\n",
       "       2.52106531e+01])"
      ]
     },
     "execution_count": 20,
     "metadata": {},
     "output_type": "execute_result"
    }
   ],
   "source": [
    "data_np[0, :, 1]"
   ]
  },
  {
   "cell_type": "code",
   "execution_count": 21,
   "metadata": {},
   "outputs": [
    {
     "data": {
      "text/plain": [
       "array([[1.83121000e+05, 2.03101000e+05, 2.29287000e+05, 1.28930926e+01,\n",
       "        2.52106531e+01],\n",
       "       [1.83121000e+05, 2.03101000e+05, 2.29287000e+05, 1.28930926e+01,\n",
       "        2.52106531e+01],\n",
       "       [1.83121000e+05, 2.03101000e+05, 2.29287000e+05, 1.28930926e+01,\n",
       "        2.52106531e+01],\n",
       "       [1.83121000e+05, 2.03101000e+05, 2.29287000e+05, 1.28930926e+01,\n",
       "        2.52106531e+01],\n",
       "       [1.83121000e+05, 2.03101000e+05, 2.29287000e+05, 1.28930926e+01,\n",
       "        2.52106531e+01]])"
      ]
     },
     "execution_count": 21,
     "metadata": {},
     "output_type": "execute_result"
    }
   ],
   "source": [
    "data_np[0:5, :, 1]"
   ]
  },
  {
   "cell_type": "code",
   "execution_count": 18,
   "metadata": {},
   "outputs": [
    {
     "data": {
      "text/html": [
       "<div>\n",
       "<style scoped>\n",
       "    .dataframe tbody tr th:only-of-type {\n",
       "        vertical-align: middle;\n",
       "    }\n",
       "\n",
       "    .dataframe tbody tr th {\n",
       "        vertical-align: top;\n",
       "    }\n",
       "\n",
       "    .dataframe thead th {\n",
       "        text-align: right;\n",
       "    }\n",
       "</style>\n",
       "<table border=\"1\" class=\"dataframe\">\n",
       "  <thead>\n",
       "    <tr style=\"text-align: right;\">\n",
       "      <th></th>\n",
       "      <th>cfips</th>\n",
       "      <th>pop_2010</th>\n",
       "      <th>pop_2015</th>\n",
       "      <th>pop_2020</th>\n",
       "      <th>pop_5yr_pct_chg</th>\n",
       "      <th>pop_10yr_pct_chg</th>\n",
       "    </tr>\n",
       "  </thead>\n",
       "  <tbody>\n",
       "    <tr>\n",
       "      <th>0</th>\n",
       "      <td>01001</td>\n",
       "      <td>54761.0</td>\n",
       "      <td>54903.0</td>\n",
       "      <td>56145.0</td>\n",
       "      <td>2.262171</td>\n",
       "      <td>2.527346</td>\n",
       "    </tr>\n",
       "    <tr>\n",
       "      <th>1</th>\n",
       "      <td>01003</td>\n",
       "      <td>183121.0</td>\n",
       "      <td>203101.0</td>\n",
       "      <td>229287.0</td>\n",
       "      <td>12.893093</td>\n",
       "      <td>25.210653</td>\n",
       "    </tr>\n",
       "    <tr>\n",
       "      <th>2</th>\n",
       "      <td>01005</td>\n",
       "      <td>27325.0</td>\n",
       "      <td>26300.0</td>\n",
       "      <td>24589.0</td>\n",
       "      <td>-6.505703</td>\n",
       "      <td>-10.012809</td>\n",
       "    </tr>\n",
       "    <tr>\n",
       "      <th>3</th>\n",
       "      <td>01007</td>\n",
       "      <td>22858.0</td>\n",
       "      <td>22553.0</td>\n",
       "      <td>22136.0</td>\n",
       "      <td>-1.848978</td>\n",
       "      <td>-3.158632</td>\n",
       "    </tr>\n",
       "    <tr>\n",
       "      <th>4</th>\n",
       "      <td>01009</td>\n",
       "      <td>57372.0</td>\n",
       "      <td>57535.0</td>\n",
       "      <td>57879.0</td>\n",
       "      <td>0.597897</td>\n",
       "      <td>0.883706</td>\n",
       "    </tr>\n",
       "  </tbody>\n",
       "</table>\n",
       "</div>"
      ],
      "text/plain": [
       "   cfips  pop_2010  pop_2015  pop_2020  pop_5yr_pct_chg  pop_10yr_pct_chg\n",
       "0  01001   54761.0   54903.0   56145.0         2.262171          2.527346\n",
       "1  01003  183121.0  203101.0  229287.0        12.893093         25.210653\n",
       "2  01005   27325.0   26300.0   24589.0        -6.505703        -10.012809\n",
       "3  01007   22858.0   22553.0   22136.0        -1.848978         -3.158632\n",
       "4  01009   57372.0   57535.0   57879.0         0.597897          0.883706"
      ]
     },
     "execution_count": 18,
     "metadata": {},
     "output_type": "execute_result"
    }
   ],
   "source": [
    "data.head()"
   ]
  },
  {
   "cell_type": "code",
   "execution_count": 22,
   "metadata": {},
   "outputs": [],
   "source": [
    "data_name = 'pop_related'\n",
    "data_description = {'feature_0' : 'pop_2010',\n",
    "                    'feature_1' : 'pop_2015',   \n",
    "                    'feature_2' : 'pop_2020',\n",
    "                    'feature_3' : 'pop_5yr_pct_chg',\n",
    "                    'feature_4' : 'pop_10yr_pct_chg'}\n",
    "\n",
    "# save data in pickle format\n",
    "with open(f'BLOCKED_{data_name}_data.pkl', 'wb') as f:\n",
    "    pickle.dump(data_np, f)\n",
    "\n",
    "# save data in json format\n",
    "with open(f'BLOCKED_{data_name}_data_description.json', 'w') as f:\n",
    "    json.dump(data_description, f)"
   ]
  },
  {
   "cell_type": "code",
   "execution_count": null,
   "metadata": {},
   "outputs": [],
   "source": []
  }
 ],
 "metadata": {
  "kernelspec": {
   "display_name": "base",
   "language": "python",
   "name": "python3"
  },
  "language_info": {
   "codemirror_mode": {
    "name": "ipython",
    "version": 3
   },
   "file_extension": ".py",
   "mimetype": "text/x-python",
   "name": "python",
   "nbconvert_exporter": "python",
   "pygments_lexer": "ipython3",
   "version": "3.9.13"
  },
  "orig_nbformat": 4,
  "vscode": {
   "interpreter": {
    "hash": "b28cf175ec321772cb0f0d5814308bea2c301d2ca583d589ae1c20180bad7c90"
   }
  }
 },
 "nbformat": 4,
 "nbformat_minor": 2
}
