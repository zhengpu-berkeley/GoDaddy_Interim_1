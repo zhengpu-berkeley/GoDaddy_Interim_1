{
 "cells": [
  {
   "cell_type": "code",
   "execution_count": 1,
   "metadata": {},
   "outputs": [],
   "source": [
    "import pandas as pd"
   ]
  },
  {
   "cell_type": "code",
   "execution_count": 2,
   "metadata": {},
   "outputs": [
    {
     "data": {
      "text/html": [
       "<div>\n",
       "<style scoped>\n",
       "    .dataframe tbody tr th:only-of-type {\n",
       "        vertical-align: middle;\n",
       "    }\n",
       "\n",
       "    .dataframe tbody tr th {\n",
       "        vertical-align: top;\n",
       "    }\n",
       "\n",
       "    .dataframe thead th {\n",
       "        text-align: right;\n",
       "    }\n",
       "</style>\n",
       "<table border=\"1\" class=\"dataframe\">\n",
       "  <thead>\n",
       "    <tr style=\"text-align: right;\">\n",
       "      <th></th>\n",
       "      <th>cfips</th>\n",
       "      <th>pop_2010</th>\n",
       "      <th>pop_2015</th>\n",
       "      <th>pop_2020</th>\n",
       "    </tr>\n",
       "  </thead>\n",
       "  <tbody>\n",
       "    <tr>\n",
       "      <th>1</th>\n",
       "      <td>01001</td>\n",
       "      <td>54761</td>\n",
       "      <td>54903</td>\n",
       "      <td>56145</td>\n",
       "    </tr>\n",
       "    <tr>\n",
       "      <th>2</th>\n",
       "      <td>01003</td>\n",
       "      <td>183121</td>\n",
       "      <td>203101</td>\n",
       "      <td>229287</td>\n",
       "    </tr>\n",
       "    <tr>\n",
       "      <th>3</th>\n",
       "      <td>01005</td>\n",
       "      <td>27325</td>\n",
       "      <td>26300</td>\n",
       "      <td>24589</td>\n",
       "    </tr>\n",
       "    <tr>\n",
       "      <th>4</th>\n",
       "      <td>01007</td>\n",
       "      <td>22858</td>\n",
       "      <td>22553</td>\n",
       "      <td>22136</td>\n",
       "    </tr>\n",
       "    <tr>\n",
       "      <th>5</th>\n",
       "      <td>01009</td>\n",
       "      <td>57372</td>\n",
       "      <td>57535</td>\n",
       "      <td>57879</td>\n",
       "    </tr>\n",
       "  </tbody>\n",
       "</table>\n",
       "</div>"
      ],
      "text/plain": [
       "   cfips  pop_2010  pop_2015  pop_2020\n",
       "1  01001     54761     54903     56145\n",
       "2  01003    183121    203101    229287\n",
       "3  01005     27325     26300     24589\n",
       "4  01007     22858     22553     22136\n",
       "5  01009     57372     57535     57879"
      ]
     },
     "execution_count": 2,
     "metadata": {},
     "output_type": "execute_result"
    }
   ],
   "source": [
    "pop_df = pd.read_csv('STCTYEST2020.csv', encoding='latin-1', header=None)\n",
    "# we only want the some columns\n",
    "pop_df = pop_df[[3, 5, 10, 15]]\n",
    "# rename the columns\n",
    "pop_df.columns = ['cfips', 'pop_2010', 'pop_2015', 'pop_2020']\n",
    "# drop the first row\n",
    "pop_df = pop_df.drop(0)\n",
    "# convert the cfips to a string\n",
    "pop_df['cfips'] = pop_df['cfips'].astype(str)\n",
    "# add leading zeros to the cfips\n",
    "pop_df['cfips'] = pop_df['cfips'].str.zfill(5)\n",
    "# convert the population columns to integers\n",
    "pop_df['pop_2010'] = pop_df['pop_2010'].astype(int)\n",
    "pop_df['pop_2015'] = pop_df['pop_2015'].astype(int)\n",
    "pop_df['pop_2020'] = pop_df['pop_2020'].astype(int)\n",
    "pop_df.head()"
   ]
  },
  {
   "cell_type": "code",
   "execution_count": 3,
   "metadata": {},
   "outputs": [
    {
     "data": {
      "text/html": [
       "<div>\n",
       "<style scoped>\n",
       "    .dataframe tbody tr th:only-of-type {\n",
       "        vertical-align: middle;\n",
       "    }\n",
       "\n",
       "    .dataframe tbody tr th {\n",
       "        vertical-align: top;\n",
       "    }\n",
       "\n",
       "    .dataframe thead th {\n",
       "        text-align: right;\n",
       "    }\n",
       "</style>\n",
       "<table border=\"1\" class=\"dataframe\">\n",
       "  <thead>\n",
       "    <tr style=\"text-align: right;\">\n",
       "      <th></th>\n",
       "      <th>cfips</th>\n",
       "      <th>pop_2010</th>\n",
       "      <th>pop_2015</th>\n",
       "      <th>pop_2020</th>\n",
       "      <th>pop_5yr_pct_chg</th>\n",
       "      <th>pop_10yr_pct_chg</th>\n",
       "    </tr>\n",
       "  </thead>\n",
       "  <tbody>\n",
       "    <tr>\n",
       "      <th>1</th>\n",
       "      <td>01001</td>\n",
       "      <td>54761</td>\n",
       "      <td>54903</td>\n",
       "      <td>56145</td>\n",
       "      <td>2.262171</td>\n",
       "      <td>2.527346</td>\n",
       "    </tr>\n",
       "    <tr>\n",
       "      <th>2</th>\n",
       "      <td>01003</td>\n",
       "      <td>183121</td>\n",
       "      <td>203101</td>\n",
       "      <td>229287</td>\n",
       "      <td>12.893093</td>\n",
       "      <td>25.210653</td>\n",
       "    </tr>\n",
       "    <tr>\n",
       "      <th>3</th>\n",
       "      <td>01005</td>\n",
       "      <td>27325</td>\n",
       "      <td>26300</td>\n",
       "      <td>24589</td>\n",
       "      <td>-6.505703</td>\n",
       "      <td>-10.012809</td>\n",
       "    </tr>\n",
       "    <tr>\n",
       "      <th>4</th>\n",
       "      <td>01007</td>\n",
       "      <td>22858</td>\n",
       "      <td>22553</td>\n",
       "      <td>22136</td>\n",
       "      <td>-1.848978</td>\n",
       "      <td>-3.158632</td>\n",
       "    </tr>\n",
       "    <tr>\n",
       "      <th>5</th>\n",
       "      <td>01009</td>\n",
       "      <td>57372</td>\n",
       "      <td>57535</td>\n",
       "      <td>57879</td>\n",
       "      <td>0.597897</td>\n",
       "      <td>0.883706</td>\n",
       "    </tr>\n",
       "  </tbody>\n",
       "</table>\n",
       "</div>"
      ],
      "text/plain": [
       "   cfips  pop_2010  pop_2015  pop_2020  pop_5yr_pct_chg  pop_10yr_pct_chg\n",
       "1  01001     54761     54903     56145         2.262171          2.527346\n",
       "2  01003    183121    203101    229287        12.893093         25.210653\n",
       "3  01005     27325     26300     24589        -6.505703        -10.012809\n",
       "4  01007     22858     22553     22136        -1.848978         -3.158632\n",
       "5  01009     57372     57535     57879         0.597897          0.883706"
      ]
     },
     "execution_count": 3,
     "metadata": {},
     "output_type": "execute_result"
    }
   ],
   "source": [
    "pop_df['pop_5yr_pct_chg'] = 100 * (pop_df['pop_2020'] - pop_df['pop_2015']) / pop_df['pop_2015']\n",
    "pop_df['pop_10yr_pct_chg'] = 100 * (pop_df['pop_2020'] - pop_df['pop_2010']) / pop_df['pop_2010']\n",
    "pop_df.head()"
   ]
  },
  {
   "cell_type": "code",
   "execution_count": 6,
   "metadata": {},
   "outputs": [
    {
     "data": {
      "text/plain": [
       "3193"
      ]
     },
     "execution_count": 6,
     "metadata": {},
     "output_type": "execute_result"
    }
   ],
   "source": [
    "pop_df['cfips'].nunique()"
   ]
  },
  {
   "cell_type": "code",
   "execution_count": 4,
   "metadata": {},
   "outputs": [
    {
     "data": {
      "text/html": [
       "<div>\n",
       "<style scoped>\n",
       "    .dataframe tbody tr th:only-of-type {\n",
       "        vertical-align: middle;\n",
       "    }\n",
       "\n",
       "    .dataframe tbody tr th {\n",
       "        vertical-align: top;\n",
       "    }\n",
       "\n",
       "    .dataframe thead th {\n",
       "        text-align: right;\n",
       "    }\n",
       "</style>\n",
       "<table border=\"1\" class=\"dataframe\">\n",
       "  <thead>\n",
       "    <tr style=\"text-align: right;\">\n",
       "      <th></th>\n",
       "      <th>cfips</th>\n",
       "    </tr>\n",
       "  </thead>\n",
       "  <tbody>\n",
       "    <tr>\n",
       "      <th>0</th>\n",
       "      <td>01001</td>\n",
       "    </tr>\n",
       "    <tr>\n",
       "      <th>1</th>\n",
       "      <td>01003</td>\n",
       "    </tr>\n",
       "    <tr>\n",
       "      <th>2</th>\n",
       "      <td>01005</td>\n",
       "    </tr>\n",
       "    <tr>\n",
       "      <th>3</th>\n",
       "      <td>01007</td>\n",
       "    </tr>\n",
       "    <tr>\n",
       "      <th>4</th>\n",
       "      <td>01009</td>\n",
       "    </tr>\n",
       "  </tbody>\n",
       "</table>\n",
       "</div>"
      ],
      "text/plain": [
       "   cfips\n",
       "0  01001\n",
       "1  01003\n",
       "2  01005\n",
       "3  01007\n",
       "4  01009"
      ]
     },
     "execution_count": 4,
     "metadata": {},
     "output_type": "execute_result"
    }
   ],
   "source": [
    "# load the empty cfips dataframe\n",
    "dtypes = {'cfips': str}\n",
    "cfips_df = pd.read_csv('../DATA/cfips.csv', header=0, dtype=dtypes)\n",
    "cfips_df.head()"
   ]
  },
  {
   "cell_type": "code",
   "execution_count": 5,
   "metadata": {},
   "outputs": [
    {
     "data": {
      "text/plain": [
       "3142"
      ]
     },
     "execution_count": 5,
     "metadata": {},
     "output_type": "execute_result"
    }
   ],
   "source": [
    "cfips_df['cfips'].nunique()"
   ]
  },
  {
   "cell_type": "code",
   "execution_count": 7,
   "metadata": {},
   "outputs": [
    {
     "data": {
      "text/html": [
       "<div>\n",
       "<style scoped>\n",
       "    .dataframe tbody tr th:only-of-type {\n",
       "        vertical-align: middle;\n",
       "    }\n",
       "\n",
       "    .dataframe tbody tr th {\n",
       "        vertical-align: top;\n",
       "    }\n",
       "\n",
       "    .dataframe thead th {\n",
       "        text-align: right;\n",
       "    }\n",
       "</style>\n",
       "<table border=\"1\" class=\"dataframe\">\n",
       "  <thead>\n",
       "    <tr style=\"text-align: right;\">\n",
       "      <th></th>\n",
       "      <th>cfips</th>\n",
       "      <th>pop_2010</th>\n",
       "      <th>pop_2015</th>\n",
       "      <th>pop_2020</th>\n",
       "      <th>pop_5yr_pct_chg</th>\n",
       "      <th>pop_10yr_pct_chg</th>\n",
       "    </tr>\n",
       "  </thead>\n",
       "  <tbody>\n",
       "    <tr>\n",
       "      <th>0</th>\n",
       "      <td>01001</td>\n",
       "      <td>54761.0</td>\n",
       "      <td>54903.0</td>\n",
       "      <td>56145.0</td>\n",
       "      <td>2.262171</td>\n",
       "      <td>2.527346</td>\n",
       "    </tr>\n",
       "    <tr>\n",
       "      <th>1</th>\n",
       "      <td>01003</td>\n",
       "      <td>183121.0</td>\n",
       "      <td>203101.0</td>\n",
       "      <td>229287.0</td>\n",
       "      <td>12.893093</td>\n",
       "      <td>25.210653</td>\n",
       "    </tr>\n",
       "    <tr>\n",
       "      <th>2</th>\n",
       "      <td>01005</td>\n",
       "      <td>27325.0</td>\n",
       "      <td>26300.0</td>\n",
       "      <td>24589.0</td>\n",
       "      <td>-6.505703</td>\n",
       "      <td>-10.012809</td>\n",
       "    </tr>\n",
       "    <tr>\n",
       "      <th>3</th>\n",
       "      <td>01007</td>\n",
       "      <td>22858.0</td>\n",
       "      <td>22553.0</td>\n",
       "      <td>22136.0</td>\n",
       "      <td>-1.848978</td>\n",
       "      <td>-3.158632</td>\n",
       "    </tr>\n",
       "    <tr>\n",
       "      <th>4</th>\n",
       "      <td>01009</td>\n",
       "      <td>57372.0</td>\n",
       "      <td>57535.0</td>\n",
       "      <td>57879.0</td>\n",
       "      <td>0.597897</td>\n",
       "      <td>0.883706</td>\n",
       "    </tr>\n",
       "  </tbody>\n",
       "</table>\n",
       "</div>"
      ],
      "text/plain": [
       "   cfips  pop_2010  pop_2015  pop_2020  pop_5yr_pct_chg  pop_10yr_pct_chg\n",
       "0  01001   54761.0   54903.0   56145.0         2.262171          2.527346\n",
       "1  01003  183121.0  203101.0  229287.0        12.893093         25.210653\n",
       "2  01005   27325.0   26300.0   24589.0        -6.505703        -10.012809\n",
       "3  01007   22858.0   22553.0   22136.0        -1.848978         -3.158632\n",
       "4  01009   57372.0   57535.0   57879.0         0.597897          0.883706"
      ]
     },
     "execution_count": 7,
     "metadata": {},
     "output_type": "execute_result"
    }
   ],
   "source": [
    "# merge the population data with the cfips dataframe\n",
    "new_pop_df = pd.merge(cfips_df, pop_df, on='cfips', how='left')\n",
    "new_pop_df.head()"
   ]
  },
  {
   "cell_type": "code",
   "execution_count": 8,
   "metadata": {},
   "outputs": [
    {
     "data": {
      "text/plain": [
       "3142"
      ]
     },
     "execution_count": 8,
     "metadata": {},
     "output_type": "execute_result"
    }
   ],
   "source": [
    "new_pop_df['cfips'].nunique()"
   ]
  },
  {
   "cell_type": "code",
   "execution_count": 9,
   "metadata": {},
   "outputs": [],
   "source": [
    "# save the new population dataframe\n",
    "new_pop_df.to_csv('pop_and_5_10_yr_change.csv', index=False)"
   ]
  },
  {
   "cell_type": "code",
   "execution_count": null,
   "metadata": {},
   "outputs": [],
   "source": []
  }
 ],
 "metadata": {
  "kernelspec": {
   "display_name": "base",
   "language": "python",
   "name": "python3"
  },
  "language_info": {
   "codemirror_mode": {
    "name": "ipython",
    "version": 3
   },
   "file_extension": ".py",
   "mimetype": "text/x-python",
   "name": "python",
   "nbconvert_exporter": "python",
   "pygments_lexer": "ipython3",
   "version": "3.9.13"
  },
  "orig_nbformat": 4,
  "vscode": {
   "interpreter": {
    "hash": "b28cf175ec321772cb0f0d5814308bea2c301d2ca583d589ae1c20180bad7c90"
   }
  }
 },
 "nbformat": 4,
 "nbformat_minor": 2
}
