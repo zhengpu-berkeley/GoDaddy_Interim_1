{
 "cells": [
  {
   "cell_type": "code",
   "execution_count": 1,
   "metadata": {},
   "outputs": [],
   "source": [
    "import numpy as np\n",
    "import pickle\n",
    "import json"
   ]
  },
  {
   "attachments": {},
   "cell_type": "markdown",
   "metadata": {},
   "source": [
    "# Say for this block, we have 7 features. \n",
    "\n",
    "    Data shape: (47, N_FEATURE, 3142) == (47, 7, 3142) "
   ]
  },
  {
   "cell_type": "code",
   "execution_count": 2,
   "metadata": {},
   "outputs": [],
   "source": [
    "# random data block (3D)\n",
    "data = np.random.randn(47, 7, 3142)\n",
    "data.shape\n",
    "\n",
    "# data description\n",
    "data_description = {'feature_0' : 'random_feature_0',\n",
    "                    'feature_1' : 'random_feature_1',\n",
    "                    'feature_2' : 'random_feature_2',\n",
    "                    'feature_3' : 'random_feature_3',\n",
    "                    'feature_4' : 'random_feature_4',\n",
    "                    'feature_5' : 'random_feature_5',\n",
    "                    'feature_6' : 'random_feature_6',\n",
    "                    }"
   ]
  },
  {
   "cell_type": "code",
   "execution_count": 3,
   "metadata": {},
   "outputs": [],
   "source": [
    "data_name = 'fake_example'"
   ]
  },
  {
   "cell_type": "code",
   "execution_count": 4,
   "metadata": {},
   "outputs": [],
   "source": [
    "# save data in pickle format\n",
    "with open(f'BLOCKED_{data_name}_data.pkl', 'wb') as f:\n",
    "    pickle.dump(data, f)\n",
    "\n",
    "# save data in json format\n",
    "with open(f'BLOCKED_{data_name}_data_description.json', 'w') as f:\n",
    "    json.dump(data_description, f)\n"
   ]
  },
  {
   "cell_type": "code",
   "execution_count": 5,
   "metadata": {},
   "outputs": [],
   "source": [
    "# load data in pickle format\n",
    "with open(f'BLOCKED_{data_name}_data.pkl', 'rb') as f:\n",
    "    data_loaded = pickle.load(f)"
   ]
  },
  {
   "cell_type": "code",
   "execution_count": 6,
   "metadata": {},
   "outputs": [
    {
     "data": {
      "text/plain": [
       "(47, 7, 3142)"
      ]
     },
     "execution_count": 6,
     "metadata": {},
     "output_type": "execute_result"
    }
   ],
   "source": [
    "data_loaded.shape"
   ]
  },
  {
   "cell_type": "code",
   "execution_count": 7,
   "metadata": {},
   "outputs": [],
   "source": [
    "# load data description in json format\n",
    "with open(f'BLOCKED_{data_name}_data_description.json', 'r') as f:\n",
    "    data_description_loaded = json.load(f)"
   ]
  },
  {
   "cell_type": "code",
   "execution_count": 8,
   "metadata": {},
   "outputs": [
    {
     "data": {
      "text/plain": [
       "{'feature_0': 'random_feature_0',\n",
       " 'feature_1': 'random_feature_1',\n",
       " 'feature_2': 'random_feature_2',\n",
       " 'feature_3': 'random_feature_3',\n",
       " 'feature_4': 'random_feature_4',\n",
       " 'feature_5': 'random_feature_5',\n",
       " 'feature_6': 'random_feature_6'}"
      ]
     },
     "execution_count": 8,
     "metadata": {},
     "output_type": "execute_result"
    }
   ],
   "source": [
    "data_description_loaded"
   ]
  }
 ],
 "metadata": {
  "kernelspec": {
   "display_name": "base",
   "language": "python",
   "name": "python3"
  },
  "language_info": {
   "codemirror_mode": {
    "name": "ipython",
    "version": 3
   },
   "file_extension": ".py",
   "mimetype": "text/x-python",
   "name": "python",
   "nbconvert_exporter": "python",
   "pygments_lexer": "ipython3",
   "version": "3.9.13"
  },
  "orig_nbformat": 4,
  "vscode": {
   "interpreter": {
    "hash": "b28cf175ec321772cb0f0d5814308bea2c301d2ca583d589ae1c20180bad7c90"
   }
  }
 },
 "nbformat": 4,
 "nbformat_minor": 2
}
